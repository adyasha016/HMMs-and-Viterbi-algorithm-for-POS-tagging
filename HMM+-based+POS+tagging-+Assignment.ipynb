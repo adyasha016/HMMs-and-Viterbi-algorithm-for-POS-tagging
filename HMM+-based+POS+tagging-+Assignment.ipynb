{
 "cells": [
  {
   "cell_type": "markdown",
   "metadata": {},
   "source": [
    "## POS tagging using modified Viterbi"
   ]
  },
  {
   "cell_type": "markdown",
   "metadata": {},
   "source": [
    "**Goals:** \n",
    "#####   - To use the Vanilla Viterbi algorithm for assigning POS tags (i.e. without dealing with unknown words) \n",
    "    \n",
    "#####   - To Solve the problem of unknown words using at least two techniques by using modification techniques on the original vanilla Viterbi.\n",
    "    \n",
    "#####     - To Compare the tagging accuracy after making these modifications with the vanilla Viterbi algorithm.\n",
    "    \n",
    "#####     - To identify & List down at least three cases from the sample test file (i.e. unknown word-tag pairs) which were incorrectly tagged by the original Viterbi POS tagger and got corrected after your modifications."
   ]
  },
  {
   "cell_type": "markdown",
   "metadata": {},
   "source": [
    "### Data Preparation"
   ]
  },
  {
   "cell_type": "code",
   "execution_count": 1,
   "metadata": {},
   "outputs": [],
   "source": [
    "#Importing libraries\n",
    "import nltk\n",
    "import numpy as np\n",
    "import pandas as pd\n",
    "import requests\n",
    "import matplotlib.pyplot as plt\n",
    "import seaborn as sns\n",
    "import random\n",
    "from sklearn.model_selection import train_test_split\n",
    "from nltk.tokenize import word_tokenize"
   ]
  },
  {
   "cell_type": "code",
   "execution_count": 2,
   "metadata": {},
   "outputs": [],
   "source": [
    "# reading the Treebank tagged sentences\n",
    "nltk_data = list(nltk.corpus.treebank.tagged_sents(tagset='universal'))"
   ]
  },
  {
   "cell_type": "code",
   "execution_count": 3,
   "metadata": {},
   "outputs": [
    {
     "name": "stdout",
     "output_type": "stream",
     "text": [
      "[[('Pierre', 'NOUN'), ('Vinken', 'NOUN'), (',', '.'), ('61', 'NUM'), ('years', 'NOUN'), ('old', 'ADJ'), (',', '.'), ('will', 'VERB'), ('join', 'VERB'), ('the', 'DET'), ('board', 'NOUN'), ('as', 'ADP'), ('a', 'DET'), ('nonexecutive', 'ADJ'), ('director', 'NOUN'), ('Nov.', 'NOUN'), ('29', 'NUM'), ('.', '.')], [('Mr.', 'NOUN'), ('Vinken', 'NOUN'), ('is', 'VERB'), ('chairman', 'NOUN'), ('of', 'ADP'), ('Elsevier', 'NOUN'), ('N.V.', 'NOUN'), (',', '.'), ('the', 'DET'), ('Dutch', 'NOUN'), ('publishing', 'VERB'), ('group', 'NOUN'), ('.', '.')], [('Rudolph', 'NOUN'), ('Agnew', 'NOUN'), (',', '.'), ('55', 'NUM'), ('years', 'NOUN'), ('old', 'ADJ'), ('and', 'CONJ'), ('former', 'ADJ'), ('chairman', 'NOUN'), ('of', 'ADP'), ('Consolidated', 'NOUN'), ('Gold', 'NOUN'), ('Fields', 'NOUN'), ('PLC', 'NOUN'), (',', '.'), ('was', 'VERB'), ('named', 'VERB'), ('*-1', 'X'), ('a', 'DET'), ('nonexecutive', 'ADJ'), ('director', 'NOUN'), ('of', 'ADP'), ('this', 'DET'), ('British', 'ADJ'), ('industrial', 'ADJ'), ('conglomerate', 'NOUN'), ('.', '.')], [('A', 'DET'), ('form', 'NOUN'), ('of', 'ADP'), ('asbestos', 'NOUN'), ('once', 'ADV'), ('used', 'VERB'), ('*', 'X'), ('*', 'X'), ('to', 'PRT'), ('make', 'VERB'), ('Kent', 'NOUN'), ('cigarette', 'NOUN'), ('filters', 'NOUN'), ('has', 'VERB'), ('caused', 'VERB'), ('a', 'DET'), ('high', 'ADJ'), ('percentage', 'NOUN'), ('of', 'ADP'), ('cancer', 'NOUN'), ('deaths', 'NOUN'), ('among', 'ADP'), ('a', 'DET'), ('group', 'NOUN'), ('of', 'ADP'), ('workers', 'NOUN'), ('exposed', 'VERB'), ('*', 'X'), ('to', 'PRT'), ('it', 'PRON'), ('more', 'ADV'), ('than', 'ADP'), ('30', 'NUM'), ('years', 'NOUN'), ('ago', 'ADP'), (',', '.'), ('researchers', 'NOUN'), ('reported', 'VERB'), ('0', 'X'), ('*T*-1', 'X'), ('.', '.')], [('The', 'DET'), ('asbestos', 'NOUN'), ('fiber', 'NOUN'), (',', '.'), ('crocidolite', 'NOUN'), (',', '.'), ('is', 'VERB'), ('unusually', 'ADV'), ('resilient', 'ADJ'), ('once', 'ADP'), ('it', 'PRON'), ('enters', 'VERB'), ('the', 'DET'), ('lungs', 'NOUN'), (',', '.'), ('with', 'ADP'), ('even', 'ADV'), ('brief', 'ADJ'), ('exposures', 'NOUN'), ('to', 'PRT'), ('it', 'PRON'), ('causing', 'VERB'), ('symptoms', 'NOUN'), ('that', 'DET'), ('*T*-1', 'X'), ('show', 'VERB'), ('up', 'PRT'), ('decades', 'NOUN'), ('later', 'ADJ'), (',', '.'), ('researchers', 'NOUN'), ('said', 'VERB'), ('0', 'X'), ('*T*-2', 'X'), ('.', '.')]]\n"
     ]
    }
   ],
   "source": [
    "# Checking some of the tagged data\n",
    "print(nltk_data[:5])"
   ]
  },
  {
   "cell_type": "markdown",
   "metadata": {},
   "source": [
    "### Splitting into Train & Validation Sets"
   ]
  },
  {
   "cell_type": "code",
   "execution_count": 4,
   "metadata": {
    "scrolled": true
   },
   "outputs": [
    {
     "name": "stdout",
     "output_type": "stream",
     "text": [
      "Training Set Length - 3718\n",
      "Testing Set Length - 196\n",
      "----------------------------------------------------------------------------------------------------\n",
      "Training Data -\n",
      "\n",
      "[[('Another', 'DET'), ('concern', 'NOUN'), (':', '.'), ('The', 'DET'), ('funds', 'NOUN'), (\"'\", 'PRT'), ('share', 'NOUN'), ('prices', 'NOUN'), ('tend', 'VERB'), ('*-1', 'X'), ('to', 'PRT'), ('swing', 'VERB'), ('more', 'ADV'), ('than', 'ADP'), ('the', 'DET'), ('broader', 'ADJ'), ('market', 'NOUN'), ('.', '.')], [('U.S.', 'NOUN'), ('trade', 'NOUN'), ('negotiators', 'NOUN'), ('argue', 'VERB'), ('that', 'ADP'), ('countries', 'NOUN'), ('with', 'ADP'), ('inadequate', 'ADJ'), ('protections', 'NOUN'), ('for', 'ADP'), ('intellectual-property', 'ADJ'), ('rights', 'NOUN'), ('could', 'VERB'), ('be', 'VERB'), ('hurting', 'VERB'), ('themselves', 'PRON'), ('by', 'ADP'), ('*-1', 'X'), ('discouraging', 'VERB'), ('their', 'PRON'), ('own', 'ADJ'), ('scientists', 'NOUN'), ('and', 'CONJ'), ('authors', 'NOUN'), ('and', 'CONJ'), ('by', 'ADP'), ('*-1', 'X'), ('deterring', 'VERB'), ('U.S.', 'NOUN'), ('high-technology', 'NOUN'), ('firms', 'NOUN'), ('from', 'ADP'), ('*-2', 'X'), ('investing', 'VERB'), ('or', 'CONJ'), ('marketing', 'VERB'), ('their', 'PRON'), ('best', 'ADJ'), ('products', 'NOUN'), ('there', 'ADV'), ('.', '.')], [('``', '.'), ('We', 'PRON'), ('thought', 'VERB'), ('0', 'X'), ('it', 'PRON'), ('was', 'VERB'), ('awfully', 'ADV'), ('expensive', 'ADJ'), (',', '.'), (\"''\", '.'), ('said', 'VERB'), ('*T*-2', 'X'), ('Sterling', 'NOUN'), ('Pratt', 'NOUN'), (',', '.'), ('wine', 'NOUN'), ('director', 'NOUN'), ('at', 'ADP'), ('Schaefer', 'NOUN'), (\"'s\", 'PRT'), ('in', 'ADP'), ('Skokie', 'NOUN'), (',', '.'), ('Ill.', 'NOUN'), (',', '.'), ('one', 'NUM'), ('of', 'ADP'), ('the', 'DET'), ('top', 'ADJ'), ('stores', 'NOUN'), ('in', 'ADP'), ('suburban', 'ADJ'), ('Chicago', 'NOUN'), (',', '.'), ('``', '.'), ('but', 'CONJ'), ('there', 'DET'), ('are', 'VERB'), ('people', 'NOUN'), ('out', 'ADP'), ('there', 'ADV'), ('with', 'ADP'), ('very', 'ADV'), ('different', 'ADJ'), ('opinions', 'NOUN'), ('of', 'ADP'), ('value', 'NOUN'), ('.', '.')], [('An', 'DET'), ('exhibition', 'NOUN'), ('of', 'ADP'), ('American', 'ADJ'), ('design', 'NOUN'), ('and', 'CONJ'), ('architecture', 'NOUN'), ('opened', 'VERB'), ('in', 'ADP'), ('September', 'NOUN'), ('in', 'ADP'), ('Moscow', 'NOUN'), ('and', 'CONJ'), ('will', 'VERB'), ('travel', 'VERB'), ('to', 'PRT'), ('eight', 'NUM'), ('other', 'ADJ'), ('Soviet', 'ADJ'), ('cities', 'NOUN'), ('.', '.')], [('These', 'DET'), ('are', 'VERB'), ('the', 'DET'), ('main', 'ADJ'), ('proponents', 'NOUN'), ('of', 'ADP'), ('program', 'NOUN'), ('trading', 'NOUN'), ('.', '.')], [('``', '.'), ('I', 'PRON'), ('think', 'VERB'), ('0', 'X'), ('we', 'PRON'), (\"'ve\", 'VERB'), ('got', 'VERB'), ('enough', 'ADJ'), ('securities', 'NOUN'), ('laws', 'NOUN'), (',', '.'), (\"''\", '.'), ('he', 'PRON'), ('says', 'VERB'), ('*T*-1', 'X'), ('.', '.')], [('Although', 'ADP'), ('*-1', 'X'), ('started', 'VERB'), ('in', 'ADP'), ('1965', 'NUM'), (',', '.'), ('Wedtech', 'NOUN'), ('did', 'VERB'), (\"n't\", 'ADV'), ('really', 'ADV'), ('get', 'VERB'), ('*-1', 'X'), ('rolling', 'VERB'), ('until', 'ADP'), ('1975', 'NUM'), (',', '.'), ('when', 'ADV'), ('Mr.', 'NOUN'), ('Neuberger', 'NOUN'), ('discovered', 'VERB'), ('the', 'DET'), ('federal', 'ADJ'), ('government', 'NOUN'), (\"'s\", 'PRT'), ('Section', 'NOUN'), ('8', 'NUM'), ('-LRB-', '.'), ('A', 'NOUN'), ('-RRB-', '.'), ('minority', 'NOUN'), ('business', 'NOUN'), ('program', 'NOUN'), ('*T*-2', 'X'), ('.', '.')], [('In', 'ADP'), ('a', 'DET'), ('few', 'ADJ'), ('weeks', 'NOUN'), (',', '.'), ('many', 'ADJ'), ('barges', 'NOUN'), ('probably', 'ADV'), ('wo', 'VERB'), (\"n't\", 'ADV'), ('be', 'VERB'), ('able', 'ADJ'), ('*-2', 'X'), ('to', 'PRT'), ('operate', 'VERB'), ('fully', 'ADV'), ('loaded', 'VERB'), ('south', 'ADV'), ('of', 'ADP'), ('St.', 'NOUN'), ('Louis', 'NOUN'), ('because', 'ADP'), ('the', 'DET'), ('U.S.', 'NOUN'), ('Army', 'NOUN'), ('Corps', 'NOUN'), ('of', 'ADP'), ('Engineers', 'NOUN'), ('is', 'VERB'), ('beginning', 'VERB'), ('*-3', 'X'), ('to', 'PRT'), ('reduce', 'VERB'), ('the', 'DET'), ('flow', 'NOUN'), ('of', 'ADP'), ('the', 'DET'), ('Missouri', 'NOUN'), ('River', 'NOUN'), (',', '.'), ('which', 'DET'), ('*T*-1', 'X'), ('feeds', 'VERB'), ('into', 'ADP'), ('the', 'DET'), ('Mississippi', 'NOUN'), ('River', 'NOUN'), ('.', '.')], [('Ruth', 'NOUN'), ('K.', 'NOUN'), ('Nelson', 'NOUN'), ('Cullowhee', 'NOUN'), (',', '.'), ('N.C', 'NOUN'), ('.', '.')], [('The', 'DET'), ('Big', 'NOUN'), ('Board', 'NOUN'), (\"'s\", 'PRT'), ('directors', 'NOUN'), ('meet', 'VERB'), ('today', 'NOUN'), ('*-1', 'X'), ('to', 'PRT'), ('approve', 'VERB'), ('some', 'DET'), ('program-trading', 'ADJ'), ('restrictions', 'NOUN'), (',', '.'), ('but', 'CONJ'), ('a', 'DET'), ('total', 'ADJ'), ('ban', 'NOUN'), ('is', 'VERB'), (\"n't\", 'ADV'), ('being', 'VERB'), ('considered', 'VERB'), ('*-77', 'X'), (',', '.'), ('Big', 'NOUN'), ('Board', 'NOUN'), ('officials', 'NOUN'), ('say', 'VERB'), ('0', 'X'), ('*T*-2', 'X'), ('.', '.')]]\n"
     ]
    }
   ],
   "source": [
    "# Here we are splitting the data into training and validation set in the ratio 95:5. \n",
    "# We have named the validation set as 'test_set' over here.\n",
    "\n",
    "random.seed(1234)\n",
    "\n",
    "train_set, test_set = train_test_split(nltk_data, train_size=0.95, test_size=0.05)\n",
    "\n",
    "print(\"Training Set Length -\", len(train_set))\n",
    "print(\"Testing Set Length -\", len(test_set))\n",
    "print(\"-\" * 100)\n",
    "print(\"Training Data -\\n\")\n",
    "print(train_set[:10])"
   ]
  },
  {
   "cell_type": "code",
   "execution_count": 5,
   "metadata": {},
   "outputs": [
    {
     "data": {
      "text/plain": [
       "95646"
      ]
     },
     "execution_count": 5,
     "metadata": {},
     "output_type": "execute_result"
    }
   ],
   "source": [
    "# Check the list of tagged words in the training data i.e 'train_set'\n",
    "\n",
    "train_tagged_words = [tup for sent in train_set for tup in sent]\n",
    "len(train_tagged_words)"
   ]
  },
  {
   "cell_type": "code",
   "execution_count": 6,
   "metadata": {},
   "outputs": [
    {
     "data": {
      "text/plain": [
       "[('Another', 'DET'),\n",
       " ('concern', 'NOUN'),\n",
       " (':', '.'),\n",
       " ('The', 'DET'),\n",
       " ('funds', 'NOUN'),\n",
       " (\"'\", 'PRT'),\n",
       " ('share', 'NOUN'),\n",
       " ('prices', 'NOUN'),\n",
       " ('tend', 'VERB'),\n",
       " ('*-1', 'X')]"
      ]
     },
     "execution_count": 6,
     "metadata": {},
     "output_type": "execute_result"
    }
   ],
   "source": [
    "# Lets check some of the train_tagged words\n",
    "\n",
    "train_tagged_words[:10]"
   ]
  },
  {
   "cell_type": "code",
   "execution_count": 7,
   "metadata": {},
   "outputs": [
    {
     "name": "stdout",
     "output_type": "stream",
     "text": [
      "Train Tagged Words -  5030\n"
     ]
    }
   ],
   "source": [
    "test_tagged_words = [tup[0] for sent in test_set for tup in sent]\n",
    "print(\"Train Tagged Words - \", len(test_tagged_words))"
   ]
  },
  {
   "cell_type": "code",
   "execution_count": 8,
   "metadata": {},
   "outputs": [
    {
     "data": {
      "text/plain": [
       "['Another',\n",
       " 'concern',\n",
       " ':',\n",
       " 'The',\n",
       " 'funds',\n",
       " \"'\",\n",
       " 'share',\n",
       " 'prices',\n",
       " 'tend',\n",
       " '*-1']"
      ]
     },
     "execution_count": 8,
     "metadata": {},
     "output_type": "execute_result"
    }
   ],
   "source": [
    "# tokens in the train set - train_tagged_words\n",
    "train_tagged_tokens = [tag[0] for tag in train_tagged_words]\n",
    "train_tagged_tokens[:10]"
   ]
  },
  {
   "cell_type": "code",
   "execution_count": 9,
   "metadata": {},
   "outputs": [
    {
     "data": {
      "text/plain": [
       "['DET', 'NOUN', '.', 'DET', 'NOUN', 'PRT', 'NOUN', 'NOUN', 'VERB', 'X']"
      ]
     },
     "execution_count": 9,
     "metadata": {},
     "output_type": "execute_result"
    }
   ],
   "source": [
    "# POS tags for the tokens in the train ser:\n",
    "\n",
    "train_data_pos_tags = [pair[1] for pair in train_tagged_words]\n",
    "train_data_pos_tags[:10]"
   ]
  },
  {
   "cell_type": "code",
   "execution_count": 10,
   "metadata": {},
   "outputs": [],
   "source": [
    "# building the train vocabulary to a set\n",
    "training_vocabulary_set = set(train_tagged_tokens)"
   ]
  },
  {
   "cell_type": "code",
   "execution_count": 11,
   "metadata": {},
   "outputs": [],
   "source": [
    "# building the POS tags to a set\n",
    "training_pos_tag_set = set(train_data_pos_tags)"
   ]
  },
  {
   "cell_type": "code",
   "execution_count": 12,
   "metadata": {},
   "outputs": [
    {
     "name": "stdout",
     "output_type": "stream",
     "text": [
      "12\n"
     ]
    }
   ],
   "source": [
    "# let's check how many unique tags are present in training data\n",
    "print(len(training_pos_tag_set))"
   ]
  },
  {
   "cell_type": "code",
   "execution_count": 13,
   "metadata": {},
   "outputs": [
    {
     "name": "stdout",
     "output_type": "stream",
     "text": [
      "12028\n"
     ]
    }
   ],
   "source": [
    "# let's check how many words are present in vocabulary\n",
    "print(len(training_vocabulary_set))"
   ]
  },
  {
   "cell_type": "markdown",
   "metadata": {},
   "source": [
    "### Building the Vanilla Viterbi based POS tagger\n",
    "\n",
    "Plain HMM-based POS tagger is built using the Viterbi Heuristic and the performance is evaluated on the validation dataset.\n",
    "\n",
    "Before proceeding for the Viterbi Heuristic we write methods to calculate:\n",
    "\n",
    "1- Transition Probabilities\n",
    "2- Emission Probabilities"
   ]
  },
  {
   "cell_type": "markdown",
   "metadata": {},
   "source": [
    "####  Emission Probabilities Computation Method"
   ]
  },
  {
   "cell_type": "code",
   "execution_count": 14,
   "metadata": {},
   "outputs": [],
   "source": [
    "def word_given_tag(word, tag, train_bag = train_tagged_words):\n",
    "    tag_list = [pair for pair in train_bag if pair[1] == tag]\n",
    "    tag_count = len(tag_list)    \n",
    "    word_given_tag_list = [pair[0] for pair in tag_list if pair[0] == word]    \n",
    "    word_given_tag_count = len(word_given_tag_list)    \n",
    "    \n",
    "    return (word_given_tag_count, tag_count)"
   ]
  },
  {
   "cell_type": "markdown",
   "metadata": {},
   "source": [
    "####  Transition Probabilities Computation Method"
   ]
  },
  {
   "cell_type": "code",
   "execution_count": 15,
   "metadata": {},
   "outputs": [],
   "source": [
    "# Method to compute the transition probabilities of the previous and next tag\n",
    "def t2_given_t1(t2, t1, train_bag = train_tagged_words):\n",
    "    tags = [pair[1] for pair in train_bag]\n",
    "    \n",
    "    t1_tags_list = [tag for tag in tags if tag == t1]\n",
    "    t1_tags_count = len(t1_tags_list)\n",
    "    \n",
    "    t2_given_t1_list = [tags[index+1] for index in range(len(tags)-1) if tags[index] == t1 and tags[index+1] == t2]\n",
    "    t2_given_t1_count = len(t2_given_t1_list)\n",
    "    \n",
    "    return(t2_given_t1_count, t1_tags_count)"
   ]
  },
  {
   "cell_type": "markdown",
   "metadata": {},
   "source": [
    "#### Transition Matrix   \n",
    "    \n",
    "    -First we compute the P(w/t) and store it in [Tags x Vocabulary] matrix of dimension of len(training_pos_tag_set) X en(training_vocabulary_set)\n",
    "    \n",
    "    -Next we create 't x t' transition matrix called as 'tags_matrix' of training_pos_tag_set   \n",
    "    \n",
    "    -Also the matrix is converted to a dataframe for better readability as below."
   ]
  },
  {
   "cell_type": "code",
   "execution_count": 16,
   "metadata": {},
   "outputs": [],
   "source": [
    "len_pos_tags = len(training_pos_tag_set)\n",
    "len_vocab = len(training_vocabulary_set)"
   ]
  },
  {
   "cell_type": "code",
   "execution_count": 17,
   "metadata": {},
   "outputs": [],
   "source": [
    "# Each column is t2, each row is t1, thus M(i, j) represents P(tj given ti)\n",
    "\n",
    "tags_matrix = np.zeros((len_pos_tags, len_pos_tags), dtype='float32')\n",
    "for i, t1 in enumerate(list(training_pos_tag_set)):\n",
    "    for j, t2 in enumerate(list(training_pos_tag_set)): \n",
    "        tags_matrix[i, j] = t2_given_t1(t2, t1)[0]/t2_given_t1(t2, t1)[1]"
   ]
  },
  {
   "cell_type": "code",
   "execution_count": 18,
   "metadata": {},
   "outputs": [],
   "source": [
    "tags_df = pd.DataFrame(tags_matrix, columns = list(training_pos_tag_set), index=list(training_pos_tag_set))"
   ]
  },
  {
   "cell_type": "code",
   "execution_count": 19,
   "metadata": {},
   "outputs": [
    {
     "data": {
      "text/html": [
       "<div>\n",
       "<style scoped>\n",
       "    .dataframe tbody tr th:only-of-type {\n",
       "        vertical-align: middle;\n",
       "    }\n",
       "\n",
       "    .dataframe tbody tr th {\n",
       "        vertical-align: top;\n",
       "    }\n",
       "\n",
       "    .dataframe thead th {\n",
       "        text-align: right;\n",
       "    }\n",
       "</style>\n",
       "<table border=\"1\" class=\"dataframe\">\n",
       "  <thead>\n",
       "    <tr style=\"text-align: right;\">\n",
       "      <th></th>\n",
       "      <th>DET</th>\n",
       "      <th>VERB</th>\n",
       "      <th>PRON</th>\n",
       "      <th>ADV</th>\n",
       "      <th>ADJ</th>\n",
       "      <th>PRT</th>\n",
       "      <th>CONJ</th>\n",
       "      <th>X</th>\n",
       "      <th>NOUN</th>\n",
       "      <th>ADP</th>\n",
       "      <th>NUM</th>\n",
       "      <th>.</th>\n",
       "    </tr>\n",
       "  </thead>\n",
       "  <tbody>\n",
       "    <tr>\n",
       "      <td>DET</td>\n",
       "      <td>0.005424</td>\n",
       "      <td>0.040497</td>\n",
       "      <td>0.003736</td>\n",
       "      <td>0.013017</td>\n",
       "      <td>0.205134</td>\n",
       "      <td>0.000241</td>\n",
       "      <td>0.000482</td>\n",
       "      <td>0.046161</td>\n",
       "      <td>0.636013</td>\n",
       "      <td>0.009280</td>\n",
       "      <td>0.022659</td>\n",
       "      <td>0.017356</td>\n",
       "    </tr>\n",
       "    <tr>\n",
       "      <td>VERB</td>\n",
       "      <td>0.133560</td>\n",
       "      <td>0.169304</td>\n",
       "      <td>0.035745</td>\n",
       "      <td>0.081526</td>\n",
       "      <td>0.064695</td>\n",
       "      <td>0.031576</td>\n",
       "      <td>0.005481</td>\n",
       "      <td>0.217633</td>\n",
       "      <td>0.110631</td>\n",
       "      <td>0.091639</td>\n",
       "      <td>0.023083</td>\n",
       "      <td>0.035127</td>\n",
       "    </tr>\n",
       "    <tr>\n",
       "      <td>PRON</td>\n",
       "      <td>0.009985</td>\n",
       "      <td>0.487711</td>\n",
       "      <td>0.007296</td>\n",
       "      <td>0.034178</td>\n",
       "      <td>0.072197</td>\n",
       "      <td>0.011905</td>\n",
       "      <td>0.004992</td>\n",
       "      <td>0.092550</td>\n",
       "      <td>0.208525</td>\n",
       "      <td>0.023425</td>\n",
       "      <td>0.007296</td>\n",
       "      <td>0.039939</td>\n",
       "    </tr>\n",
       "    <tr>\n",
       "      <td>ADV</td>\n",
       "      <td>0.068520</td>\n",
       "      <td>0.344257</td>\n",
       "      <td>0.015558</td>\n",
       "      <td>0.079775</td>\n",
       "      <td>0.128765</td>\n",
       "      <td>0.014234</td>\n",
       "      <td>0.007613</td>\n",
       "      <td>0.023171</td>\n",
       "      <td>0.031778</td>\n",
       "      <td>0.118835</td>\n",
       "      <td>0.031447</td>\n",
       "      <td>0.136048</td>\n",
       "    </tr>\n",
       "    <tr>\n",
       "      <td>ADJ</td>\n",
       "      <td>0.004912</td>\n",
       "      <td>0.011790</td>\n",
       "      <td>0.000655</td>\n",
       "      <td>0.004421</td>\n",
       "      <td>0.067627</td>\n",
       "      <td>0.010480</td>\n",
       "      <td>0.016702</td>\n",
       "      <td>0.020796</td>\n",
       "      <td>0.698870</td>\n",
       "      <td>0.077452</td>\n",
       "      <td>0.021287</td>\n",
       "      <td>0.065007</td>\n",
       "    </tr>\n",
       "    <tr>\n",
       "      <td>PRT</td>\n",
       "      <td>0.100000</td>\n",
       "      <td>0.403583</td>\n",
       "      <td>0.017590</td>\n",
       "      <td>0.010098</td>\n",
       "      <td>0.084365</td>\n",
       "      <td>0.001303</td>\n",
       "      <td>0.002280</td>\n",
       "      <td>0.013355</td>\n",
       "      <td>0.245928</td>\n",
       "      <td>0.020847</td>\n",
       "      <td>0.057003</td>\n",
       "      <td>0.043648</td>\n",
       "    </tr>\n",
       "    <tr>\n",
       "      <td>CONJ</td>\n",
       "      <td>0.119202</td>\n",
       "      <td>0.158163</td>\n",
       "      <td>0.058442</td>\n",
       "      <td>0.056122</td>\n",
       "      <td>0.118275</td>\n",
       "      <td>0.004638</td>\n",
       "      <td>0.000464</td>\n",
       "      <td>0.008349</td>\n",
       "      <td>0.346475</td>\n",
       "      <td>0.054731</td>\n",
       "      <td>0.041744</td>\n",
       "      <td>0.033395</td>\n",
       "    </tr>\n",
       "    <tr>\n",
       "      <td>X</td>\n",
       "      <td>0.054170</td>\n",
       "      <td>0.205083</td>\n",
       "      <td>0.055123</td>\n",
       "      <td>0.025735</td>\n",
       "      <td>0.017156</td>\n",
       "      <td>0.186815</td>\n",
       "      <td>0.010326</td>\n",
       "      <td>0.074186</td>\n",
       "      <td>0.061477</td>\n",
       "      <td>0.143924</td>\n",
       "      <td>0.002859</td>\n",
       "      <td>0.163145</td>\n",
       "    </tr>\n",
       "    <tr>\n",
       "      <td>NOUN</td>\n",
       "      <td>0.013501</td>\n",
       "      <td>0.147744</td>\n",
       "      <td>0.004720</td>\n",
       "      <td>0.017050</td>\n",
       "      <td>0.012111</td>\n",
       "      <td>0.044016</td>\n",
       "      <td>0.042699</td>\n",
       "      <td>0.029527</td>\n",
       "      <td>0.263181</td>\n",
       "      <td>0.177125</td>\n",
       "      <td>0.009476</td>\n",
       "      <td>0.238850</td>\n",
       "    </tr>\n",
       "    <tr>\n",
       "      <td>ADP</td>\n",
       "      <td>0.325718</td>\n",
       "      <td>0.008434</td>\n",
       "      <td>0.067898</td>\n",
       "      <td>0.013665</td>\n",
       "      <td>0.107505</td>\n",
       "      <td>0.001388</td>\n",
       "      <td>0.000747</td>\n",
       "      <td>0.033629</td>\n",
       "      <td>0.321768</td>\n",
       "      <td>0.017295</td>\n",
       "      <td>0.062133</td>\n",
       "      <td>0.039821</td>\n",
       "    </tr>\n",
       "    <tr>\n",
       "      <td>NUM</td>\n",
       "      <td>0.002973</td>\n",
       "      <td>0.018728</td>\n",
       "      <td>0.001486</td>\n",
       "      <td>0.002378</td>\n",
       "      <td>0.032996</td>\n",
       "      <td>0.026457</td>\n",
       "      <td>0.013674</td>\n",
       "      <td>0.207491</td>\n",
       "      <td>0.352556</td>\n",
       "      <td>0.035969</td>\n",
       "      <td>0.186980</td>\n",
       "      <td>0.118312</td>\n",
       "    </tr>\n",
       "    <tr>\n",
       "      <td>.</td>\n",
       "      <td>0.173540</td>\n",
       "      <td>0.089432</td>\n",
       "      <td>0.067052</td>\n",
       "      <td>0.052703</td>\n",
       "      <td>0.045664</td>\n",
       "      <td>0.002346</td>\n",
       "      <td>0.058659</td>\n",
       "      <td>0.027886</td>\n",
       "      <td>0.219475</td>\n",
       "      <td>0.090064</td>\n",
       "      <td>0.079415</td>\n",
       "      <td>0.093674</td>\n",
       "    </tr>\n",
       "  </tbody>\n",
       "</table>\n",
       "</div>"
      ],
      "text/plain": [
       "           DET      VERB      PRON       ADV       ADJ       PRT      CONJ  \\\n",
       "DET   0.005424  0.040497  0.003736  0.013017  0.205134  0.000241  0.000482   \n",
       "VERB  0.133560  0.169304  0.035745  0.081526  0.064695  0.031576  0.005481   \n",
       "PRON  0.009985  0.487711  0.007296  0.034178  0.072197  0.011905  0.004992   \n",
       "ADV   0.068520  0.344257  0.015558  0.079775  0.128765  0.014234  0.007613   \n",
       "ADJ   0.004912  0.011790  0.000655  0.004421  0.067627  0.010480  0.016702   \n",
       "PRT   0.100000  0.403583  0.017590  0.010098  0.084365  0.001303  0.002280   \n",
       "CONJ  0.119202  0.158163  0.058442  0.056122  0.118275  0.004638  0.000464   \n",
       "X     0.054170  0.205083  0.055123  0.025735  0.017156  0.186815  0.010326   \n",
       "NOUN  0.013501  0.147744  0.004720  0.017050  0.012111  0.044016  0.042699   \n",
       "ADP   0.325718  0.008434  0.067898  0.013665  0.107505  0.001388  0.000747   \n",
       "NUM   0.002973  0.018728  0.001486  0.002378  0.032996  0.026457  0.013674   \n",
       ".     0.173540  0.089432  0.067052  0.052703  0.045664  0.002346  0.058659   \n",
       "\n",
       "             X      NOUN       ADP       NUM         .  \n",
       "DET   0.046161  0.636013  0.009280  0.022659  0.017356  \n",
       "VERB  0.217633  0.110631  0.091639  0.023083  0.035127  \n",
       "PRON  0.092550  0.208525  0.023425  0.007296  0.039939  \n",
       "ADV   0.023171  0.031778  0.118835  0.031447  0.136048  \n",
       "ADJ   0.020796  0.698870  0.077452  0.021287  0.065007  \n",
       "PRT   0.013355  0.245928  0.020847  0.057003  0.043648  \n",
       "CONJ  0.008349  0.346475  0.054731  0.041744  0.033395  \n",
       "X     0.074186  0.061477  0.143924  0.002859  0.163145  \n",
       "NOUN  0.029527  0.263181  0.177125  0.009476  0.238850  \n",
       "ADP   0.033629  0.321768  0.017295  0.062133  0.039821  \n",
       "NUM   0.207491  0.352556  0.035969  0.186980  0.118312  \n",
       ".     0.027886  0.219475  0.090064  0.079415  0.093674  "
      ]
     },
     "execution_count": 19,
     "metadata": {},
     "output_type": "execute_result"
    }
   ],
   "source": [
    "tags_df"
   ]
  },
  {
   "cell_type": "markdown",
   "metadata": {},
   "source": [
    "### EXPLORATORY DATA ANALYSIS \n",
    "\n",
    "    -Here for EDA purpose heatmap of tags matrix is created and analysed.\n",
    "    \n",
    "    -NOTE:  T(i, j) means P(tag j given tag i)"
   ]
  },
  {
   "cell_type": "code",
   "execution_count": 20,
   "metadata": {},
   "outputs": [
    {
     "data": {
      "image/png": "[encoded data removed]",
      "text/plain": [
       "<Figure size 1080x720 with 2 Axes>"
      ]
     },
     "metadata": {
      "needs_background": "light"
     },
     "output_type": "display_data"
    }
   ],
   "source": [
    "plt.figure(figsize=(15, 10))\n",
    "sns.heatmap(tags_df, annot = True,cmap=\"icefire\")\n",
    "plt.show()"
   ]
  },
  {
   "cell_type": "code",
   "execution_count": 21,
   "metadata": {},
   "outputs": [],
   "source": [
    "#Checking the frequent tags "
   ]
  },
  {
   "cell_type": "code",
   "execution_count": 22,
   "metadata": {},
   "outputs": [
    {
     "data": {
      "image/png": "[encoded data removed]",
      "text/plain": [
       "<Figure size 1080x720 with 2 Axes>"
      ]
     },
     "metadata": {
      "needs_background": "light"
     },
     "output_type": "display_data"
    }
   ],
   "source": [
    "# filter the df to get P(t2, t1) > 0.5\n",
    "tags_frequent = tags_df[tags_df>0.5]\n",
    "plt.figure(figsize=(15, 10))\n",
    "sns.heatmap(tags_frequent, annot = True,cmap=\"icefire\")\n",
    "plt.show()"
   ]
  },
  {
   "cell_type": "markdown",
   "metadata": {},
   "source": [
    "## Build the Vanilla Viterbi based POS tagger"
   ]
  },
  {
   "cell_type": "markdown",
   "metadata": {},
   "source": [
    "### Vanilla Viterbi Heuristic Method"
   ]
  },
  {
   "cell_type": "code",
   "execution_count": 23,
   "metadata": {},
   "outputs": [],
   "source": [
    "def Vanilla_Viterbi(words, train_bag = train_tagged_words):\n",
    "    state = []\n",
    "    T = list(set([pair[1] for pair in train_bag]))\n",
    "    \n",
    "    for key, word in enumerate(words):\n",
    "        #initialise list of probability column for a given observation\n",
    "        p = [] \n",
    "        for tag in T:\n",
    "            if key == 0:\n",
    "                transition_p = tags_df.loc['.', tag]\n",
    "            else:\n",
    "                transition_p = tags_df.loc[state[-1], tag]\n",
    "                \n",
    "            # compute emission and state probabilities\n",
    "            emission_p = word_given_tag(words[key], tag)[0]/word_given_tag(words[key], tag)[1]\n",
    "            state_probability = emission_p * transition_p    \n",
    "            p.append(state_probability)\n",
    "            \n",
    "        pmax = max(p)\n",
    "        # getting state for which probability is maximum\n",
    "        state_max = T[p.index(pmax)] \n",
    "        state.append(state_max)\n",
    "    return list(zip(words, state))"
   ]
  },
  {
   "cell_type": "markdown",
   "metadata": {},
   "source": [
    "#### Testing Vanilla Viterbi Algorithm on sampled test data\n",
    "\n",
    "    1- First we create a list of tagged words\n",
    "    2- Then we create a list of untagged words\n",
    "    3- The test sequences are tagged using Vanilla Viterbi method\n",
    "    4- Then we check the accuracy using vanilla viterbi method\n",
    "    5- Also the number of total incorrect tagged words are checked"
   ]
  },
  {
   "cell_type": "code",
   "execution_count": 24,
   "metadata": {},
   "outputs": [],
   "source": [
    "random.seed(1234)\n",
    "\n",
    "# list of tagged words\n",
    "test_run_base = [tup for sent in test_set for tup in sent]\n",
    "\n",
    "# list of untagged words\n",
    "test_tagged_words = [tup[0] for sent in test_set for tup in sent]"
   ]
  },
  {
   "cell_type": "code",
   "execution_count": 25,
   "metadata": {},
   "outputs": [],
   "source": [
    "# tagging the test sentences\n",
    "\n",
    "tagged_seq = Vanilla_Viterbi(test_tagged_words)"
   ]
  },
  {
   "cell_type": "code",
   "execution_count": 26,
   "metadata": {},
   "outputs": [
    {
     "name": "stdout",
     "output_type": "stream",
     "text": [
      "The Accuracy of the Vanilla Viterbi Algorithm is :  0.8958250497017892\n"
     ]
    }
   ],
   "source": [
    "# Checking the accuracy \n",
    "\n",
    "check = [i for i, j in zip(tagged_seq, test_run_base) if i == j]\n",
    "\n",
    "vanilla_viterbi_accuracy = len(check)/len(tagged_seq)\n",
    "\n",
    "print(\"The Accuracy of the Vanilla Viterbi Algorithm is : \", vanilla_viterbi_accuracy)"
   ]
  },
  {
   "cell_type": "code",
   "execution_count": 27,
   "metadata": {
    "scrolled": true
   },
   "outputs": [
    {
     "name": "stdout",
     "output_type": "stream",
     "text": [
      "Total Incorrect Tagged Words : 524\n",
      "\n",
      "\n",
      "Incorrectly Tagged Words are as follow : \n",
      "\n",
      " [(('definitive', 'DET'), ('definitive', 'ADJ')), (('ancestry', 'DET'), ('ancestry', 'NOUN')), (('born', 'DET'), ('born', 'VERB')), (('Puerto', 'DET'), ('Puerto', 'NOUN')), (('Rico', 'DET'), ('Rico', 'NOUN')), (('much', 'ADV'), ('much', 'ADJ')), (('print', 'VERB'), ('print', 'NOUN')), (('FAX', 'DET'), ('FAX', 'NOUN')), (('more', 'ADV'), ('more', 'ADJ')), (('open', 'VERB'), ('open', 'ADJ')), (('blue-chips', 'DET'), ('blue-chips', 'NOUN')), (('bearing', 'NOUN'), ('bearing', 'VERB')), (('brunt', 'DET'), ('brunt', 'NOUN')), (('steal', 'DET'), ('steal', 'VERB')), (('discordant', 'DET'), ('discordant', 'ADJ')), (('*-135', 'DET'), ('*-135', 'X')), (('church-goers', 'DET'), ('church-goers', 'NOUN')), (('enjoying', 'DET'), ('enjoying', 'VERB')), (('cool', 'DET'), ('cool', 'ADJ')), (('7.79', 'DET'), ('7.79', 'NUM')), (('7.52', 'DET'), ('7.52', 'NUM')), (('7.60', 'DET'), ('7.60', 'NUM')), (('oversight', 'DET'), ('oversight', 'NOUN')), (('MERRILL', 'DET'), ('MERRILL', 'NOUN')), (('LYNCH', 'DET'), ('LYNCH', 'NOUN')), (('READY', 'DET'), ('READY', 'NOUN')), (('ASSETS', 'DET'), ('ASSETS', 'NOUN')), (('TRUST', 'DET'), ('TRUST', 'NOUN')), (('8.64', 'DET'), ('8.64', 'NUM')), (('Productions', 'DET'), ('Productions', 'NOUN')), (('return', 'VERB'), ('return', 'NOUN')), (('154.2', 'DET'), ('154.2', 'NUM')), (('categories', 'DET'), ('categories', 'NOUN')), (('down', 'ADV'), ('down', 'PRT')), (('because', 'ADP'), ('because', 'ADV')), (('potential', 'ADJ'), ('potential', 'NOUN')), (('injury', 'DET'), ('injury', 'NOUN')), (('unraveling', 'DET'), ('unraveling', 'NOUN')), (('profit', 'NOUN'), ('profit', 'VERB')), (('fleeting', 'DET'), ('fleeting', 'ADJ')), (('Policy', 'DET'), ('Policy', 'NOUN')), (('limit', 'NOUN'), ('limit', 'VERB')), (('lately', 'DET'), ('lately', 'ADV')), (('touted', 'DET'), ('touted', 'VERB')), (('as', 'ADP'), ('as', 'ADV')), (('impart', 'DET'), ('impart', 'VERB')), (('skills', 'DET'), ('skills', 'NOUN')), (('entrants', 'DET'), ('entrants', 'NOUN')), (('reaping', 'DET'), ('reaping', 'VERB')), (('windfall', 'DET'), ('windfall', 'NOUN')), ((\"'\", 'PRT'), (\"'\", '.')), (('preferred', 'ADJ'), ('preferred', 'VERB')), (('count', 'DET'), ('count', 'NOUN')), (('Chinchon', 'DET'), ('Chinchon', 'NOUN')), (('diversifying', 'DET'), ('diversifying', 'VERB')), (('777', 'DET'), ('777', 'NUM')), (('trivial', 'DET'), ('trivial', 'ADJ')), (('habit', 'DET'), ('habit', 'NOUN')), (('smothering', 'DET'), ('smothering', 'VERB')), (('kindness', 'DET'), ('kindness', 'NOUN')), (('Westborough', 'DET'), ('Westborough', 'NOUN')), (('2.29', 'DET'), ('2.29', 'NUM')), (('2.25', 'DET'), ('2.25', 'NUM')), (('worth', 'ADJ'), ('worth', 'ADP')), (('reopened', 'DET'), ('reopened', 'VERB')), (('subsequent', 'DET'), ('subsequent', 'ADJ')), (('flood', 'DET'), ('flood', 'NOUN')), (('that', 'ADP'), ('that', 'DET')), (('*T*-211', 'DET'), ('*T*-211', 'X')), (('knocked', 'DET'), ('knocked', 'VERB')), (('down', 'ADP'), ('down', 'PRT')), (('30-point', 'DET'), ('30-point', 'ADJ')), (('intermediate', 'DET'), ('intermediate', 'ADJ')), (('*-128', 'DET'), ('*-128', 'X')), (('*-128', 'DET'), ('*-128', 'X')), (('synchronized', 'DET'), ('synchronized', 'VERB')), (('Nuys', 'DET'), ('Nuys', 'NOUN')), (('132,000', 'DET'), ('132,000', 'NUM')), ((\"'s\", 'PRT'), (\"'s\", 'VERB')), (('frenzy', 'DET'), ('frenzy', 'NOUN')), (('right', 'NOUN'), ('right', 'ADV')), (('trading', 'NOUN'), ('trading', 'VERB')), (('underlying', 'VERB'), ('underlying', 'ADJ')), (('deregulation', 'DET'), ('deregulation', 'NOUN')), (('that', 'ADP'), ('that', 'DET')), (('*T*-200', 'DET'), ('*T*-200', 'X')), (('beverage', 'DET'), ('beverage', 'NOUN')), (('stands', 'VERB'), ('stands', 'NOUN')), (('resembles', 'DET'), ('resembles', 'VERB')), (('loops', 'DET'), ('loops', 'NOUN')), (('beer', 'DET'), ('beer', 'NOUN')), (('loops', 'DET'), ('loops', 'NOUN')), (('web', 'DET'), ('web', 'NOUN')), (('interested', 'ADJ'), ('interested', 'VERB')), (('*-114', 'DET'), ('*-114', 'X')), (('down', 'ADV'), ('down', 'ADP')), (('erode', 'DET'), ('erode', 'VERB')), (('powerhouse', 'DET'), ('powerhouse', 'NOUN')), (('Gottlieb', 'DET'), ('Gottlieb', 'NOUN')), (('Yorker', 'DET'), ('Yorker', 'NOUN')), (('growing', 'VERB'), ('growing', 'ADJ')), (('behavior', 'DET'), ('behavior', 'NOUN')), (('defined', 'DET'), ('defined', 'VERB')), (('denominator', 'DET'), ('denominator', 'NOUN')), (('one', 'NUM'), ('one', 'NOUN')), (('up', 'ADV'), ('up', 'PRT')), (('marbles', 'DET'), ('marbles', 'NOUN')), (('home', 'NOUN'), ('home', 'ADV')), (('64.5', 'DET'), ('64.5', 'NUM')), (('I', 'PRON'), ('I', 'NOUN')), (('*-33', 'DET'), ('*-33', 'X')), (('garage', 'DET'), ('garage', 'NOUN')), (('Wozniak', 'DET'), ('Wozniak', 'NOUN')), (('Jobs', 'DET'), ('Jobs', 'NOUN')), (('hobbyists', 'DET'), ('hobbyists', 'NOUN')), (('Homebrew', 'DET'), ('Homebrew', 'NOUN')), (('Club', 'DET'), ('Club', 'NOUN')), (('direct-mail', 'DET'), ('direct-mail', 'ADJ')), (('marketers', 'DET'), ('marketers', 'NOUN')), (('so', 'ADV'), ('so', 'ADP')), (('forces', 'VERB'), ('forces', 'NOUN')), (('direct-mail', 'DET'), ('direct-mail', 'ADJ')), (('capability', 'DET'), ('capability', 'NOUN')), (('disapprove', 'DET'), ('disapprove', 'VERB')), (('spouse', 'DET'), ('spouse', 'NOUN')), (('66.5', 'DET'), ('66.5', 'NUM')), (('subskills', 'DET'), ('subskills', 'NOUN')), (('reaped', 'DET'), ('reaped', 'VERB')), (('purchasing', 'NOUN'), ('purchasing', 'VERB')), (('better', 'ADV'), ('better', 'ADJ')), (('export', 'VERB'), ('export', 'NOUN')), (('Macheski', 'DET'), ('Macheski', 'NOUN')), (('Wilton', 'DET'), ('Wilton', 'NOUN')), (('*T*-120', 'DET'), ('*T*-120', 'X')), (('light', 'ADJ'), ('light', 'NOUN')), (('Asher', 'DET'), ('Asher', 'NOUN')), (('16.2', 'DET'), ('16.2', 'NUM')), (('run', 'VERB'), ('run', 'NOUN')), (('computer-services', 'DET'), ('computer-services', 'NOUN')), (('desperately', 'DET'), ('desperately', 'ADV')), (('*T*-93', 'DET'), ('*T*-93', 'X')), (('cared', 'DET'), ('cared', 'VERB')), (('*T*-94', 'DET'), ('*T*-94', 'X')), (('repeatedly', 'DET'), ('repeatedly', 'ADV')), (('on', 'ADP'), ('on', 'PRT')), (('there', 'DET'), ('there', 'ADV')), (('Angelo', 'DET'), ('Angelo', 'NOUN')), (('Gaja', 'DET'), ('Gaja', 'NOUN')), (('Barbaresco', 'DET'), ('Barbaresco', 'NOUN')), (('Piero', 'DET'), ('Piero', 'NOUN')), (('Antinori', 'DET'), ('Antinori', 'NOUN')), ((\"'s\", 'VERB'), (\"'s\", 'PRT')), (('Solaia', 'DET'), ('Solaia', 'NOUN')), (('depository', 'DET'), ('depository', 'NOUN')), (('Bucking', 'DET'), ('Bucking', 'VERB')), (('drew', 'DET'), ('drew', 'VERB')), (('Borough', 'DET'), ('Borough', 'NOUN')), (('up', 'ADV'), ('up', 'PRT')), (('emerged', 'DET'), ('emerged', 'VERB')), (('muscling', 'DET'), ('muscling', 'VERB')), (('out', 'ADP'), ('out', 'PRT')), (('subskills', 'DET'), ('subskills', 'NOUN')), (('the', 'DET'), ('the', 'ADJ')), (('symmetry', 'DET'), ('symmetry', 'NOUN')), (('geometrical', 'DET'), ('geometrical', 'ADJ')), (('measurement', 'DET'), ('measurement', 'NOUN')), (('pie', 'DET'), ('pie', 'NOUN')), (('graphs', 'DET'), ('graphs', 'NOUN')), (('are', 'VERB'), ('are', 'NOUN')), (('kits', 'DET'), ('kits', 'NOUN')), (('replicate', 'DET'), ('replicate', 'VERB')), (('familiarization', 'DET'), ('familiarization', 'NOUN')), (('Silicon', 'DET'), ('Silicon', 'NOUN')), (('*-119', 'DET'), ('*-119', 'X')), (('trading-company', 'DET'), ('trading-company', 'NOUN')), (('Occidental', 'DET'), ('Occidental', 'NOUN')), (('shelf', 'DET'), ('shelf', 'NOUN')), (('Areas', 'DET'), ('Areas', 'NOUN')), (('dusty', 'DET'), ('dusty', 'ADJ')), (('following', 'VERB'), ('following', 'NOUN')), (('Fishman', 'DET'), ('Fishman', 'NOUN')), (('Longwood', 'DET'), ('Longwood', 'NOUN')), (('Floyd', 'DET'), ('Floyd', 'NOUN')), (('Amin', 'DET'), ('Amin', 'NOUN')), (('Jalaalwalikraam', 'DET'), ('Jalaalwalikraam', 'NOUN')), (('Glenham', 'DET'), ('Glenham', 'NOUN')), (('Knapp', 'DET'), ('Knapp', 'NOUN')), (('Deborah', 'DET'), ('Deborah', 'NOUN')), (('Renee', 'DET'), ('Renee', 'NOUN')), (('Muscolina', 'DET'), ('Muscolina', 'NOUN')), (('Palisades', 'DET'), ('Palisades', 'NOUN')), (('Najarian', 'DET'), ('Najarian', 'NOUN')), (('Minn.', 'DET'), ('Minn.', 'NOUN')), (('Norwick', 'DET'), ('Norwick', 'NOUN')), (('Nesconset', 'DET'), ('Nesconset', 'NOUN')), (('compositions', 'DET'), ('compositions', 'NOUN')), (('defects', 'DET'), ('defects', 'NOUN')), (('public', 'ADJ'), ('public', 'NOUN')), (('net', 'ADJ'), ('net', 'NOUN')), (('ROGERS', 'DET'), ('ROGERS', 'NOUN')), (('COMMUNICATIONS', 'DET'), ('COMMUNICATIONS', 'NOUN')), (('148.9', 'DET'), ('148.9', 'NUM')), (('153.3', 'DET'), ('153.3', 'NUM')), (('perpetual', 'DET'), ('perpetual', 'ADJ')), (('preferred', 'ADJ'), ('preferred', 'VERB')), (('Intermec', 'DET'), ('Intermec', 'NOUN')), (('offering', 'NOUN'), ('offering', 'VERB')), (('1,050,000', 'DET'), ('1,050,000', 'NUM')), (('Piper', 'DET'), ('Piper', 'NOUN')), (('Jaffray', 'DET'), ('Jaffray', 'NOUN')), (('Hopwood', 'DET'), ('Hopwood', 'NOUN')), (('gallium', 'DET'), ('gallium', 'NOUN')), (('arsenide', 'DET'), ('arsenide', 'NOUN')), (('minute', 'NOUN'), ('minute', 'ADJ')), (('robotic', 'DET'), ('robotic', 'ADJ')), (('like', 'ADP'), ('like', 'VERB')), (('scams', 'DET'), ('scams', 'NOUN')), (('show', 'NOUN'), ('show', 'VERB')), (('much', 'ADV'), ('much', 'ADJ')), (('ingenuity', 'DET'), ('ingenuity', 'NOUN')), (('Auditors', 'DET'), ('Auditors', 'NOUN')), (('crookery', 'DET'), ('crookery', 'NOUN')), (('face', 'VERB'), ('face', 'NOUN')), (('resubmit', 'DET'), ('resubmit', 'VERB')), (('Chapman', 'DET'), ('Chapman', 'NOUN')), (('WayMar', 'DET'), ('WayMar', 'NOUN')), (('inauspicious', 'DET'), ('inauspicious', 'ADJ')), (('hardest-hit', 'DET'), ('hardest-hit', 'ADJ')), (('Dakotas', 'DET'), ('Dakotas', 'NOUN')), (('705.6', 'DET'), ('705.6', 'NUM')), (('figure', 'VERB'), ('figure', 'NOUN')), (('addressing', 'DET'), ('addressing', 'VERB')), (('Showa', 'DET'), ('Showa', 'NOUN')), (('Shell', 'DET'), ('Shell', 'NOUN')), (('1,570', 'DET'), ('1,570', 'NUM')), (('CEO', 'DET'), ('CEO', 'NOUN')), (('succession', 'DET'), ('succession', 'NOUN')), (('early', 'ADV'), ('early', 'ADJ')), (('obsessed', 'DET'), ('obsessed', 'VERB')), (('refitting', 'DET'), ('refitting', 'VERB')), (('Little', 'ADJ'), ('Little', 'NOUN')), (('*T*-113', 'DET'), ('*T*-113', 'X')), (('surgeon', 'DET'), ('surgeon', 'NOUN')), (('general', 'ADJ'), ('general', 'NOUN')), (('reportedly', 'DET'), ('reportedly', 'ADV')), (('opposes', 'DET'), ('opposes', 'VERB')), (('no', 'DET'), ('no', 'ADV')), (('that', 'ADP'), ('that', 'DET')), ((\"'s\", 'PRT'), (\"'s\", 'VERB')), (('captivating', 'DET'), ('captivating', 'ADJ')), (('most', 'ADJ'), ('most', 'ADV')), (('disagreeable', 'DET'), ('disagreeable', 'ADJ')), (('about', 'ADP'), ('about', 'ADV')), (('crossed', 'DET'), ('crossed', 'VERB')), (('gauging', 'DET'), ('gauging', 'VERB')), (('executive', 'NOUN'), ('executive', 'ADJ')), (('marketing', 'NOUN'), ('marketing', 'VERB')), (('Ricken', 'DET'), ('Ricken', 'NOUN')), (('operating', 'NOUN'), ('operating', 'VERB')), (('Toys', 'DET'), ('Toys', 'NOUN')), (('R', 'DET'), ('R', 'NOUN')), (('Us', 'DET'), ('Us', 'NOUN')), (('Deane', 'DET'), ('Deane', 'NOUN')), (('Signet', 'DET'), ('Signet', 'NOUN')), (('Everyone', 'DET'), ('Everyone', 'NOUN')), (('understands', 'DET'), ('understands', 'VERB')), (('utterly', 'DET'), ('utterly', 'ADV')), (('incapable', 'DET'), ('incapable', 'ADJ')), (('deserving', 'DET'), ('deserving', 'ADJ')), (('billion-dollar', 'DET'), ('billion-dollar', 'ADJ')), (('morass', 'DET'), ('morass', 'NOUN')), (('knife', 'DET'), ('knife', 'NOUN')), (('double-C', 'DET'), ('double-C', 'NOUN')), (('triple-C', 'DET'), ('triple-C', 'NOUN')), (('show', 'NOUN'), ('show', 'VERB')), (('mortgage-based', 'DET'), ('mortgage-based', 'ADJ')), (('O.', 'DET'), ('O.', 'NOUN')), (('sue', 'DET'), ('sue', 'VERB')), (('30-point', 'DET'), ('30-point', 'ADJ')), (('*T*-212', 'DET'), ('*T*-212', 'X')), (('respite', 'DET'), ('respite', 'NOUN')), (('sell-offs', 'DET'), ('sell-offs', 'NOUN')), (('maximum', 'DET'), ('maximum', 'NOUN')), (('one-day', 'DET'), ('one-day', 'ADJ')), (('stock-index', 'NOUN'), ('stock-index', 'ADJ')), (('one-day', 'DET'), ('one-day', 'ADJ')), (('shortages', 'DET'), ('shortages', 'NOUN')), (('Stork', 'DET'), ('Stork', 'NOUN')), (('Springfield', 'DET'), ('Springfield', 'NOUN')), (('up', 'ADV'), ('up', 'ADP')), (('aids', 'DET'), ('aids', 'NOUN')), (('defeat', 'NOUN'), ('defeat', 'VERB')), (('*T*-104', 'DET'), ('*T*-104', 'X')), (('learning', 'DET'), ('learning', 'NOUN')), (('glamorize', 'DET'), ('glamorize', 'VERB')), (('vagabond', 'DET'), ('vagabond', 'NOUN')), (('existence', 'DET'), ('existence', 'NOUN')), (('Participants', 'DET'), ('Participants', 'NOUN')), (('Zealand', 'DET'), ('Zealand', 'NOUN')), (('as', 'ADP'), ('as', 'ADV')), (('Asian', 'ADJ'), ('Asian', 'NOUN')), (('Brunei', 'DET'), ('Brunei', 'NOUN')), (('Hours', 'DET'), ('Hours', 'NOUN')), (('representatives', 'DET'), ('representatives', 'NOUN')), (('recruiting', 'DET'), ('recruiting', 'VERB')), (('workbooks', 'DET'), ('workbooks', 'NOUN')), (('45.2', 'DET'), ('45.2', 'NUM')), (('84.9', 'DET'), ('84.9', 'NUM')), (('1.24', 'DET'), ('1.24', 'NUM')), (('earlier', 'ADV'), ('earlier', 'ADJ')), (('about', 'ADP'), ('about', 'ADV')), (('26,000', 'DET'), ('26,000', 'NUM')), (('stalls', 'DET'), ('stalls', 'NOUN')), (('posters', 'DET'), ('posters', 'NOUN')), (('signboards', 'DET'), ('signboards', 'NOUN')), (('advertising', 'NOUN'), ('advertising', 'VERB')), (('Huber', 'DET'), ('Huber', 'NOUN')), (('introduces', 'DET'), ('introduces', 'VERB')), (('anti-miscarriage', 'DET'), ('anti-miscarriage', 'ADJ')), (('that', 'ADP'), ('that', 'DET')), (('short', 'ADJ'), ('short', 'ADV')), (('Takeover', 'DET'), ('Takeover', 'NOUN')), (('puzzled', 'DET'), ('puzzled', 'VERB')), (('definitely', 'DET'), ('definitely', 'ADV')), (('ABORTION', 'DET'), ('ABORTION', 'NOUN')), (('RULING', 'DET'), ('RULING', 'NOUN')), (('UPHELD', 'DET'), ('UPHELD', 'VERB')), (('ago', 'ADP'), ('ago', 'ADV')), (('Rev.', 'DET'), ('Rev.', 'NOUN')), (('Jeremy', 'DET'), ('Jeremy', 'NOUN')), (('up', 'ADV'), ('up', 'PRT')), (('*T*-228', 'DET'), ('*T*-228', 'X')), (('sacked', 'DET'), ('sacked', 'VERB')), (('up', 'ADV'), ('up', 'PRT')), (('The', 'DET'), ('The', 'NOUN')), (('Barron', 'DET'), ('Barron', 'NOUN')), ((\"'s\", 'VERB'), (\"'s\", 'PRT')), (('segmenting', 'DET'), ('segmenting', 'VERB')), (('deluge', 'DET'), ('deluge', 'NOUN')), (('abuzz', 'DET'), ('abuzz', 'ADJ')), (('tapping', 'DET'), ('tapping', 'VERB')), (('Tiger', 'DET'), ('Tiger', 'NOUN')), (('Dollar-yen', 'DET'), ('Dollar-yen', 'ADJ')), (('force', 'VERB'), ('force', 'NOUN')), (('Trettien', 'DET'), ('Trettien', 'NOUN')), (('Banque', 'DET'), ('Banque', 'NOUN')), (('Paribas', 'DET'), ('Paribas', 'NOUN')), (('convinced', 'DET'), ('convinced', 'VERB')), (('calls', 'VERB'), ('calls', 'NOUN')), (('remarks', 'DET'), ('remarks', 'NOUN')), (('sentencing', 'DET'), ('sentencing', 'VERB')), (('18-year-old', 'DET'), ('18-year-old', 'ADJ')), (('homosexual', 'NOUN'), ('homosexual', 'ADJ')), (('astonishment', 'DET'), ('astonishment', 'NOUN')), (('dismay', 'DET'), ('dismay', 'NOUN')), (('superiors', 'DET'), ('superiors', 'NOUN')), (('and', 'CONJ'), ('and', 'ADJ')), (('unpopularity', 'DET'), ('unpopularity', 'NOUN')), (('Mrs', 'DET'), ('Mrs', 'NOUN')), (('2,099', 'DET'), ('2,099', 'NUM')), (('enact', 'DET'), ('enact', 'VERB')), (('compatible', 'DET'), ('compatible', 'ADJ')), (('as', 'ADP'), ('as', 'ADV')), (('literary', 'DET'), ('literary', 'ADJ')), (('Lighthouse', 'DET'), ('Lighthouse', 'NOUN')), (('painted', 'DET'), ('painted', 'VERB')), (('oils', 'DET'), ('oils', 'NOUN')), (('playwright', 'DET'), ('playwright', 'NOUN')), (('1901', 'DET'), ('1901', 'NUM')), (('184', 'DET'), ('184', 'NUM')), (('*-30', 'DET'), ('*-30', 'X')), (('Pierre', 'DET'), ('Pierre', 'NOUN')), (('intentioned', 'DET'), ('intentioned', 'ADJ')), (('transfers', 'VERB'), ('transfers', 'NOUN')), (('habit', 'DET'), ('habit', 'NOUN')), (('wrecking', 'DET'), ('wrecking', 'VERB')), (('incentives', 'DET'), ('incentives', 'NOUN')), (('Smaby', 'DET'), ('Smaby', 'NOUN')), (('Smaby', 'DET'), ('Smaby', 'NOUN')), (('21.1', 'DET'), ('21.1', 'NUM')), (('guarantee', 'VERB'), ('guarantee', 'NOUN')), (('PAPERS', 'DET'), ('PAPERS', 'NOUN')), (('fearful', 'DET'), ('fearful', 'ADJ')), (('hegemony', 'DET'), ('hegemony', 'NOUN')), (('Japanese', 'ADJ'), ('Japanese', 'NOUN')), (('fret', 'DET'), ('fret', 'NOUN')), (('rancor', 'DET'), ('rancor', 'NOUN')), (('Duluth', 'DET'), ('Duluth', 'NOUN')), (('financial-services', 'ADJ'), ('financial-services', 'NOUN')), (('holding', 'NOUN'), ('holding', 'VERB')), (('737.5', 'DET'), ('737.5', 'NUM')), (('3.01', 'DET'), ('3.01', 'NUM')), (('*-33', 'DET'), ('*-33', 'X')), (('nickname', 'DET'), ('nickname', 'NOUN')), (('Palestinian', 'ADJ'), ('Palestinian', 'NOUN')), (('first', 'ADJ'), ('first', 'ADV')), (('that', 'ADP'), ('that', 'DET')), (('standard', 'ADJ'), ('standard', 'NOUN')), (('smooth', 'DET'), ('smooth', 'ADJ')), (('needle-like', 'DET'), ('needle-like', 'ADJ')), (('that', 'ADP'), ('that', 'DET')), (('classified', 'DET'), ('classified', 'VERB')), (('amphobiles', 'DET'), ('amphobiles', 'NOUN')), (('Brooke', 'DET'), ('Brooke', 'NOUN')), (('pathlogy', 'DET'), ('pathlogy', 'NOUN')), (('Vermont', 'DET'), ('Vermont', 'NOUN')), (('Behind', 'DET'), ('Behind', 'ADP')), (('hoopla', 'DET'), ('hoopla', 'NOUN')), (('heavy-duty', 'DET'), ('heavy-duty', 'ADJ')), (('unknown', 'DET'), ('unknown', 'NOUN')), (('beg', 'DET'), ('beg', 'VERB')), (('Traditionally', 'DET'), ('Traditionally', 'ADV')), (('*-66', 'DET'), ('*-66', 'X')), (('entertainment', 'DET'), ('entertainment', 'NOUN')), (('confirms', 'DET'), ('confirms', 'VERB')), (('rebound', 'VERB'), ('rebound', 'NOUN')), (('depression', 'DET'), ('depression', 'NOUN')), (('1980s', 'NOUN'), ('1980s', 'NUM')), (('deducting', 'DET'), ('deducting', 'VERB')), (('gross', 'DET'), ('gross', 'ADJ')), (('up', 'ADV'), ('up', 'PRT')), (('test-prep', 'DET'), ('test-prep', 'ADJ')), (('known', 'VERB'), ('known', 'ADJ')), (('reach', 'VERB'), ('reach', 'NOUN')), (('422.5', 'DET'), ('422.5', 'NUM')), (('6.44', 'DET'), ('6.44', 'NUM')), (('387.8', 'DET'), ('387.8', 'NUM')), (('5.63', 'DET'), ('5.63', 'NUM')), (('20-point', 'DET'), ('20-point', 'ADJ')), (('*-125', 'DET'), ('*-125', 'X')), (('1:30', 'DET'), ('1:30', 'NUM')), (('p.m', 'DET'), ('p.m', 'ADV')), (('trading', 'NOUN'), ('trading', 'VERB')), (('3:15', 'DET'), ('3:15', 'NUM')), (('p.m', 'DET'), ('p.m', 'ADV')), (('fear', 'VERB'), ('fear', 'NOUN')), (('Federalist', 'DET'), ('Federalist', 'NOUN')), (('legislature', 'DET'), ('legislature', 'NOUN')), (('drawing', 'NOUN'), ('drawing', 'VERB')), (('impetuous', 'DET'), ('impetuous', 'ADJ')), (('vortex', 'DET'), ('vortex', 'NOUN')), (('more', 'ADV'), ('more', 'ADJ')), (('permits', 'DET'), ('permits', 'VERB')), (('morbidity', 'DET'), ('morbidity', 'NOUN')), (('sheaf', 'DET'), ('sheaf', 'NOUN')), (('trust', 'NOUN'), ('trust', 'VERB')), (('Iran\\\\/Contra', 'DET'), ('Iran\\\\/Contra', 'NOUN')), (('affair', 'DET'), ('affair', 'NOUN')), (('Mayer', 'DET'), ('Mayer', 'NOUN')), (('Typical', 'DET'), ('Typical', 'ADJ')), (('8.60', 'DET'), ('8.60', 'NUM')), (('8.35', 'DET'), ('8.35', 'NUM')), (('500-Stock', 'DET'), ('500-Stock', 'NOUN')), (('0.84', 'DET'), ('0.84', 'NUM')), (('341.20', 'DET'), ('341.20', 'NUM')), (('equivalent', 'NOUN'), ('equivalent', 'ADJ')), (('accounts', 'NOUN'), ('accounts', 'VERB')), (('half', 'DET'), ('half', 'NOUN')), (('off', 'PRT'), ('off', 'ADJ')), (('191.9', 'DET'), ('191.9', 'NUM')), (('*-154', 'DET'), ('*-154', 'X')), (('Danville', 'DET'), ('Danville', 'NOUN')), (('Delwin', 'DET'), ('Delwin', 'NOUN')), (('Danville', 'DET'), ('Danville', 'NOUN')), (('big-time', 'DET'), ('big-time', 'ADJ')), (('Visa', 'DET'), ('Visa', 'NOUN')), (('use', 'VERB'), ('use', 'NOUN')), (('cards', 'DET'), ('cards', 'NOUN')), (('plans', 'VERB'), ('plans', 'NOUN')), (('tie-in', 'DET'), ('tie-in', 'NOUN')), (('American', 'ADJ'), ('American', 'NOUN')), (('Express-Buick', 'DET'), ('Express-Buick', 'NOUN')), (('link', 'VERB'), ('link', 'NOUN')), (('phase', 'DET'), ('phase', 'VERB')), (('out', 'ADP'), ('out', 'PRT')), (('appropriate', 'DET'), ('appropriate', 'ADJ')), (('brilliantly', 'DET'), ('brilliantly', 'ADV')), (('sell-off', 'DET'), ('sell-off', 'NOUN')), (('that', 'ADP'), ('that', 'DET')), (('107.03', 'DET'), ('107.03', 'NUM')), (('offering', 'VERB'), ('offering', 'NOUN')), (('repriced', 'DET'), ('repriced', 'VERB')), (('insured', 'DET'), ('insured', 'VERB')), (('triple-A-rated', 'DET'), ('triple-A-rated', 'ADJ')), (('that', 'ADP'), ('that', 'DET')), (('battered', 'DET'), ('battered', 'VERB')), (('species', 'DET'), ('species', 'NOUN')), (('predicated', 'DET'), ('predicated', 'VERB')), (('that', 'ADP'), ('that', 'DET')), (('erroneous', 'DET'), ('erroneous', 'ADJ')), (('1.1650', 'DET'), ('1.1650', 'NUM')), (('railcar', 'DET'), ('railcar', 'NOUN')), (('platforms', 'DET'), ('platforms', 'NOUN')), (('Trailer', 'DET'), ('Trailer', 'NOUN')), (('Train', 'DET'), ('Train', 'NOUN')), (('sogo-shosha', 'DET'), ('sogo-shosha', 'NOUN')), (('Japanese', 'ADJ'), ('Japanese', 'NOUN')), (('trading', 'NOUN'), ('trading', 'VERB')), (('Takeover', 'DET'), ('Takeover', 'NOUN')), (('trading', 'NOUN'), ('trading', 'VERB')), (('disruption', 'DET'), ('disruption', 'NOUN')), (('borrowing', 'VERB'), ('borrowing', 'NOUN')), (('schedule', 'DET'), ('schedule', 'NOUN')), (('taxpayer', 'DET'), ('taxpayer', 'NOUN')), (('Nicholas', 'DET'), ('Nicholas', 'NOUN')), (('Brady', 'DET'), ('Brady', 'NOUN')), (('more', 'ADJ'), ('more', 'ADV')), (('notify', 'DET'), ('notify', 'VERB')), (('completing', 'DET'), ('completing', 'VERB')), (('short', 'ADJ'), ('short', 'ADV')), (('Chinese', 'ADJ'), ('Chinese', 'NOUN')), (('aim', 'VERB'), ('aim', 'NOUN')), (('*-89', 'DET'), ('*-89', 'X')), (('front', 'NOUN'), ('front', 'ADJ')), (('*-164', 'DET'), ('*-164', 'X')), (('less', 'ADV'), ('less', 'ADJ')), (('pay', 'VERB'), ('pay', 'NOUN')), (('TREASURY', 'DET'), ('TREASURY', 'NOUN')), (('BILLS', 'DET'), ('BILLS', 'NOUN')), (('Results', 'DET'), ('Results', 'NOUN')), (('7.78', 'DET'), ('7.78', 'NUM')), (('7.62', 'DET'), ('7.62', 'NUM')), (('Dutch', 'NOUN'), ('Dutch', 'ADJ')), (('outlay', 'DET'), ('outlay', 'NOUN'))]\n"
     ]
    }
   ],
   "source": [
    "# checking the incorrectly tagged words\n",
    "incorrect_tagged_words = [j for i, j in enumerate(zip(tagged_seq, test_run_base)) if j[0] != j[1]]\n",
    "\n",
    "print(\"Total Incorrect Tagged Words :\", len(incorrect_tagged_words))\n",
    "print(\"\\n\")\n",
    "print(\"Incorrectly Tagged Words are as follow : \\n\" + \"\\n\", incorrect_tagged_words)"
   ]
  },
  {
   "cell_type": "markdown",
   "metadata": {},
   "source": [
    "### Checking for Unknown words\n",
    "\n",
    "Unknown words are those words that are present in the test set but not in the train set. Basically these are the  words the algorithm has not seen before in its corpus before."
   ]
  },
  {
   "cell_type": "code",
   "execution_count": 28,
   "metadata": {
    "scrolled": false
   },
   "outputs": [
    {
     "name": "stdout",
     "output_type": "stream",
     "text": [
      "Total Unknown words : 380\n"
     ]
    }
   ],
   "source": [
    "# Finding the Unknown words \n",
    "\n",
    "test_vocabulary_set = set([t for t in test_tagged_words])\n",
    "\n",
    "unknown_words = list(test_vocabulary_set - training_vocabulary_set)\n",
    "print(\"Total Unknown words :\", len(unknown_words))"
   ]
  },
  {
   "cell_type": "code",
   "execution_count": 29,
   "metadata": {
    "scrolled": true
   },
   "outputs": [
    {
     "name": "stdout",
     "output_type": "stream",
     "text": [
      "Unknown Words List : \n",
      " ['107.03', 'hobbyists', 'TREASURY', 'Macheski', 'Auditors', '422.5', 'signboards', 'crookery', 'Lighthouse', 'marbles', 'reopened', 'reaped', 'robotic', 'hoopla', 'dismay', 'taxpayer', 'sogo-shosha', 'needle-like', 'Palisades', 'abuzz', '*T*-113', 'compatible', 'gauging', 'Toys', 'introduces', 'appropriate', 'Signet', '45.2', '18-year-old', 'species', '*-164', 'Puerto', 'glamorize', 'count', '*T*-93', 'erroneous', 'learning', 'Duluth', 'touted', '*-125', 'Westborough', 'Brooke', 'Silicon', 'smooth', 'Areas', '*T*-228', 'stalls', 'notify', 'Vermont', '*T*-200', '1,050,000', '154.2', 'Longwood', 'repriced', 'convinced', 'Bucking', 'Jalaalwalikraam', 'obsessed', 'ingenuity', 'predicated', 'desperately', 'categories', 'Huber', 'legislature', 'Yorker', '1.24', 'succession', 'hegemony', 'Hours', 'Piero', 'TRUST', '*-119', 'O.', 'subskills', 'amphobiles', 'cards', '30-point', 'oils', 'fearful', 'ASSETS', 'ROGERS', 'Wilton', 'kits', 'emerged', '500-Stock', '66.5', 'Norwick', '153.3', 'sacked', 'knocked', 'Banque', 'Jaffray', '191.9', 'Productions', '777', '*T*-104', 'existence', 'Piper', '8.35', 'captivating', 'depression', 'lately', 'familiarization', 'outlay', 'triple-A-rated', 'unpopularity', 'Express-Buick', 'replicate', 'pie', 'Policy', 'superiors', 'affair', 'platforms', 'denominator', '21.1', 'dusty', 'COMMUNICATIONS', '8.60', '64.5', 'Borough', 'Intermec', 'deserving', 'Deane', 'oversight', 'astonishment', '*-33', '*T*-94', 'Smaby', 'Tiger', '*-154', '*T*-211', 'unraveling', 'Gottlieb', 'sentencing', 'Chapman', 'Solaia', 'Nesconset', 'shortages', 'Ricken', 'BILLS', 'ancestry', 'incapable', 'p.m', 'Takeover', '1:30', 'Danville', 'capability', 'phase', 'heavy-duty', 'Mrs', '7.78', 'sue', 'impetuous', 'Knapp', 'hardest-hit', 'Glenham', '*-30', 'tie-in', 'battered', '1.1650', 'Muscolina', 'fret', 'erode', 'enjoying', 'ABORTION', 'maximum', 'Angelo', 'computer-services', 'Paribas', 'intermediate', 'addressing', 'Barron', 'Amin', '8.64', 'brunt', 'Club', 'blue-chips', 'subsequent', '7.62', 'Us', 'powerhouse', 'Rico', 'double-C', 'Chinchon', 'resubmit', 'Iran\\\\/Contra', '1901', 'disagreeable', 'skills', 'sheaf', 'gross', '705.6', '387.8', 'Rev.', 'perpetual', 'completing', 'confirms', 'beverage', 'shelf', 'loops', 'Brunei', '*-128', 'intentioned', 'garage', 'refitting', 'Results', 'habit', 'workbooks', '*-66', 'compositions', 'aids', 'FAX', 'Visa', 'steal', 'morass', 'billion-dollar', 'Jeremy', 'web', 'Hopwood', 'muscling', 'Renee', 'Barbaresco', 'geometrical', 'UPHELD', 'Wozniak', 'Minn.', 'Springfield', '3:15', 'triple-C', 'diversifying', 'wrecking', 'Najarian', 'opposes', 'cool', 'graphs', 'disapprove', 'Behind', 'Homebrew', 'resembles', 'CEO', 'WayMar', 'defined', 'READY', 'smothering', 'behavior', 'Occidental', 'remarks', 'Trettien', 'painted', 'inauspicious', '5.63', 'tapping', 'railcar', 'sell-off', 'Participants', '*T*-212', 'synchronized', '20-point', 'Nuys', 'R', '7.60', 'mortgage-based', 'test-prep', 'reportedly', 'Jobs', 'posters', 'impart', 'sell-offs', '1,570', 'Pierre', 'injury', 'understands', 'windfall', 'Train', 'anti-miscarriage', 'Everyone', 'beg', '*-135', 'representatives', '2.25', 'Trailer', 'big-time', 'Floyd', 'Federalist', 'disruption', '0.84', 'knife', 'insured', 'nickname', '2,099', 'playwright', 'gallium', 'incentives', '148.9', 'repeatedly', 'scams', 'reaping', '*T*-120', 'brilliantly', 'Gaja', 'church-goers', 'Nicholas', 'respite', 'fleeting', 'rancor', '16.2', 'direct-mail', 'Fishman', 'definitely', 'schedule', 'defects', 'deluge', '184', 'segmenting', 'entrants', '7.52', 'definitive', '*-114', 'measurement', 'marketers', 'surgeon', 'Shell', 'symmetry', 'Brady', 'Typical', 'Showa', 'Asher', '6.44', 'morbidity', 'born', 'Deborah', '341.20', 'one-day', 'beer', 'flood', '3.01', 'Stork', 'Mayer', 'enact', 'discordant', 'drew', 'puzzled', 'trivial', 'depository', 'Dakotas', 'frenzy', 'recruiting', 'Delwin', '26,000', 'Dollar-yen', 'spouse', '*-89', 'literary', 'unknown', '2.29', 'kindness', 'trading-company', 'utterly', 'LYNCH', '7.79', 'Traditionally', 'permits', 'cared', '132,000', 'vagabond', 'pathlogy', 'entertainment', '737.5', 'MERRILL', 'arsenide', 'deducting', 'PAPERS', 'crossed', 'deregulation', '84.9', 'Zealand', 'classified', 'vortex', 'RULING', 'Antinori']\n"
     ]
    }
   ],
   "source": [
    "print(\"Unknown Words List : \\n\", unknown_words)"
   ]
  },
  {
   "cell_type": "markdown",
   "metadata": {},
   "source": [
    "#### Observation of Vanilla Viterbi Method :\n",
    "\n",
    "    The default Vanilla viterbi algorithm achieved an accuracy of about 89.6% \n",
    "\n",
    "    Approx. 11% loss of accuracy was majorly due to the fact that when the algorithm encountered an unknown word (i.e. not present in the training set), it assigned an incorrect tag arbitrarily. \n",
    "    \n",
    "    This is because, for unknown words, the emission probabilities for all candidate tags are 0, so the algorithm arbitrarily chooses (the first) tag.\n",
    "\n",
    "    Now we try to minimize this loss by modifying the vanilla viterbi."
   ]
  },
  {
   "cell_type": "markdown",
   "metadata": {},
   "source": [
    "## Solve the problem of unknown words"
   ]
  },
  {
   "cell_type": "markdown",
   "metadata": {},
   "source": [
    "\n",
    "### Method 1: Viterbi Modification-Technique I - Vanilla_Viterbi_for_Unknown_Words\n",
    "\n",
    "    If a word is not present in the training vocabulary (unknown word), its emission probability will be 0.In that case the state probability will inturn be zero. Thus in cases where the algorithm encounters a word which it has not see previously, we can omit the emission probability and only consider the transition probability.\n",
    "\n",
    "    The algorithm can be modified to deal the case as below - \n",
    "\n",
    "    **If word in unknown then: <br></br><br></br>\n",
    "    consider only the transition_p (emission probability being 0)<br></br><br></br>\n",
    "    else:<br></br><br></br>\n",
    "       consider both the emission and transition probability.**"
   ]
  },
  {
   "cell_type": "code",
   "execution_count": 30,
   "metadata": {},
   "outputs": [],
   "source": [
    "# Modified Viterbi Heuristic\n",
    "def Vanilla_Viterbi_for_Unknown_Words(words, train_bag = train_tagged_words):\n",
    "    state = []\n",
    "    T = list(set([pair[1] for pair in train_bag]))\n",
    "    \n",
    "    for key, word in enumerate(words):\n",
    "        #initialise list of probability column for a given observation\n",
    "        p = [] \n",
    "        for tag in T:\n",
    "            if key == 0:\n",
    "                transition_p = tags_df.loc['.', tag]\n",
    "            else:\n",
    "                transition_p = tags_df.loc[state[-1], tag]\n",
    "                \n",
    "            # compute emission and state probabilities\n",
    "            emission_p = word_given_tag(words[key], tag)[0]/word_given_tag(words[key], tag)[1]\n",
    "            \n",
    "            # modification to the original vanilla viterbi algorithm to consider unknown words\n",
    "            if word not in training_vocabulary_set:\n",
    "                state_probability = transition_p\n",
    "            else:\n",
    "                state_probability = emission_p * transition_p\n",
    "                \n",
    "            p.append(state_probability)\n",
    "            \n",
    "        pmax = max(p)\n",
    "        # getting state for which probability is maximum\n",
    "        state_max = T[p.index(pmax)] \n",
    "        state.append(state_max)\n",
    "    return list(zip(words, state))"
   ]
  },
  {
   "cell_type": "code",
   "execution_count": 31,
   "metadata": {},
   "outputs": [
    {
     "name": "stdout",
     "output_type": "stream",
     "text": [
      "The accuracy of the Vanilla Viterbi Algorithm after modification to handle unknown words is - 0.9371769383697813\n"
     ]
    }
   ],
   "source": [
    "# tagging the test sentences\n",
    "unknown_word_tagged_seq = Vanilla_Viterbi_for_Unknown_Words(test_tagged_words)\n",
    "\n",
    "# accuracy\n",
    "unknown_word_check = [i for i, j in zip(unknown_word_tagged_seq, test_run_base) if i == j]\n",
    "\n",
    "optimized_viterbi_accuracy = len(unknown_word_check)/len(unknown_word_tagged_seq)\n",
    "\n",
    "print(\"The accuracy of the Vanilla Viterbi Algorithm after modification to handle unknown words is -\", optimized_viterbi_accuracy)"
   ]
  },
  {
   "cell_type": "markdown",
   "metadata": {},
   "source": [
    "#### Observation of Modified Viterbi Method - I :\n",
    "\n",
    "    The modified viterbi achieves an accuracy of (approx.) 93.7%. Earlier the default Vanilla viterbi algorithm achieved an accuracy of about 89.6%. \n",
    "    Hence the modified viterbi algorithm performs better than the original vanilla viterbi algorithm.  Still a loss of approx. 6-7% is seen.\n",
    "    Now we try to reduce this loss further."
   ]
  },
  {
   "cell_type": "markdown",
   "metadata": {},
   "source": [
    "\n",
    "### Let's try with some Lexicon and Rule-Based Models for POS Tagging.\n",
    "\n",
    "\n",
    "#### 1.Unigram Tagger"
   ]
  },
  {
   "cell_type": "code",
   "execution_count": 32,
   "metadata": {},
   "outputs": [
    {
     "name": "stdout",
     "output_type": "stream",
     "text": [
      "The accuracy of the Unigram Tagger is - 0.894831013916501\n"
     ]
    }
   ],
   "source": [
    "# Unigram Tagger\n",
    "\n",
    "unigram_tagger = nltk.UnigramTagger(train_set)\n",
    "unigram_tagger_accuracy = unigram_tagger.evaluate(test_set)\n",
    "print(\"The accuracy of the Unigram Tagger is -\", unigram_tagger_accuracy)"
   ]
  },
  {
   "cell_type": "markdown",
   "metadata": {},
   "source": [
    "#### 2. Rule based RegexpTagger"
   ]
  },
  {
   "cell_type": "code",
   "execution_count": 33,
   "metadata": {},
   "outputs": [],
   "source": [
    "#Let's now try combining the unigram tagger with a rule based regex tagger.\n",
    "\n",
    "# patterns for tagging using a rule based regex tagger -\n",
    "\n",
    "patterns = [\n",
    "    (r'^[aA-zZ].*[0-9]+','NOUN'),  # Alpha Numeric\n",
    "    (r'.*ness$', 'NOUN'),\n",
    "    (r'.*\\'s$', 'NOUN'),              # possessive nouns\n",
    "    (r'.*s$', 'NOUN'),                # plural nouns\n",
    "    (r'.*', 'NOUN'),    \n",
    "    (r'.*ly$', 'ADV'),\n",
    "    (r'^(0|([*|-|$].*))','X'), # Any special character combination\n",
    "    (r'.*ould$', 'X'), # modals\n",
    "    (r'(The|the|A|a|An|an)$', 'DET'),\n",
    "    (r'^([0-9]|[aA-zZ])+\\-[aA-zZ]*$','ADJ'),\n",
    "    (r'.*able$', 'ADJ'), # adjective like 100-megabytes 237-Seats\n",
    "    (r'[aA-zZ]+(ed|ing|es)$', 'VERB'), # Any word ending with 'ing' or 'ed' is a verb\n",
    "    (r'[0-9].?[,\\/]?[0-9]*','NUM')# Numbers \n",
    "    ]"
   ]
  },
  {
   "cell_type": "code",
   "execution_count": 34,
   "metadata": {},
   "outputs": [
    {
     "name": "stdout",
     "output_type": "stream",
     "text": [
      "The accuracy of the Unigram Tagger backed up by the RegexpTagger is - 0.9377733598409542\n"
     ]
    }
   ],
   "source": [
    "rule_based_tagger = nltk.RegexpTagger(patterns)\n",
    "\n",
    "# unigram tagger backed up by the rule-based tagger\n",
    "rule_based_unigram_tagger = nltk.UnigramTagger(train_set, backoff = rule_based_tagger)\n",
    "\n",
    "accuracy_rule_based_unigram_tagger = rule_based_unigram_tagger.evaluate(test_set)\n",
    "\n",
    "print(\"The accuracy of the Unigram Tagger backed up by the RegexpTagger is -\", accuracy_rule_based_unigram_tagger)"
   ]
  },
  {
   "cell_type": "markdown",
   "metadata": {},
   "source": [
    "#### 3.Bigram tagger"
   ]
  },
  {
   "cell_type": "code",
   "execution_count": 35,
   "metadata": {},
   "outputs": [
    {
     "name": "stdout",
     "output_type": "stream",
     "text": [
      "The accuracy of the Bigram Tagger backed up by the rule_based_unigram_tagger is - 0.9415506958250497\n"
     ]
    }
   ],
   "source": [
    "bigram_tagger = nltk.BigramTagger(train_set, backoff = rule_based_unigram_tagger)\n",
    "bigram_tagger.evaluate(test_set)\n",
    "accuracy_bigram_tagger = bigram_tagger.evaluate(test_set)\n",
    "print(\"The accuracy of the Bigram Tagger backed up by the rule_based_unigram_tagger is -\", accuracy_bigram_tagger)"
   ]
  },
  {
   "cell_type": "markdown",
   "metadata": {},
   "source": [
    "#### 4.Trigram tagger"
   ]
  },
  {
   "cell_type": "code",
   "execution_count": 36,
   "metadata": {},
   "outputs": [
    {
     "name": "stdout",
     "output_type": "stream",
     "text": [
      "The accuracy of the Trigram Tagger backed up by the bigram_tagger is - 0.9395626242544731\n"
     ]
    }
   ],
   "source": [
    "trigram_tagger = nltk.TrigramTagger(train_set, backoff = bigram_tagger)\n",
    "trigram_tagger.evaluate(test_set)\n",
    "accuracy_trigram_tagger = trigram_tagger.evaluate(test_set)\n",
    "print(\"The accuracy of the Trigram Tagger backed up by the bigram_tagger is -\", accuracy_trigram_tagger)"
   ]
  },
  {
   "cell_type": "markdown",
   "metadata": {},
   "source": [
    "#### Observations:    \n",
    "    -We see that the Trigram Tagger backed up by the bigram tagger gives an accuracy of 94% approximately. \n",
    "    -So now we try to modify the Viterbi Algorithm to use this trigram tagger as a back-off.\n",
    "\n",
    "\n",
    "\n",
    "### Method 2: Viterbi Modification-Technique II : Viterbi_backedup_by_trigram_tagger\n",
    "\n",
    "When the viterbi algorithm is not able to tag an unknown word, it uses the rule-based tagger."
   ]
  },
  {
   "cell_type": "code",
   "execution_count": 75,
   "metadata": {},
   "outputs": [],
   "source": [
    "#A trigram tagger backed off by a rule based tagger.\n",
    "\n",
    "def trigram_tagger(word, train_set = train_set):\n",
    "    \n",
    "    patterns = [\n",
    "    (r'[aA-zZ]+(ed|ing|es)$', 'VERB'), # Any word ending with 'ing' or 'ed' is a verb\n",
    "\n",
    "    (r'.*ly$', 'ADV'),\n",
    "        \n",
    "    (r'^([0-9]|[aA-zZ])+\\-[aA-zZ]*$','ADJ'),\n",
    "    (r'.*able$', 'ADJ'), \n",
    "    (r'.*ful$', 'ADJ'),\n",
    "    (r'.*ous$', 'ADJ'),\n",
    "        \n",
    "    (r'^[aA-zZ].*[0-9]+','NOUN'),     # Alpha Numeric\n",
    "    (r'.*ness$', 'NOUN'),\n",
    "    (r'.*\\'s$', 'NOUN'),              # possessive nouns - words ending with 's\n",
    "    (r'.*s$', 'NOUN'),                # plural nouns\n",
    "    (r'.*ers$', 'NOUN'),              # eg.- kinderganteners, autobioghapgers\n",
    "    (r'.*ment$', 'NOUN'),\n",
    "    (r'.*town$', 'NOUN'),\n",
    "        \n",
    "    (r'^(0|([*|-|$].*))','X'), # Any special character combination\n",
    "    (r'.*ould$', 'X'),\n",
    "        \n",
    "    (r'(The|the|A|a|An|an|That|that|This|this|Those|those|These|these)$', 'DET'), # That/this/these/those belong to the category of Demonstrative determiners\n",
    "    (r'[0-9].?[,\\/]?[0-9]*','NUM'), # Numbers \n",
    "        \n",
    "    (r'.*', 'NOUN')\n",
    "    ]\n",
    "\n",
    "    regex_based_tagger = nltk.RegexpTagger(patterns)\n",
    "\n",
    "    # trigram backed up by the regex tagger\n",
    "    trigram_regex_tagger = nltk.TrigramTagger(train_set, backoff = regex_based_tagger)\n",
    "    return trigram_regex_tagger.tag_sents([[(word)]])"
   ]
  },
  {
   "cell_type": "code",
   "execution_count": 76,
   "metadata": {},
   "outputs": [],
   "source": [
    "def viterbi_backedup_by_trigram_tagger(words, train_bag = train_tagged_words):\n",
    "    state = []\n",
    "    tag_set = list(set([pair[1] for pair in train_bag]))\n",
    "    \n",
    "    # use the trigram tagger backed up by the rule based tagger for unknown words.\n",
    "    for key, word in enumerate(words):\n",
    "        if word not in training_vocabulary_set:\n",
    "            unknown_word_tag = trigram_tagger(word)\n",
    "            for sent in unknown_word_tag:\n",
    "                for tup in sent:\n",
    "                    state.append(tup[1])\n",
    "        else:            \n",
    "            p = [] \n",
    "            for tag in tag_set:\n",
    "                if key == 0:\n",
    "                    transition_p = tags_df.loc['.', tag]\n",
    "                else:\n",
    "                    transition_p = tags_df.loc[state[-1], tag]\n",
    "                \n",
    "            # compute emission and state probabilities\n",
    "                emission_p = word_given_tag(words[key], tag)[0]/word_given_tag(words[key], tag)[1]\n",
    "                state_probability = emission_p * transition_p    \n",
    "                p.append(state_probability)\n",
    "            \n",
    "            pmax = max(p)\n",
    "            # getting state for which probability is maximum\n",
    "            state_max = tag_set[p.index(pmax)] \n",
    "            state.append(state_max)\n",
    "    return list(zip(words, state))"
   ]
  },
  {
   "cell_type": "code",
   "execution_count": 39,
   "metadata": {},
   "outputs": [
    {
     "name": "stdout",
     "output_type": "stream",
     "text": [
      "The accuracy of the viterbi_backedup_by_trigram_tagger is - 0.9614314115308151\n"
     ]
    }
   ],
   "source": [
    "# tagging the test sentences\n",
    "viterbi_trigram_tagged_seq = viterbi_backedup_by_trigram_tagger(test_tagged_words)\n",
    "\n",
    "# accuracy\n",
    "viterbi_trigram_word_check = [i for i, j in zip(viterbi_trigram_tagged_seq, test_run_base) if i == j]\n",
    "\n",
    "viterbi_trigram_accuracy = len(viterbi_trigram_word_check)/len(viterbi_trigram_tagged_seq)\n",
    "\n",
    "print(\"The accuracy of the viterbi_backedup_by_trigram_tagger is -\", viterbi_trigram_accuracy)"
   ]
  },
  {
   "cell_type": "markdown",
   "metadata": {},
   "source": [
    "#### Observation of Modified Viterbi Method - II(backed by Trigram Tagger) :\n",
    "\n",
    "        The modified viterbi backed by trigram tagger achieves an accuracy of (approx.) 96.14% which is comparatively higher than the other two methods. Earlier the default Vanilla viterbi algorithm achieved an accuracy of about 89.6% & Modified Viterbi I method achieved an accuracy of 93.72%."
   ]
  },
  {
   "cell_type": "markdown",
   "metadata": {},
   "source": [
    "## Evaluating tagging accuracy"
   ]
  },
  {
   "cell_type": "markdown",
   "metadata": {},
   "source": [
    "### Compare the tagging accuracies of the modifications with the vanilla Viterbi algorithm\n",
    "\n",
    "Lets compare the accuracy obtained from each algorithm and draw a graph to compare the same."
   ]
  },
  {
   "cell_type": "code",
   "execution_count": 40,
   "metadata": {},
   "outputs": [
    {
     "data": {
      "text/html": [
       "<div>\n",
       "<style scoped>\n",
       "    .dataframe tbody tr th:only-of-type {\n",
       "        vertical-align: middle;\n",
       "    }\n",
       "\n",
       "    .dataframe tbody tr th {\n",
       "        vertical-align: top;\n",
       "    }\n",
       "\n",
       "    .dataframe thead th {\n",
       "        text-align: right;\n",
       "    }\n",
       "</style>\n",
       "<table border=\"1\" class=\"dataframe\">\n",
       "  <thead>\n",
       "    <tr style=\"text-align: right;\">\n",
       "      <th></th>\n",
       "      <th>Tagging_Accuracy</th>\n",
       "    </tr>\n",
       "    <tr>\n",
       "      <th>Tagging_Algorithm</th>\n",
       "      <th></th>\n",
       "    </tr>\n",
       "  </thead>\n",
       "  <tbody>\n",
       "    <tr>\n",
       "      <td>Vanilla Viterbi</td>\n",
       "      <td>89.582505</td>\n",
       "    </tr>\n",
       "    <tr>\n",
       "      <td>Vanilla Viterbi Modified</td>\n",
       "      <td>93.717694</td>\n",
       "    </tr>\n",
       "    <tr>\n",
       "      <td>Unigram Tagger</td>\n",
       "      <td>89.483101</td>\n",
       "    </tr>\n",
       "    <tr>\n",
       "      <td>Unigram + RegexpTagger</td>\n",
       "      <td>93.777336</td>\n",
       "    </tr>\n",
       "    <tr>\n",
       "      <td>Bigram Tagger + Unigram_tagger</td>\n",
       "      <td>94.155070</td>\n",
       "    </tr>\n",
       "    <tr>\n",
       "      <td>Trigram Tagger + Bigram_tagger</td>\n",
       "      <td>93.956262</td>\n",
       "    </tr>\n",
       "    <tr>\n",
       "      <td>Viterbi + Trigram_tagger</td>\n",
       "      <td>96.143141</td>\n",
       "    </tr>\n",
       "  </tbody>\n",
       "</table>\n",
       "</div>"
      ],
      "text/plain": [
       "                                Tagging_Accuracy\n",
       "Tagging_Algorithm                               \n",
       "Vanilla Viterbi                        89.582505\n",
       "Vanilla Viterbi Modified               93.717694\n",
       "Unigram Tagger                         89.483101\n",
       "Unigram + RegexpTagger                 93.777336\n",
       "Bigram Tagger + Unigram_tagger         94.155070\n",
       "Trigram Tagger + Bigram_tagger         93.956262\n",
       "Viterbi + Trigram_tagger               96.143141"
      ]
     },
     "execution_count": 40,
     "metadata": {},
     "output_type": "execute_result"
    }
   ],
   "source": [
    "acccuracy_data = [['Vanilla Viterbi', vanilla_viterbi_accuracy * 100], \n",
    "                  ['Vanilla Viterbi Modified', optimized_viterbi_accuracy*100 ], \n",
    "                  ['Unigram Tagger', unigram_tagger_accuracy * 100],\n",
    "                  ['Unigram + RegexpTagger', accuracy_rule_based_unigram_tagger * 100],\n",
    "                  ['Bigram Tagger + Unigram_tagger', accuracy_bigram_tagger*100],\n",
    "                  ['Trigram Tagger + Bigram_tagger', accuracy_trigram_tagger*100],\n",
    "                  ['Viterbi + Trigram_tagger', viterbi_trigram_accuracy*100]]\n",
    "\n",
    "acccuracy_data_df = pd.DataFrame(acccuracy_data, columns = ['Tagging_Algorithm', 'Tagging_Accuracy'])\n",
    "\n",
    "acccuracy_data_df.set_index('Tagging_Algorithm', drop = True, inplace = True)\n",
    "\n",
    "acccuracy_data_df"
   ]
  },
  {
   "cell_type": "code",
   "execution_count": 41,
   "metadata": {},
   "outputs": [
    {
     "data": {
      "text/plain": [
       "<matplotlib.axes._subplots.AxesSubplot at 0x1a26841210>"
      ]
     },
     "execution_count": 41,
     "metadata": {},
     "output_type": "execute_result"
    },
    {
     "data": {
      "image/png": "[encoded data removed]",
      "text/plain": [
       "<Figure size 432x288 with 1 Axes>"
      ]
     },
     "metadata": {
      "needs_background": "light"
     },
     "output_type": "display_data"
    }
   ],
   "source": [
    "acccuracy_data_df.plot.line(rot = 90, legend = False)"
   ]
  },
  {
   "cell_type": "markdown",
   "metadata": {},
   "source": [
    "#### Observation\n",
    "\n",
    "    Based on the calculated and plooted observations of accuracy of each method we can say that ViterbiAlgorithm backed by Trigram Tagger has the highest accuracy and Unigram has the lowest accuracy. That means the modified Viterbi Algorithm backed by Trigram tagger should make more accurate predictions of the worda & tags as compared to the other methods. "
   ]
  },
  {
   "cell_type": "markdown",
   "metadata": {},
   "source": [
    "### 2. Next, lets check the tagging accuracies for the algorithm on the sample test sentences provided -"
   ]
  },
  {
   "cell_type": "code",
   "execution_count": 42,
   "metadata": {},
   "outputs": [],
   "source": [
    "sample_test_sentences = [\"Android is a mobile operating system developed by Google.\",\n",
    "\"Android has been the best-selling OS worldwide on smartphones since 2011 and on tablets since 2013.\",\n",
    "\"Google and Twitter made a deal in 2015 that gave Google access to Twitter's firehose.\",\n",
    "\"Twitter is an online news and social networking service on which users post and interact with messages known as tweets.\",\n",
    "\"Before entering politics, Donald Trump was a domineering businessman and a television personality.\",\n",
    "\"The 2018 FIFA World Cup is the 21st FIFA World Cup, an international football tournament contested once every four years.\",\n",
    "\"This is the first World Cup to be held in Eastern Europe and the 11th time that it has been held in Europe.\",\n",
    "\"Show me the cheapest round trips from Dallas to Atlanta\",\n",
    "\"I would like to see flights from Denver to Philadelphia.\",\n",
    "\"Show me the price of the flights leaving Atlanta at about 3 in the afternoon and arriving in San Francisco.\",\n",
    "\"NASA invited social media users to experience the launch of ICESAT-2 Satellite.\"]"
   ]
  },
  {
   "cell_type": "code",
   "execution_count": 43,
   "metadata": {},
   "outputs": [
    {
     "data": {
      "text/plain": [
       "[[('Android', 'NOUN'),\n",
       "  ('is', 'VERB'),\n",
       "  ('a', 'DET'),\n",
       "  ('mobile', 'ADJ'),\n",
       "  ('operating', 'NOUN'),\n",
       "  ('system', 'NOUN'),\n",
       "  ('developed', 'VERB'),\n",
       "  ('by', 'ADP'),\n",
       "  ('Google', 'NOUN'),\n",
       "  ('.', '.')],\n",
       " [('Android', 'NOUN'),\n",
       "  ('has', 'VERB'),\n",
       "  ('been', 'VERB'),\n",
       "  ('the', 'DET'),\n",
       "  ('best-selling', 'ADJ'),\n",
       "  ('OS', 'NOUN'),\n",
       "  ('worldwide', 'NOUN'),\n",
       "  ('on', 'ADP'),\n",
       "  ('smartphones', 'NOUN'),\n",
       "  ('since', 'ADP'),\n",
       "  ('2011', 'NUM'),\n",
       "  ('and', 'CONJ'),\n",
       "  ('on', 'ADP'),\n",
       "  ('tablets', 'NOUN'),\n",
       "  ('since', 'ADP'),\n",
       "  ('2013', 'NUM'),\n",
       "  ('.', '.')],\n",
       " [('Google', 'NOUN'),\n",
       "  ('and', 'CONJ'),\n",
       "  ('Twitter', 'NOUN'),\n",
       "  ('made', 'VERB'),\n",
       "  ('a', 'DET'),\n",
       "  ('deal', 'NOUN'),\n",
       "  ('in', 'ADP'),\n",
       "  ('2015', 'NUM'),\n",
       "  ('that', 'DET'),\n",
       "  ('gave', 'VERB'),\n",
       "  ('Google', 'NOUN'),\n",
       "  ('access', 'NOUN'),\n",
       "  ('to', 'PRT'),\n",
       "  ('Twitter', 'NOUN'),\n",
       "  (\"'s\", 'PRT'),\n",
       "  ('firehose', 'NOUN'),\n",
       "  ('.', '.')],\n",
       " [('Twitter', 'NOUN'),\n",
       "  ('is', 'VERB'),\n",
       "  ('an', 'DET'),\n",
       "  ('online', 'ADJ'),\n",
       "  ('news', 'NOUN'),\n",
       "  ('and', 'CONJ'),\n",
       "  ('social', 'ADJ'),\n",
       "  ('networking', 'NOUN'),\n",
       "  ('service', 'NOUN'),\n",
       "  ('on', 'ADP'),\n",
       "  ('which', 'DET'),\n",
       "  ('users', 'NOUN'),\n",
       "  ('post', 'NOUN'),\n",
       "  ('and', 'CONJ'),\n",
       "  ('interact', 'NOUN'),\n",
       "  ('with', 'ADP'),\n",
       "  ('messages', 'NOUN'),\n",
       "  ('known', 'VERB'),\n",
       "  ('as', 'ADP'),\n",
       "  ('tweets', 'NOUN'),\n",
       "  ('.', '.')],\n",
       " [('Before', 'ADP'),\n",
       "  ('entering', 'VERB'),\n",
       "  ('politics', 'NOUN'),\n",
       "  (',', '.'),\n",
       "  ('Donald', 'NOUN'),\n",
       "  ('Trump', 'NOUN'),\n",
       "  ('was', 'VERB'),\n",
       "  ('a', 'DET'),\n",
       "  ('domineering', 'ADJ'),\n",
       "  ('businessman', 'NOUN'),\n",
       "  ('and', 'CONJ'),\n",
       "  ('a', 'DET'),\n",
       "  ('television', 'NOUN'),\n",
       "  ('personality', 'NOUN'),\n",
       "  ('.', '.')],\n",
       " [('The', 'DET'),\n",
       "  ('2018', 'NUM'),\n",
       "  ('FIFA', 'NOUN'),\n",
       "  ('World', 'NOUN'),\n",
       "  ('Cup', 'NOUN'),\n",
       "  ('is', 'VERB'),\n",
       "  ('the', 'DET'),\n",
       "  ('21st', 'NUM'),\n",
       "  ('FIFA', 'NOUN'),\n",
       "  ('World', 'NOUN'),\n",
       "  ('Cup', 'NOUN'),\n",
       "  (',', '.'),\n",
       "  ('an', 'DET'),\n",
       "  ('international', 'ADJ'),\n",
       "  ('football', 'NOUN'),\n",
       "  ('tournament', 'NOUN'),\n",
       "  ('contested', 'VERB'),\n",
       "  ('once', 'ADV'),\n",
       "  ('every', 'DET'),\n",
       "  ('four', 'NUM'),\n",
       "  ('years', 'NOUN'),\n",
       "  ('.', '.')],\n",
       " [('This', 'DET'),\n",
       "  ('is', 'VERB'),\n",
       "  ('the', 'DET'),\n",
       "  ('first', 'ADJ'),\n",
       "  ('World', 'NOUN'),\n",
       "  ('Cup', 'NOUN'),\n",
       "  ('to', 'PRT'),\n",
       "  ('be', 'VERB'),\n",
       "  ('held', 'VERB'),\n",
       "  ('in', 'ADP'),\n",
       "  ('Eastern', 'NOUN'),\n",
       "  ('Europe', 'NOUN'),\n",
       "  ('and', 'CONJ'),\n",
       "  ('the', 'DET'),\n",
       "  ('11th', 'NUM'),\n",
       "  ('time', 'NOUN'),\n",
       "  ('that', 'ADP'),\n",
       "  ('it', 'PRON'),\n",
       "  ('has', 'VERB'),\n",
       "  ('been', 'VERB'),\n",
       "  ('held', 'VERB'),\n",
       "  ('in', 'ADP'),\n",
       "  ('Europe', 'NOUN'),\n",
       "  ('.', '.')],\n",
       " [('Show', 'VERB'),\n",
       "  ('me', 'PRON'),\n",
       "  ('the', 'DET'),\n",
       "  ('cheapest', 'ADJ'),\n",
       "  ('round', 'NOUN'),\n",
       "  ('trips', 'NOUN'),\n",
       "  ('from', 'ADP'),\n",
       "  ('Dallas', 'NOUN'),\n",
       "  ('to', 'PRT'),\n",
       "  ('Atlanta', 'VERB')],\n",
       " [('I', 'PRON'),\n",
       "  ('would', 'VERB'),\n",
       "  ('like', 'VERB'),\n",
       "  ('to', 'PRT'),\n",
       "  ('see', 'VERB'),\n",
       "  ('flights', 'NOUN'),\n",
       "  ('from', 'ADP'),\n",
       "  ('Denver', 'NOUN'),\n",
       "  ('to', 'PRT'),\n",
       "  ('Philadelphia', 'NOUN'),\n",
       "  ('.', '.')],\n",
       " [('Show', 'VERB'),\n",
       "  ('me', 'PRON'),\n",
       "  ('the', 'DET'),\n",
       "  ('price', 'NOUN'),\n",
       "  ('of', 'ADP'),\n",
       "  ('the', 'DET'),\n",
       "  ('flights', 'NOUN'),\n",
       "  ('leaving', 'VERB'),\n",
       "  ('Atlanta', 'NOUN'),\n",
       "  ('at', 'ADP'),\n",
       "  ('about', 'ADV'),\n",
       "  ('3', 'NUM'),\n",
       "  ('in', 'ADP'),\n",
       "  ('the', 'DET'),\n",
       "  ('afternoon', 'NOUN'),\n",
       "  ('and', 'CONJ'),\n",
       "  ('arriving', 'NOUN'),\n",
       "  ('in', 'ADP'),\n",
       "  ('San', 'NOUN'),\n",
       "  ('Francisco', 'NOUN'),\n",
       "  ('.', '.')],\n",
       " [('NASA', 'NOUN'),\n",
       "  ('invited', 'VERB'),\n",
       "  ('social', 'ADJ'),\n",
       "  ('media', 'NOUN'),\n",
       "  ('users', 'NOUN'),\n",
       "  ('to', 'PRT'),\n",
       "  ('experience', 'VERB'),\n",
       "  ('the', 'DET'),\n",
       "  ('launch', 'NOUN'),\n",
       "  ('of', 'ADP'),\n",
       "  ('ICESAT-2', 'NOUN'),\n",
       "  ('Satellite', 'NOUN'),\n",
       "  ('.', '.')]]"
      ]
     },
     "execution_count": 43,
     "metadata": {},
     "output_type": "execute_result"
    }
   ],
   "source": [
    "sample_test_tokenized_sents = [word_tokenize(sent) for sent in sample_test_sentences]\n",
    "sample_test_corpus_pos_tags = nltk.pos_tag_sents(sample_test_tokenized_sents, tagset = 'universal')\n",
    "sample_test_corpus_pos_tags"
   ]
  },
  {
   "cell_type": "code",
   "execution_count": 44,
   "metadata": {},
   "outputs": [],
   "source": [
    "# list of untagged words from the sample test data provided\n",
    "sample_test_tagged_words = [tup[0] for sent in sample_test_corpus_pos_tags for tup in sent]\n",
    "\n",
    "\n",
    "# list of tagged words\n",
    "sample_test_test_run_base = [tup for sent in sample_test_corpus_pos_tags for tup in sent]"
   ]
  },
  {
   "cell_type": "code",
   "execution_count": 45,
   "metadata": {
    "scrolled": true
   },
   "outputs": [
    {
     "data": {
      "text/plain": [
       "['Android',\n",
       " 'is',\n",
       " 'a',\n",
       " 'mobile',\n",
       " 'operating',\n",
       " 'system',\n",
       " 'developed',\n",
       " 'by',\n",
       " 'Google',\n",
       " '.',\n",
       " 'Android',\n",
       " 'has',\n",
       " 'been',\n",
       " 'the',\n",
       " 'best-selling',\n",
       " 'OS',\n",
       " 'worldwide',\n",
       " 'on',\n",
       " 'smartphones',\n",
       " 'since',\n",
       " '2011',\n",
       " 'and',\n",
       " 'on',\n",
       " 'tablets',\n",
       " 'since',\n",
       " '2013',\n",
       " '.',\n",
       " 'Google',\n",
       " 'and',\n",
       " 'Twitter',\n",
       " 'made',\n",
       " 'a',\n",
       " 'deal',\n",
       " 'in',\n",
       " '2015',\n",
       " 'that',\n",
       " 'gave',\n",
       " 'Google',\n",
       " 'access',\n",
       " 'to',\n",
       " 'Twitter',\n",
       " \"'s\",\n",
       " 'firehose',\n",
       " '.',\n",
       " 'Twitter',\n",
       " 'is',\n",
       " 'an',\n",
       " 'online',\n",
       " 'news',\n",
       " 'and',\n",
       " 'social',\n",
       " 'networking',\n",
       " 'service',\n",
       " 'on',\n",
       " 'which',\n",
       " 'users',\n",
       " 'post',\n",
       " 'and',\n",
       " 'interact',\n",
       " 'with',\n",
       " 'messages',\n",
       " 'known',\n",
       " 'as',\n",
       " 'tweets',\n",
       " '.',\n",
       " 'Before',\n",
       " 'entering',\n",
       " 'politics',\n",
       " ',',\n",
       " 'Donald',\n",
       " 'Trump',\n",
       " 'was',\n",
       " 'a',\n",
       " 'domineering',\n",
       " 'businessman',\n",
       " 'and',\n",
       " 'a',\n",
       " 'television',\n",
       " 'personality',\n",
       " '.',\n",
       " 'The',\n",
       " '2018',\n",
       " 'FIFA',\n",
       " 'World',\n",
       " 'Cup',\n",
       " 'is',\n",
       " 'the',\n",
       " '21st',\n",
       " 'FIFA',\n",
       " 'World',\n",
       " 'Cup',\n",
       " ',',\n",
       " 'an',\n",
       " 'international',\n",
       " 'football',\n",
       " 'tournament',\n",
       " 'contested',\n",
       " 'once',\n",
       " 'every',\n",
       " 'four',\n",
       " 'years',\n",
       " '.',\n",
       " 'This',\n",
       " 'is',\n",
       " 'the',\n",
       " 'first',\n",
       " 'World',\n",
       " 'Cup',\n",
       " 'to',\n",
       " 'be',\n",
       " 'held',\n",
       " 'in',\n",
       " 'Eastern',\n",
       " 'Europe',\n",
       " 'and',\n",
       " 'the',\n",
       " '11th',\n",
       " 'time',\n",
       " 'that',\n",
       " 'it',\n",
       " 'has',\n",
       " 'been',\n",
       " 'held',\n",
       " 'in',\n",
       " 'Europe',\n",
       " '.',\n",
       " 'Show',\n",
       " 'me',\n",
       " 'the',\n",
       " 'cheapest',\n",
       " 'round',\n",
       " 'trips',\n",
       " 'from',\n",
       " 'Dallas',\n",
       " 'to',\n",
       " 'Atlanta',\n",
       " 'I',\n",
       " 'would',\n",
       " 'like',\n",
       " 'to',\n",
       " 'see',\n",
       " 'flights',\n",
       " 'from',\n",
       " 'Denver',\n",
       " 'to',\n",
       " 'Philadelphia',\n",
       " '.',\n",
       " 'Show',\n",
       " 'me',\n",
       " 'the',\n",
       " 'price',\n",
       " 'of',\n",
       " 'the',\n",
       " 'flights',\n",
       " 'leaving',\n",
       " 'Atlanta',\n",
       " 'at',\n",
       " 'about',\n",
       " '3',\n",
       " 'in',\n",
       " 'the',\n",
       " 'afternoon',\n",
       " 'and',\n",
       " 'arriving',\n",
       " 'in',\n",
       " 'San',\n",
       " 'Francisco',\n",
       " '.',\n",
       " 'NASA',\n",
       " 'invited',\n",
       " 'social',\n",
       " 'media',\n",
       " 'users',\n",
       " 'to',\n",
       " 'experience',\n",
       " 'the',\n",
       " 'launch',\n",
       " 'of',\n",
       " 'ICESAT-2',\n",
       " 'Satellite',\n",
       " '.']"
      ]
     },
     "execution_count": 45,
     "metadata": {},
     "output_type": "execute_result"
    }
   ],
   "source": [
    "sample_test_tagged_words"
   ]
  },
  {
   "cell_type": "markdown",
   "metadata": {},
   "source": [
    "### 1. Testing the accuracy of Vanilla Viterbi on sample test data - "
   ]
  },
  {
   "cell_type": "code",
   "execution_count": 46,
   "metadata": {},
   "outputs": [
    {
     "name": "stdout",
     "output_type": "stream",
     "text": [
      "The accuracy of the Vanilla Viterbi Algorithm on the sample test data is - 0.7513812154696132\n"
     ]
    }
   ],
   "source": [
    "# tagging the test sentences\n",
    "sample_test_tagged_seq = Vanilla_Viterbi(sample_test_tagged_words)\n",
    "\n",
    "# Let's check the accuracy of the vanilla viterbi algorithm\n",
    "sample_test_check = [i for i, j in zip(sample_test_tagged_seq, sample_test_test_run_base) if i == j]\n",
    "\n",
    "vanilla_viterbi_accuracy_on_sample_test_data = len(sample_test_check)/len(sample_test_tagged_seq)\n",
    "\n",
    "print(\"The accuracy of the Vanilla Viterbi Algorithm on the sample test data is -\", vanilla_viterbi_accuracy_on_sample_test_data)"
   ]
  },
  {
   "cell_type": "markdown",
   "metadata": {},
   "source": [
    "### 2. Testing the accuracy of Vanilla_Viterbi_for_Unknown_Words on sample test data - "
   ]
  },
  {
   "cell_type": "code",
   "execution_count": 47,
   "metadata": {},
   "outputs": [
    {
     "name": "stdout",
     "output_type": "stream",
     "text": [
      "The accuracy of the Vanilla_Viterbi_for_Unknown_Words on the sample test data is - 0.861878453038674\n"
     ]
    }
   ],
   "source": [
    "# tagging the test sentences\n",
    "sample_test_unknown_word_tagged_seq = Vanilla_Viterbi_for_Unknown_Words(sample_test_tagged_words)\n",
    "\n",
    "# accuracy\n",
    "sample_test_unknown_word_check = [i for i, j in zip(sample_test_unknown_word_tagged_seq, sample_test_test_run_base) if i == j]\n",
    "\n",
    "sample_test_optimized_viterbi_accuracy = len(sample_test_unknown_word_check)/len(sample_test_unknown_word_tagged_seq)\n",
    "\n",
    "print(\"The accuracy of the Vanilla_Viterbi_for_Unknown_Words on the sample test data is -\", sample_test_optimized_viterbi_accuracy)"
   ]
  },
  {
   "cell_type": "markdown",
   "metadata": {},
   "source": [
    "### 3. Testing the accuracy of Viterbi_backedup_by_trigram_tagger on sample test data - "
   ]
  },
  {
   "cell_type": "code",
   "execution_count": 48,
   "metadata": {},
   "outputs": [
    {
     "name": "stdout",
     "output_type": "stream",
     "text": [
      "The accuracy of the viterbi_backedup_by_trigram_tagger on the sample test data is - 0.9281767955801105\n"
     ]
    }
   ],
   "source": [
    "# tagging the test sentences\n",
    "sample_test_viterbi_trigram_tagged_seq = viterbi_backedup_by_trigram_tagger(sample_test_tagged_words)\n",
    "\n",
    "# accuracy\n",
    "sample_test_viterbi_trigram_check = [i for i, j in zip(sample_test_viterbi_trigram_tagged_seq, sample_test_test_run_base) if i == j]\n",
    "\n",
    "sample_test_viterbi_trigram_accuracy = len(sample_test_viterbi_trigram_check)/len(sample_test_viterbi_trigram_tagged_seq)\n",
    "\n",
    "print(\"The accuracy of the viterbi_backedup_by_trigram_tagger on the sample test data is -\", sample_test_viterbi_trigram_accuracy)"
   ]
  },
  {
   "cell_type": "markdown",
   "metadata": {},
   "source": [
    "###### Comparing the accuracies of the 3 algorithm on sample test data -"
   ]
  },
  {
   "cell_type": "code",
   "execution_count": 49,
   "metadata": {},
   "outputs": [
    {
     "data": {
      "text/html": [
       "<div>\n",
       "<style scoped>\n",
       "    .dataframe tbody tr th:only-of-type {\n",
       "        vertical-align: middle;\n",
       "    }\n",
       "\n",
       "    .dataframe tbody tr th {\n",
       "        vertical-align: top;\n",
       "    }\n",
       "\n",
       "    .dataframe thead th {\n",
       "        text-align: right;\n",
       "    }\n",
       "</style>\n",
       "<table border=\"1\" class=\"dataframe\">\n",
       "  <thead>\n",
       "    <tr style=\"text-align: right;\">\n",
       "      <th></th>\n",
       "      <th>Tagging_Accuracy</th>\n",
       "    </tr>\n",
       "    <tr>\n",
       "      <th>Tagging_Algorithm</th>\n",
       "      <th></th>\n",
       "    </tr>\n",
       "  </thead>\n",
       "  <tbody>\n",
       "    <tr>\n",
       "      <td>Vanilla Viterbi</td>\n",
       "      <td>75.138122</td>\n",
       "    </tr>\n",
       "    <tr>\n",
       "      <td>Optimized Vanilla Viterbi</td>\n",
       "      <td>86.187845</td>\n",
       "    </tr>\n",
       "    <tr>\n",
       "      <td>Viterbi + Trigram_tagger</td>\n",
       "      <td>92.817680</td>\n",
       "    </tr>\n",
       "  </tbody>\n",
       "</table>\n",
       "</div>"
      ],
      "text/plain": [
       "                           Tagging_Accuracy\n",
       "Tagging_Algorithm                          \n",
       "Vanilla Viterbi                   75.138122\n",
       "Optimized Vanilla Viterbi         86.187845\n",
       "Viterbi + Trigram_tagger          92.817680"
      ]
     },
     "execution_count": 49,
     "metadata": {},
     "output_type": "execute_result"
    }
   ],
   "source": [
    "acccuracy_on_sample_test_data = [['Vanilla Viterbi', vanilla_viterbi_accuracy_on_sample_test_data*100], \n",
    "                  ['Optimized Vanilla Viterbi', sample_test_optimized_viterbi_accuracy*100], \n",
    "                  ['Viterbi + Trigram_tagger', sample_test_viterbi_trigram_accuracy*100]]\n",
    "\n",
    "sample_test_data_acccuracy_df = pd.DataFrame(acccuracy_on_sample_test_data, columns = ['Tagging_Algorithm', 'Tagging_Accuracy'])\n",
    "\n",
    "sample_test_data_acccuracy_df.set_index('Tagging_Algorithm', drop = True, inplace = True)\n",
    "\n",
    "sample_test_data_acccuracy_df"
   ]
  },
  {
   "cell_type": "code",
   "execution_count": 50,
   "metadata": {},
   "outputs": [
    {
     "data": {
      "text/plain": [
       "<matplotlib.axes._subplots.AxesSubplot at 0x1a296d6550>"
      ]
     },
     "execution_count": 50,
     "metadata": {},
     "output_type": "execute_result"
    },
    {
     "data": {
      "image/png": "[encoded data removed]",
      "text/plain": [
       "<Figure size 432x288 with 1 Axes>"
      ]
     },
     "metadata": {
      "needs_background": "light"
     },
     "output_type": "display_data"
    }
   ],
   "source": [
    "sample_test_data_acccuracy_df.plot.line(rot = 90, legend = False)"
   ]
  },
  {
   "cell_type": "markdown",
   "metadata": {},
   "source": [
    "#### Observations:\n",
    "\n",
    "    We can see here the accuracy of each of the algorithm on sample test data as below:\t\n",
    "        1- Vanilla Viterbi\t- 75.14%\n",
    "        2- Modified Vanilla Viterbi I - 86.2%\n",
    "        3- Modified Vanilla Viterbi II(Viterbi Backedby Trigram_tagger)\t- 92.82%\n",
    "        \n",
    "Since Modified Vanilla Viterbi II(Viterbi Backedby Trigram_tagger)is clearly the winner as it has the highest accuracy compared to the other two methods"
   ]
  },
  {
   "cell_type": "markdown",
   "metadata": {},
   "source": [
    "### List down cases which were incorrectly tagged by original POS tagger and got corrected by your modifications\n",
    "\n",
    "    - In this task , we have considere some sample sentences as given to us and tried to correctly identify the incorrectly tagged POS Tags of Vanilla Viterbi using Modified Vanilla Viterbi\n",
    "\n",
    "    - Below 5 such cases have been listed along with the observation of correctly identified POS tags.\n",
    "\n",
    "    - Also a comparison of tags(using all the three methodsi.e - vanilla viterbi, modified viterbi I, modified viterbi II) for all the samples is done at the end."
   ]
  },
  {
   "cell_type": "code",
   "execution_count": 51,
   "metadata": {},
   "outputs": [],
   "source": [
    "# test sentences\n",
    "test_sentence_1 = 'Android is a mobile operating system developed by Google.'\n",
    "test_sentence_2 = 'Android has been the best-selling OS worldwide on smartphones since 2011 and on tablets since 2013.'\n",
    "test_sentence_3 = \"Google and Twitter made a deal in 2015 that gave Google access to Twitter's firehose.\"\n",
    "test_sentence_4 = 'Twitter is an online news and social networking service on which users post and interact with messages known as tweets.'\n",
    "test_sentence_5 = 'Before entering politics, Donald Trump was a domineering businessman and a television personality.'\n",
    "test_sentence_6 = 'The 2018 FIFA World Cup is the 21st FIFA World Cup, an international football tournament contested once every four years.'\n",
    "test_sentence_7 = 'This is the first World Cup to be held in Eastern Europe and the 11th time that it has been held in Europe.'\n",
    "test_sentence_8 = 'Show me the cheapest round trips from Dallas to Atlanta'\n",
    "test_sentence_9 = 'I would like to see flights from Denver to Philadelphia.'\n",
    "test_sentence_10 = 'Show me the price of the flights leaving Atlanta at about 3 in the afternoon and arriving in San Francisco.'\n",
    "test_sentence_11 = 'NASA invited social media users to experience the launch of ICESAT-2 Satellite.'"
   ]
  },
  {
   "cell_type": "markdown",
   "metadata": {},
   "source": [
    "#### Here we have considered some sentences from the above sampe sentences which were incorrectly tagged POS words using Vanilla Viterbi & have got correctly tagged after applying the modified viterbi technique backed by trigram tagged in our case\n",
    "\n",
    "### Case 1 : \n",
    "\n",
    "**test_sentence_2 = 'Android has been the best-selling OS worldwide on smartphones since 2011 and on tablets since 2013.'**"
   ]
  },
  {
   "cell_type": "code",
   "execution_count": 54,
   "metadata": {},
   "outputs": [
    {
     "name": "stdout",
     "output_type": "stream",
     "text": [
      "Tagging sequence with Vanilla_Viterbi -\n",
      "\n",
      " [('Android', 'DET'), ('has', 'VERB'), ('been', 'VERB'), ('the', 'DET'), ('best-selling', 'ADJ'), ('OS', 'DET'), ('worldwide', 'DET'), ('on', 'ADP'), ('smartphones', 'DET'), ('since', 'ADP'), ('2011', 'DET'), ('and', 'CONJ'), ('on', 'ADP'), ('tablets', 'NOUN'), ('since', 'ADP'), ('2013', 'DET'), ('.', '.')]\n",
      "\n",
      "\n",
      "------------------------------------------------------------------------------------------------------------------------\n",
      "Tagging sequence with viterbi_backedup_by_trigram_tagger -\n",
      "\n",
      " [('Android', 'NOUN'), ('has', 'VERB'), ('been', 'VERB'), ('the', 'DET'), ('best-selling', 'ADJ'), ('OS', 'NOUN'), ('worldwide', 'NOUN'), ('on', 'ADP'), ('smartphones', 'VERB'), ('since', 'ADP'), ('2011', 'NUM'), ('and', 'CONJ'), ('on', 'ADP'), ('tablets', 'NOUN'), ('since', 'ADP'), ('2013', 'NUM'), ('.', '.')]\n"
     ]
    }
   ],
   "source": [
    "words_test_sentence_2 = nltk.word_tokenize(test_sentence_2)\n",
    "\n",
    "# pos tags with Vanilla_Viterbi\n",
    "pos_tagged_sequence_with_vanilla_viterbi = Vanilla_Viterbi(words_test_sentence_2)\n",
    "print(\"Tagging sequence with Vanilla_Viterbi -\\n\\n\", pos_tagged_sequence_with_vanilla_viterbi)\n",
    "\n",
    "print('\\n')\n",
    "print('-'*120)\n",
    "\n",
    "# pos tags with viterbi_backedup_by_trigram_tagger\n",
    "pos_tagged_sequence_with_viterbi_trigram = viterbi_backedup_by_trigram_tagger(words_test_sentence_2)\n",
    "print(\"Tagging sequence with viterbi_backedup_by_trigram_tagger -\\n\\n\", pos_tagged_sequence_with_viterbi_trigram)"
   ]
  },
  {
   "cell_type": "code",
   "execution_count": 55,
   "metadata": {
    "scrolled": true
   },
   "outputs": [
    {
     "data": {
      "text/html": [
       "<div>\n",
       "<style scoped>\n",
       "    .dataframe tbody tr th:only-of-type {\n",
       "        vertical-align: middle;\n",
       "    }\n",
       "\n",
       "    .dataframe tbody tr th {\n",
       "        vertical-align: top;\n",
       "    }\n",
       "\n",
       "    .dataframe thead th {\n",
       "        text-align: right;\n",
       "    }\n",
       "</style>\n",
       "<table border=\"1\" class=\"dataframe\">\n",
       "  <thead>\n",
       "    <tr style=\"text-align: right;\">\n",
       "      <th></th>\n",
       "      <th>vanilla_viterbi_tags</th>\n",
       "      <th>viterbi_trigram_tags_with_corrections</th>\n",
       "    </tr>\n",
       "  </thead>\n",
       "  <tbody>\n",
       "    <tr>\n",
       "      <td>0</td>\n",
       "      <td>(Android, DET)</td>\n",
       "      <td>(Android, NOUN)</td>\n",
       "    </tr>\n",
       "    <tr>\n",
       "      <td>1</td>\n",
       "      <td>(has, VERB)</td>\n",
       "      <td>(has, VERB)</td>\n",
       "    </tr>\n",
       "    <tr>\n",
       "      <td>2</td>\n",
       "      <td>(been, VERB)</td>\n",
       "      <td>(been, VERB)</td>\n",
       "    </tr>\n",
       "    <tr>\n",
       "      <td>3</td>\n",
       "      <td>(the, DET)</td>\n",
       "      <td>(the, DET)</td>\n",
       "    </tr>\n",
       "    <tr>\n",
       "      <td>4</td>\n",
       "      <td>(best-selling, ADJ)</td>\n",
       "      <td>(best-selling, ADJ)</td>\n",
       "    </tr>\n",
       "    <tr>\n",
       "      <td>5</td>\n",
       "      <td>(OS, DET)</td>\n",
       "      <td>(OS, NOUN)</td>\n",
       "    </tr>\n",
       "    <tr>\n",
       "      <td>6</td>\n",
       "      <td>(worldwide, DET)</td>\n",
       "      <td>(worldwide, NOUN)</td>\n",
       "    </tr>\n",
       "    <tr>\n",
       "      <td>7</td>\n",
       "      <td>(on, ADP)</td>\n",
       "      <td>(on, ADP)</td>\n",
       "    </tr>\n",
       "    <tr>\n",
       "      <td>8</td>\n",
       "      <td>(smartphones, DET)</td>\n",
       "      <td>(smartphones, VERB)</td>\n",
       "    </tr>\n",
       "    <tr>\n",
       "      <td>9</td>\n",
       "      <td>(since, ADP)</td>\n",
       "      <td>(since, ADP)</td>\n",
       "    </tr>\n",
       "    <tr>\n",
       "      <td>10</td>\n",
       "      <td>(2011, DET)</td>\n",
       "      <td>(2011, NUM)</td>\n",
       "    </tr>\n",
       "    <tr>\n",
       "      <td>11</td>\n",
       "      <td>(and, CONJ)</td>\n",
       "      <td>(and, CONJ)</td>\n",
       "    </tr>\n",
       "    <tr>\n",
       "      <td>12</td>\n",
       "      <td>(on, ADP)</td>\n",
       "      <td>(on, ADP)</td>\n",
       "    </tr>\n",
       "    <tr>\n",
       "      <td>13</td>\n",
       "      <td>(tablets, NOUN)</td>\n",
       "      <td>(tablets, NOUN)</td>\n",
       "    </tr>\n",
       "    <tr>\n",
       "      <td>14</td>\n",
       "      <td>(since, ADP)</td>\n",
       "      <td>(since, ADP)</td>\n",
       "    </tr>\n",
       "    <tr>\n",
       "      <td>15</td>\n",
       "      <td>(2013, DET)</td>\n",
       "      <td>(2013, NUM)</td>\n",
       "    </tr>\n",
       "    <tr>\n",
       "      <td>16</td>\n",
       "      <td>(., .)</td>\n",
       "      <td>(., .)</td>\n",
       "    </tr>\n",
       "  </tbody>\n",
       "</table>\n",
       "</div>"
      ],
      "text/plain": [
       "   vanilla_viterbi_tags viterbi_trigram_tags_with_corrections\n",
       "0        (Android, DET)                       (Android, NOUN)\n",
       "1           (has, VERB)                           (has, VERB)\n",
       "2          (been, VERB)                          (been, VERB)\n",
       "3            (the, DET)                            (the, DET)\n",
       "4   (best-selling, ADJ)                   (best-selling, ADJ)\n",
       "5             (OS, DET)                            (OS, NOUN)\n",
       "6      (worldwide, DET)                     (worldwide, NOUN)\n",
       "7             (on, ADP)                             (on, ADP)\n",
       "8    (smartphones, DET)                   (smartphones, VERB)\n",
       "9          (since, ADP)                          (since, ADP)\n",
       "10          (2011, DET)                           (2011, NUM)\n",
       "11          (and, CONJ)                           (and, CONJ)\n",
       "12            (on, ADP)                             (on, ADP)\n",
       "13      (tablets, NOUN)                       (tablets, NOUN)\n",
       "14         (since, ADP)                          (since, ADP)\n",
       "15          (2013, DET)                           (2013, NUM)\n",
       "16               (., .)                                (., .)"
      ]
     },
     "execution_count": 55,
     "metadata": {},
     "output_type": "execute_result"
    }
   ],
   "source": [
    "cols = ['vanilla_viterbi_tags', 'viterbi_trigram_tags_with_corrections']\n",
    "tags_correction_df_2 = pd.DataFrame(columns = cols)\n",
    "tags_correction_df_2 = tags_correction_df_2.fillna(0)\n",
    "\n",
    "tags_correction_df_2.vanilla_viterbi_tags = [tup for tup in pos_tagged_sequence_with_vanilla_viterbi]\n",
    "tags_correction_df_2.viterbi_trigram_tags_with_corrections = [tup for tup in pos_tagged_sequence_with_viterbi_trigram]\n",
    "\n",
    "tags_correction_df_2"
   ]
  },
  {
   "cell_type": "markdown",
   "metadata": {},
   "source": [
    "#### Observation : The Incorrectly tagged words that are tagged correctly identified in the sentence 2 are as listed below:\n",
    "\n",
    "    1- (2013, DET)-->(2013, NUM)    \n",
    "    2- (smartphones, DET)-->(smartphones, VERB)   \n",
    "    3- (2011, DET)-->(2011, NUM)\n",
    "    4- (Android, DET)-->(Android, NOUN)\n",
    "    5- (OS, DET)-->(OS, DET)\n",
    "    6- (Android, DET)-->(Android, NOUN)"
   ]
  },
  {
   "cell_type": "markdown",
   "metadata": {},
   "source": [
    "### Case 2:\n",
    "\n",
    "#### test_sentence_3 = \"Google and Twitter made a deal in 2015 that gave Google access to Twitter's firehose.\"\n"
   ]
  },
  {
   "cell_type": "code",
   "execution_count": 56,
   "metadata": {},
   "outputs": [
    {
     "name": "stdout",
     "output_type": "stream",
     "text": [
      "Tagging sequence with Vanilla_Viterbi -\n",
      "\n",
      " [('Google', 'DET'), ('and', 'CONJ'), ('Twitter', 'DET'), ('made', 'VERB'), ('a', 'DET'), ('deal', 'NOUN'), ('in', 'ADP'), ('2015', 'DET'), ('that', 'ADP'), ('gave', 'VERB'), ('Google', 'DET'), ('access', 'NOUN'), ('to', 'PRT'), ('Twitter', 'DET'), (\"'s\", 'VERB'), ('firehose', 'DET'), ('.', '.')]\n",
      "\n",
      "\n",
      "----------------------------------------------------------------------------------------------------\n",
      "Tagging sequence with viterbi_backedup_by_trigram_tagger -\n",
      "\n",
      " [('Google', 'NOUN'), ('and', 'CONJ'), ('Twitter', 'NOUN'), ('made', 'VERB'), ('a', 'DET'), ('deal', 'NOUN'), ('in', 'ADP'), ('2015', 'NUM'), ('that', 'ADP'), ('gave', 'VERB'), ('Google', 'NOUN'), ('access', 'NOUN'), ('to', 'PRT'), ('Twitter', 'NOUN'), (\"'s\", 'PRT'), ('firehose', 'NOUN'), ('.', '.')]\n"
     ]
    }
   ],
   "source": [
    "# test_sentence_3 = \"Google and Twitter made a deal in 2015 that gave Google access to Twitter's firehose.\"\n",
    "\n",
    "words_test_sentence_3 = nltk.word_tokenize(test_sentence_3)\n",
    "\n",
    "# pos tags with Vanilla_Viterbi\n",
    "pos_tagged_sequence_with_vanilla_viterbi = Vanilla_Viterbi(words_test_sentence_3)\n",
    "print(\"Tagging sequence with Vanilla_Viterbi -\\n\\n\", pos_tagged_sequence_with_vanilla_viterbi)\n",
    "\n",
    "print('\\n')\n",
    "print('-'*100)\n",
    "\n",
    "# pos tags with viterbi_backedup_by_trigram_tagger\n",
    "pos_tagged_sequence_with_viterbi_trigram = viterbi_backedup_by_trigram_tagger(words_test_sentence_3)\n",
    "print(\"Tagging sequence with viterbi_backedup_by_trigram_tagger -\\n\\n\", pos_tagged_sequence_with_viterbi_trigram)"
   ]
  },
  {
   "cell_type": "code",
   "execution_count": 57,
   "metadata": {
    "scrolled": true
   },
   "outputs": [
    {
     "data": {
      "text/html": [
       "<div>\n",
       "<style scoped>\n",
       "    .dataframe tbody tr th:only-of-type {\n",
       "        vertical-align: middle;\n",
       "    }\n",
       "\n",
       "    .dataframe tbody tr th {\n",
       "        vertical-align: top;\n",
       "    }\n",
       "\n",
       "    .dataframe thead th {\n",
       "        text-align: right;\n",
       "    }\n",
       "</style>\n",
       "<table border=\"1\" class=\"dataframe\">\n",
       "  <thead>\n",
       "    <tr style=\"text-align: right;\">\n",
       "      <th></th>\n",
       "      <th>vanilla_viterbi_tags</th>\n",
       "      <th>viterbi_trigram_tags_with_corrections</th>\n",
       "    </tr>\n",
       "  </thead>\n",
       "  <tbody>\n",
       "    <tr>\n",
       "      <td>0</td>\n",
       "      <td>(Google, DET)</td>\n",
       "      <td>(Google, NOUN)</td>\n",
       "    </tr>\n",
       "    <tr>\n",
       "      <td>1</td>\n",
       "      <td>(and, CONJ)</td>\n",
       "      <td>(and, CONJ)</td>\n",
       "    </tr>\n",
       "    <tr>\n",
       "      <td>2</td>\n",
       "      <td>(Twitter, DET)</td>\n",
       "      <td>(Twitter, NOUN)</td>\n",
       "    </tr>\n",
       "    <tr>\n",
       "      <td>3</td>\n",
       "      <td>(made, VERB)</td>\n",
       "      <td>(made, VERB)</td>\n",
       "    </tr>\n",
       "    <tr>\n",
       "      <td>4</td>\n",
       "      <td>(a, DET)</td>\n",
       "      <td>(a, DET)</td>\n",
       "    </tr>\n",
       "    <tr>\n",
       "      <td>5</td>\n",
       "      <td>(deal, NOUN)</td>\n",
       "      <td>(deal, NOUN)</td>\n",
       "    </tr>\n",
       "    <tr>\n",
       "      <td>6</td>\n",
       "      <td>(in, ADP)</td>\n",
       "      <td>(in, ADP)</td>\n",
       "    </tr>\n",
       "    <tr>\n",
       "      <td>7</td>\n",
       "      <td>(2015, DET)</td>\n",
       "      <td>(2015, NUM)</td>\n",
       "    </tr>\n",
       "    <tr>\n",
       "      <td>8</td>\n",
       "      <td>(that, ADP)</td>\n",
       "      <td>(that, ADP)</td>\n",
       "    </tr>\n",
       "    <tr>\n",
       "      <td>9</td>\n",
       "      <td>(gave, VERB)</td>\n",
       "      <td>(gave, VERB)</td>\n",
       "    </tr>\n",
       "    <tr>\n",
       "      <td>10</td>\n",
       "      <td>(Google, DET)</td>\n",
       "      <td>(Google, NOUN)</td>\n",
       "    </tr>\n",
       "    <tr>\n",
       "      <td>11</td>\n",
       "      <td>(access, NOUN)</td>\n",
       "      <td>(access, NOUN)</td>\n",
       "    </tr>\n",
       "    <tr>\n",
       "      <td>12</td>\n",
       "      <td>(to, PRT)</td>\n",
       "      <td>(to, PRT)</td>\n",
       "    </tr>\n",
       "    <tr>\n",
       "      <td>13</td>\n",
       "      <td>(Twitter, DET)</td>\n",
       "      <td>(Twitter, NOUN)</td>\n",
       "    </tr>\n",
       "    <tr>\n",
       "      <td>14</td>\n",
       "      <td>('s, VERB)</td>\n",
       "      <td>('s, PRT)</td>\n",
       "    </tr>\n",
       "    <tr>\n",
       "      <td>15</td>\n",
       "      <td>(firehose, DET)</td>\n",
       "      <td>(firehose, NOUN)</td>\n",
       "    </tr>\n",
       "    <tr>\n",
       "      <td>16</td>\n",
       "      <td>(., .)</td>\n",
       "      <td>(., .)</td>\n",
       "    </tr>\n",
       "  </tbody>\n",
       "</table>\n",
       "</div>"
      ],
      "text/plain": [
       "   vanilla_viterbi_tags viterbi_trigram_tags_with_corrections\n",
       "0         (Google, DET)                        (Google, NOUN)\n",
       "1           (and, CONJ)                           (and, CONJ)\n",
       "2        (Twitter, DET)                       (Twitter, NOUN)\n",
       "3          (made, VERB)                          (made, VERB)\n",
       "4              (a, DET)                              (a, DET)\n",
       "5          (deal, NOUN)                          (deal, NOUN)\n",
       "6             (in, ADP)                             (in, ADP)\n",
       "7           (2015, DET)                           (2015, NUM)\n",
       "8           (that, ADP)                           (that, ADP)\n",
       "9          (gave, VERB)                          (gave, VERB)\n",
       "10        (Google, DET)                        (Google, NOUN)\n",
       "11       (access, NOUN)                        (access, NOUN)\n",
       "12            (to, PRT)                             (to, PRT)\n",
       "13       (Twitter, DET)                       (Twitter, NOUN)\n",
       "14           ('s, VERB)                             ('s, PRT)\n",
       "15      (firehose, DET)                      (firehose, NOUN)\n",
       "16               (., .)                                (., .)"
      ]
     },
     "execution_count": 57,
     "metadata": {},
     "output_type": "execute_result"
    }
   ],
   "source": [
    "cols = ['vanilla_viterbi_tags', 'viterbi_trigram_tags_with_corrections']\n",
    "tags_correction_df_3 = pd.DataFrame(columns = cols)\n",
    "tags_correction_df_3 = tags_correction_df_3.fillna(0)\n",
    "\n",
    "tags_correction_df_3.vanilla_viterbi_tags = [tup for tup in pos_tagged_sequence_with_vanilla_viterbi]\n",
    "tags_correction_df_3.viterbi_trigram_tags_with_corrections = [tup for tup in pos_tagged_sequence_with_viterbi_trigram]\n",
    "\n",
    "tags_correction_df_3"
   ]
  },
  {
   "cell_type": "markdown",
   "metadata": {},
   "source": [
    "#### Observation : The tags correctly identified in the sentence 3 is as listed below:\n",
    "\n",
    "    1- (2015, DET)-->(2015, NUM)\n",
    "    2- (Twitter, DET)-->(Twitter, NOUN)\n",
    "    3- ('s, VERB)-->('s, PRT)\n",
    "    4- (firehose, DET)-->(firehose, NOUN)\n",
    "    5- (Google, DET)--->(Google, NOUN)\t\t\n",
    " "
   ]
  },
  {
   "cell_type": "markdown",
   "metadata": {},
   "source": [
    "### Case 3:\n",
    "\n",
    "#### test_sentence_4 = 'Twitter is an online news and social networking service on which users post and interact with messages known as tweets.'"
   ]
  },
  {
   "cell_type": "code",
   "execution_count": 58,
   "metadata": {
    "scrolled": true
   },
   "outputs": [
    {
     "name": "stdout",
     "output_type": "stream",
     "text": [
      "Tagging sequence with Vanilla_Viterbi -\n",
      "\n",
      " [('Twitter', 'DET'), ('is', 'VERB'), ('an', 'DET'), ('online', 'DET'), ('news', 'NOUN'), ('and', 'CONJ'), ('social', 'ADJ'), ('networking', 'NOUN'), ('service', 'NOUN'), ('on', 'ADP'), ('which', 'DET'), ('users', 'NOUN'), ('post', 'NOUN'), ('and', 'CONJ'), ('interact', 'DET'), ('with', 'ADP'), ('messages', 'DET'), ('known', 'VERB'), ('as', 'ADP'), ('tweets', 'DET'), ('.', '.')]\n",
      "\n",
      "\n",
      "------------------------------------------------------------------------------------------------------------------------\n",
      "Tagging sequence with viterbi_backedup_by_trigram_tagger -\n",
      "\n",
      " [('Twitter', 'NOUN'), ('is', 'VERB'), ('an', 'DET'), ('online', 'NOUN'), ('news', 'NOUN'), ('and', 'CONJ'), ('social', 'ADJ'), ('networking', 'NOUN'), ('service', 'NOUN'), ('on', 'ADP'), ('which', 'DET'), ('users', 'NOUN'), ('post', 'NOUN'), ('and', 'CONJ'), ('interact', 'NOUN'), ('with', 'ADP'), ('messages', 'VERB'), ('known', 'VERB'), ('as', 'ADP'), ('tweets', 'NOUN'), ('.', '.')]\n"
     ]
    }
   ],
   "source": [
    "words_test_sentence_4 = nltk.word_tokenize(test_sentence_4)\n",
    "\n",
    "# pos tags with Vanilla_Viterbi\n",
    "pos_tagged_sequence_with_vanilla_viterbi = Vanilla_Viterbi(words_test_sentence_4)\n",
    "print(\"Tagging sequence with Vanilla_Viterbi -\\n\\n\", pos_tagged_sequence_with_vanilla_viterbi)\n",
    "\n",
    "print('\\n')\n",
    "print('-'*120)\n",
    "\n",
    "# pos tags with viterbi_backedup_by_trigram_tagger\n",
    "pos_tagged_sequence_with_viterbi_trigram = viterbi_backedup_by_trigram_tagger(words_test_sentence_4)\n",
    "print(\"Tagging sequence with viterbi_backedup_by_trigram_tagger -\\n\\n\", pos_tagged_sequence_with_viterbi_trigram)"
   ]
  },
  {
   "cell_type": "code",
   "execution_count": 59,
   "metadata": {
    "scrolled": true
   },
   "outputs": [
    {
     "data": {
      "text/html": [
       "<div>\n",
       "<style scoped>\n",
       "    .dataframe tbody tr th:only-of-type {\n",
       "        vertical-align: middle;\n",
       "    }\n",
       "\n",
       "    .dataframe tbody tr th {\n",
       "        vertical-align: top;\n",
       "    }\n",
       "\n",
       "    .dataframe thead th {\n",
       "        text-align: right;\n",
       "    }\n",
       "</style>\n",
       "<table border=\"1\" class=\"dataframe\">\n",
       "  <thead>\n",
       "    <tr style=\"text-align: right;\">\n",
       "      <th></th>\n",
       "      <th>vanilla_viterbi_tags</th>\n",
       "      <th>viterbi_trigram_tags_with_corrections</th>\n",
       "    </tr>\n",
       "  </thead>\n",
       "  <tbody>\n",
       "    <tr>\n",
       "      <td>0</td>\n",
       "      <td>(Twitter, DET)</td>\n",
       "      <td>(Twitter, NOUN)</td>\n",
       "    </tr>\n",
       "    <tr>\n",
       "      <td>1</td>\n",
       "      <td>(is, VERB)</td>\n",
       "      <td>(is, VERB)</td>\n",
       "    </tr>\n",
       "    <tr>\n",
       "      <td>2</td>\n",
       "      <td>(an, DET)</td>\n",
       "      <td>(an, DET)</td>\n",
       "    </tr>\n",
       "    <tr>\n",
       "      <td>3</td>\n",
       "      <td>(online, DET)</td>\n",
       "      <td>(online, NOUN)</td>\n",
       "    </tr>\n",
       "    <tr>\n",
       "      <td>4</td>\n",
       "      <td>(news, NOUN)</td>\n",
       "      <td>(news, NOUN)</td>\n",
       "    </tr>\n",
       "    <tr>\n",
       "      <td>5</td>\n",
       "      <td>(and, CONJ)</td>\n",
       "      <td>(and, CONJ)</td>\n",
       "    </tr>\n",
       "    <tr>\n",
       "      <td>6</td>\n",
       "      <td>(social, ADJ)</td>\n",
       "      <td>(social, ADJ)</td>\n",
       "    </tr>\n",
       "    <tr>\n",
       "      <td>7</td>\n",
       "      <td>(networking, NOUN)</td>\n",
       "      <td>(networking, NOUN)</td>\n",
       "    </tr>\n",
       "    <tr>\n",
       "      <td>8</td>\n",
       "      <td>(service, NOUN)</td>\n",
       "      <td>(service, NOUN)</td>\n",
       "    </tr>\n",
       "    <tr>\n",
       "      <td>9</td>\n",
       "      <td>(on, ADP)</td>\n",
       "      <td>(on, ADP)</td>\n",
       "    </tr>\n",
       "    <tr>\n",
       "      <td>10</td>\n",
       "      <td>(which, DET)</td>\n",
       "      <td>(which, DET)</td>\n",
       "    </tr>\n",
       "    <tr>\n",
       "      <td>11</td>\n",
       "      <td>(users, NOUN)</td>\n",
       "      <td>(users, NOUN)</td>\n",
       "    </tr>\n",
       "    <tr>\n",
       "      <td>12</td>\n",
       "      <td>(post, NOUN)</td>\n",
       "      <td>(post, NOUN)</td>\n",
       "    </tr>\n",
       "    <tr>\n",
       "      <td>13</td>\n",
       "      <td>(and, CONJ)</td>\n",
       "      <td>(and, CONJ)</td>\n",
       "    </tr>\n",
       "    <tr>\n",
       "      <td>14</td>\n",
       "      <td>(interact, DET)</td>\n",
       "      <td>(interact, NOUN)</td>\n",
       "    </tr>\n",
       "    <tr>\n",
       "      <td>15</td>\n",
       "      <td>(with, ADP)</td>\n",
       "      <td>(with, ADP)</td>\n",
       "    </tr>\n",
       "    <tr>\n",
       "      <td>16</td>\n",
       "      <td>(messages, DET)</td>\n",
       "      <td>(messages, VERB)</td>\n",
       "    </tr>\n",
       "    <tr>\n",
       "      <td>17</td>\n",
       "      <td>(known, VERB)</td>\n",
       "      <td>(known, VERB)</td>\n",
       "    </tr>\n",
       "    <tr>\n",
       "      <td>18</td>\n",
       "      <td>(as, ADP)</td>\n",
       "      <td>(as, ADP)</td>\n",
       "    </tr>\n",
       "    <tr>\n",
       "      <td>19</td>\n",
       "      <td>(tweets, DET)</td>\n",
       "      <td>(tweets, NOUN)</td>\n",
       "    </tr>\n",
       "    <tr>\n",
       "      <td>20</td>\n",
       "      <td>(., .)</td>\n",
       "      <td>(., .)</td>\n",
       "    </tr>\n",
       "  </tbody>\n",
       "</table>\n",
       "</div>"
      ],
      "text/plain": [
       "   vanilla_viterbi_tags viterbi_trigram_tags_with_corrections\n",
       "0        (Twitter, DET)                       (Twitter, NOUN)\n",
       "1            (is, VERB)                            (is, VERB)\n",
       "2             (an, DET)                             (an, DET)\n",
       "3         (online, DET)                        (online, NOUN)\n",
       "4          (news, NOUN)                          (news, NOUN)\n",
       "5           (and, CONJ)                           (and, CONJ)\n",
       "6         (social, ADJ)                         (social, ADJ)\n",
       "7    (networking, NOUN)                    (networking, NOUN)\n",
       "8       (service, NOUN)                       (service, NOUN)\n",
       "9             (on, ADP)                             (on, ADP)\n",
       "10         (which, DET)                          (which, DET)\n",
       "11        (users, NOUN)                         (users, NOUN)\n",
       "12         (post, NOUN)                          (post, NOUN)\n",
       "13          (and, CONJ)                           (and, CONJ)\n",
       "14      (interact, DET)                      (interact, NOUN)\n",
       "15          (with, ADP)                           (with, ADP)\n",
       "16      (messages, DET)                      (messages, VERB)\n",
       "17        (known, VERB)                         (known, VERB)\n",
       "18            (as, ADP)                             (as, ADP)\n",
       "19        (tweets, DET)                        (tweets, NOUN)\n",
       "20               (., .)                                (., .)"
      ]
     },
     "execution_count": 59,
     "metadata": {},
     "output_type": "execute_result"
    }
   ],
   "source": [
    "cols = ['vanilla_viterbi_tags', 'viterbi_trigram_tags_with_corrections']\n",
    "tags_correction_df_4 = pd.DataFrame(columns = cols)\n",
    "tags_correction_df_4 = tags_correction_df_4.fillna(0)\n",
    "\n",
    "tags_correction_df_4.vanilla_viterbi_tags = [tup for tup in pos_tagged_sequence_with_vanilla_viterbi]\n",
    "tags_correction_df_4.viterbi_trigram_tags_with_corrections = [tup for tup in pos_tagged_sequence_with_viterbi_trigram]\n",
    "\n",
    "tags_correction_df_4"
   ]
  },
  {
   "cell_type": "markdown",
   "metadata": {},
   "source": [
    "#### Observation : The Incorrectly tags are now tagged correctly identified in the sentence 4 is as listed below:\n",
    "\n",
    "    1- (messages, NOUN)-->(messages, VERB)   \n",
    "    2- (tweets, DET)-->\t(tweets, NOUN)\n",
    "    3- (messages, DET)-->\t(messages, VERB)\n",
    "    4- (interact, DET)-->\t(interact, NOUN)\n",
    "    5- (online, DET)-->\t(online, NOUN)\n",
    "    "
   ]
  },
  {
   "cell_type": "markdown",
   "metadata": {},
   "source": [
    "### Case 4\n",
    "\n",
    "#### test_sentence_6 = 'The 2018 FIFA World Cup is the 21st FIFA World Cup, an international football tournament contested once every four years.'"
   ]
  },
  {
   "cell_type": "code",
   "execution_count": 62,
   "metadata": {
    "scrolled": true
   },
   "outputs": [
    {
     "name": "stdout",
     "output_type": "stream",
     "text": [
      "Tagging sequence with Vanilla_Viterbi -\n",
      "\n",
      " [('The', 'DET'), ('2018', 'DET'), ('FIFA', 'DET'), ('World', 'NOUN'), ('Cup', 'DET'), ('is', 'VERB'), ('the', 'DET'), ('21st', 'DET'), ('FIFA', 'DET'), ('World', 'NOUN'), ('Cup', 'DET'), (',', '.'), ('an', 'DET'), ('international', 'ADJ'), ('football', 'NOUN'), ('tournament', 'DET'), ('contested', 'DET'), ('once', 'ADV'), ('every', 'DET'), ('four', 'NUM'), ('years', 'NOUN'), ('.', '.')]\n",
      "\n",
      "\n",
      "----------------------------------------------------------------------------------------------------\n",
      "Tagging sequence with viterbi_backedup_by_trigram_tagger -\n",
      "\n",
      " [('The', 'DET'), ('2018', 'NUM'), ('FIFA', 'NOUN'), ('World', 'NOUN'), ('Cup', 'NOUN'), ('is', 'VERB'), ('the', 'DET'), ('21st', 'NUM'), ('FIFA', 'NOUN'), ('World', 'NOUN'), ('Cup', 'NOUN'), (',', '.'), ('an', 'DET'), ('international', 'ADJ'), ('football', 'NOUN'), ('tournament', 'NOUN'), ('contested', 'VERB'), ('once', 'ADV'), ('every', 'DET'), ('four', 'NUM'), ('years', 'NOUN'), ('.', '.')]\n"
     ]
    }
   ],
   "source": [
    "\n",
    "words_test_sentence_6 = nltk.word_tokenize(test_sentence_6)\n",
    "\n",
    "# pos tags with Vanilla_Viterbi\n",
    "pos_tagged_sequence_with_vanilla_viterbi = Vanilla_Viterbi(words_test_sentence_6)\n",
    "print(\"Tagging sequence with Vanilla_Viterbi -\\n\\n\", pos_tagged_sequence_with_vanilla_viterbi)\n",
    "\n",
    "print('\\n')\n",
    "print('-'*100)\n",
    "\n",
    "# pos tags with viterbi_backedup_by_trigram_tagger\n",
    "pos_tagged_sequence_with_viterbi_trigram = viterbi_backedup_by_trigram_tagger(words_test_sentence_6)\n",
    "print(\"Tagging sequence with viterbi_backedup_by_trigram_tagger -\\n\\n\", pos_tagged_sequence_with_viterbi_trigram)"
   ]
  },
  {
   "cell_type": "code",
   "execution_count": 63,
   "metadata": {
    "scrolled": false
   },
   "outputs": [
    {
     "data": {
      "text/html": [
       "<div>\n",
       "<style scoped>\n",
       "    .dataframe tbody tr th:only-of-type {\n",
       "        vertical-align: middle;\n",
       "    }\n",
       "\n",
       "    .dataframe tbody tr th {\n",
       "        vertical-align: top;\n",
       "    }\n",
       "\n",
       "    .dataframe thead th {\n",
       "        text-align: right;\n",
       "    }\n",
       "</style>\n",
       "<table border=\"1\" class=\"dataframe\">\n",
       "  <thead>\n",
       "    <tr style=\"text-align: right;\">\n",
       "      <th></th>\n",
       "      <th>vanilla_viterbi_tags</th>\n",
       "      <th>viterbi_trigram_tags_with_corrections</th>\n",
       "    </tr>\n",
       "  </thead>\n",
       "  <tbody>\n",
       "    <tr>\n",
       "      <td>0</td>\n",
       "      <td>(The, DET)</td>\n",
       "      <td>(The, DET)</td>\n",
       "    </tr>\n",
       "    <tr>\n",
       "      <td>1</td>\n",
       "      <td>(2018, DET)</td>\n",
       "      <td>(2018, NUM)</td>\n",
       "    </tr>\n",
       "    <tr>\n",
       "      <td>2</td>\n",
       "      <td>(FIFA, DET)</td>\n",
       "      <td>(FIFA, NOUN)</td>\n",
       "    </tr>\n",
       "    <tr>\n",
       "      <td>3</td>\n",
       "      <td>(World, NOUN)</td>\n",
       "      <td>(World, NOUN)</td>\n",
       "    </tr>\n",
       "    <tr>\n",
       "      <td>4</td>\n",
       "      <td>(Cup, DET)</td>\n",
       "      <td>(Cup, NOUN)</td>\n",
       "    </tr>\n",
       "    <tr>\n",
       "      <td>5</td>\n",
       "      <td>(is, VERB)</td>\n",
       "      <td>(is, VERB)</td>\n",
       "    </tr>\n",
       "    <tr>\n",
       "      <td>6</td>\n",
       "      <td>(the, DET)</td>\n",
       "      <td>(the, DET)</td>\n",
       "    </tr>\n",
       "    <tr>\n",
       "      <td>7</td>\n",
       "      <td>(21st, DET)</td>\n",
       "      <td>(21st, NUM)</td>\n",
       "    </tr>\n",
       "    <tr>\n",
       "      <td>8</td>\n",
       "      <td>(FIFA, DET)</td>\n",
       "      <td>(FIFA, NOUN)</td>\n",
       "    </tr>\n",
       "    <tr>\n",
       "      <td>9</td>\n",
       "      <td>(World, NOUN)</td>\n",
       "      <td>(World, NOUN)</td>\n",
       "    </tr>\n",
       "    <tr>\n",
       "      <td>10</td>\n",
       "      <td>(Cup, DET)</td>\n",
       "      <td>(Cup, NOUN)</td>\n",
       "    </tr>\n",
       "    <tr>\n",
       "      <td>11</td>\n",
       "      <td>(,, .)</td>\n",
       "      <td>(,, .)</td>\n",
       "    </tr>\n",
       "    <tr>\n",
       "      <td>12</td>\n",
       "      <td>(an, DET)</td>\n",
       "      <td>(an, DET)</td>\n",
       "    </tr>\n",
       "    <tr>\n",
       "      <td>13</td>\n",
       "      <td>(international, ADJ)</td>\n",
       "      <td>(international, ADJ)</td>\n",
       "    </tr>\n",
       "    <tr>\n",
       "      <td>14</td>\n",
       "      <td>(football, NOUN)</td>\n",
       "      <td>(football, NOUN)</td>\n",
       "    </tr>\n",
       "    <tr>\n",
       "      <td>15</td>\n",
       "      <td>(tournament, DET)</td>\n",
       "      <td>(tournament, NOUN)</td>\n",
       "    </tr>\n",
       "    <tr>\n",
       "      <td>16</td>\n",
       "      <td>(contested, DET)</td>\n",
       "      <td>(contested, VERB)</td>\n",
       "    </tr>\n",
       "    <tr>\n",
       "      <td>17</td>\n",
       "      <td>(once, ADV)</td>\n",
       "      <td>(once, ADV)</td>\n",
       "    </tr>\n",
       "    <tr>\n",
       "      <td>18</td>\n",
       "      <td>(every, DET)</td>\n",
       "      <td>(every, DET)</td>\n",
       "    </tr>\n",
       "    <tr>\n",
       "      <td>19</td>\n",
       "      <td>(four, NUM)</td>\n",
       "      <td>(four, NUM)</td>\n",
       "    </tr>\n",
       "    <tr>\n",
       "      <td>20</td>\n",
       "      <td>(years, NOUN)</td>\n",
       "      <td>(years, NOUN)</td>\n",
       "    </tr>\n",
       "    <tr>\n",
       "      <td>21</td>\n",
       "      <td>(., .)</td>\n",
       "      <td>(., .)</td>\n",
       "    </tr>\n",
       "  </tbody>\n",
       "</table>\n",
       "</div>"
      ],
      "text/plain": [
       "    vanilla_viterbi_tags viterbi_trigram_tags_with_corrections\n",
       "0             (The, DET)                            (The, DET)\n",
       "1            (2018, DET)                           (2018, NUM)\n",
       "2            (FIFA, DET)                          (FIFA, NOUN)\n",
       "3          (World, NOUN)                         (World, NOUN)\n",
       "4             (Cup, DET)                           (Cup, NOUN)\n",
       "5             (is, VERB)                            (is, VERB)\n",
       "6             (the, DET)                            (the, DET)\n",
       "7            (21st, DET)                           (21st, NUM)\n",
       "8            (FIFA, DET)                          (FIFA, NOUN)\n",
       "9          (World, NOUN)                         (World, NOUN)\n",
       "10            (Cup, DET)                           (Cup, NOUN)\n",
       "11                (,, .)                                (,, .)\n",
       "12             (an, DET)                             (an, DET)\n",
       "13  (international, ADJ)                  (international, ADJ)\n",
       "14      (football, NOUN)                      (football, NOUN)\n",
       "15     (tournament, DET)                    (tournament, NOUN)\n",
       "16      (contested, DET)                     (contested, VERB)\n",
       "17           (once, ADV)                           (once, ADV)\n",
       "18          (every, DET)                          (every, DET)\n",
       "19           (four, NUM)                           (four, NUM)\n",
       "20         (years, NOUN)                         (years, NOUN)\n",
       "21                (., .)                                (., .)"
      ]
     },
     "execution_count": 63,
     "metadata": {},
     "output_type": "execute_result"
    }
   ],
   "source": [
    "cols = ['vanilla_viterbi_tags', 'viterbi_trigram_tags_with_corrections']\n",
    "tags_correction_df_6 = pd.DataFrame(columns = cols)\n",
    "tags_correction_df_6 = tags_correction_df_6.fillna(0)\n",
    "\n",
    "tags_correction_df_6.vanilla_viterbi_tags = [tup for tup in pos_tagged_sequence_with_vanilla_viterbi]\n",
    "tags_correction_df_6.viterbi_trigram_tags_with_corrections = [tup for tup in pos_tagged_sequence_with_viterbi_trigram]\n",
    "\n",
    "tags_correction_df_6"
   ]
  },
  {
   "cell_type": "markdown",
   "metadata": {},
   "source": [
    "#### Observation : The Incorrectly tagged words that are tagged correctly identified in the sentence 6 is as listed below:\n",
    "\n",
    "    1- (domineering, NOUN)-->(domineering, VERB)\n",
    "    2- (tournament, DET)-->(tournament, NOUN)\n",
    "    3- (contested, DET)-->(contested, VERB)\t\n",
    "    4- (FIFA, DET)-->(FIFA, NOUN)\n",
    "    5- (21st, DET)-->(21st, NUM)\t\n",
    "    6- (Cup, DET)-->(Cup, NOUN)\n",
    "    7- (2018, DET)-->(2018, NOUN)"
   ]
  },
  {
   "cell_type": "markdown",
   "metadata": {},
   "source": [
    "### Case 5:\n",
    "\n",
    "#### test_sentence_11 = 'NASA invited social media users to experience the launch of ICESAT-2 Satellite.'"
   ]
  },
  {
   "cell_type": "code",
   "execution_count": 72,
   "metadata": {
    "scrolled": true
   },
   "outputs": [
    {
     "name": "stdout",
     "output_type": "stream",
     "text": [
      "Tagging sequence with Vanilla_Viterbi -\n",
      "\n",
      " [('NASA', 'DET'), ('invited', 'DET'), ('social', 'ADJ'), ('media', 'NOUN'), ('users', 'NOUN'), ('to', 'PRT'), ('experience', 'NOUN'), ('the', 'DET'), ('launch', 'NOUN'), ('of', 'ADP'), ('ICESAT-2', 'DET'), ('Satellite', 'DET'), ('.', '.')]\n",
      "\n",
      "\n",
      "----------------------------------------------------------------------------------------------------\n",
      "Tagging sequence with viterbi_backedup_by_trigram_tagger -\n",
      "\n",
      " [('NASA', 'NOUN'), ('invited', 'VERB'), ('social', 'ADJ'), ('media', 'NOUN'), ('users', 'NOUN'), ('to', 'PRT'), ('experience', 'NOUN'), ('the', 'DET'), ('launch', 'NOUN'), ('of', 'ADP'), ('ICESAT-2', 'NOUN'), ('Satellite', 'NOUN'), ('.', '.')]\n"
     ]
    }
   ],
   "source": [
    "words_test_sentence_11 = nltk.word_tokenize(test_sentence_11)\n",
    "\n",
    "# pos tags with Vanilla_Viterbi\n",
    "pos_tagged_sequence_with_vanilla_viterbi = Vanilla_Viterbi(words_test_sentence_11)\n",
    "print(\"Tagging sequence with Vanilla_Viterbi -\\n\\n\", pos_tagged_sequence_with_vanilla_viterbi)\n",
    "\n",
    "print('\\n')\n",
    "print('-'*100)\n",
    "\n",
    "# pos tags with viterbi_backedup_by_trigram_tagger\n",
    "pos_tagged_sequence_with_viterbi_trigram = viterbi_backedup_by_trigram_tagger(words_test_sentence_11)\n",
    "print(\"Tagging sequence with viterbi_backedup_by_trigram_tagger -\\n\\n\", pos_tagged_sequence_with_viterbi_trigram)"
   ]
  },
  {
   "cell_type": "code",
   "execution_count": 73,
   "metadata": {
    "scrolled": false
   },
   "outputs": [
    {
     "data": {
      "text/html": [
       "<div>\n",
       "<style scoped>\n",
       "    .dataframe tbody tr th:only-of-type {\n",
       "        vertical-align: middle;\n",
       "    }\n",
       "\n",
       "    .dataframe tbody tr th {\n",
       "        vertical-align: top;\n",
       "    }\n",
       "\n",
       "    .dataframe thead th {\n",
       "        text-align: right;\n",
       "    }\n",
       "</style>\n",
       "<table border=\"1\" class=\"dataframe\">\n",
       "  <thead>\n",
       "    <tr style=\"text-align: right;\">\n",
       "      <th></th>\n",
       "      <th>vanilla_viterbi_tags</th>\n",
       "      <th>viterbi_trigram_tags_with_corrections</th>\n",
       "    </tr>\n",
       "  </thead>\n",
       "  <tbody>\n",
       "    <tr>\n",
       "      <td>0</td>\n",
       "      <td>(NASA, DET)</td>\n",
       "      <td>(NASA, NOUN)</td>\n",
       "    </tr>\n",
       "    <tr>\n",
       "      <td>1</td>\n",
       "      <td>(invited, DET)</td>\n",
       "      <td>(invited, VERB)</td>\n",
       "    </tr>\n",
       "    <tr>\n",
       "      <td>2</td>\n",
       "      <td>(social, ADJ)</td>\n",
       "      <td>(social, ADJ)</td>\n",
       "    </tr>\n",
       "    <tr>\n",
       "      <td>3</td>\n",
       "      <td>(media, NOUN)</td>\n",
       "      <td>(media, NOUN)</td>\n",
       "    </tr>\n",
       "    <tr>\n",
       "      <td>4</td>\n",
       "      <td>(users, NOUN)</td>\n",
       "      <td>(users, NOUN)</td>\n",
       "    </tr>\n",
       "    <tr>\n",
       "      <td>5</td>\n",
       "      <td>(to, PRT)</td>\n",
       "      <td>(to, PRT)</td>\n",
       "    </tr>\n",
       "    <tr>\n",
       "      <td>6</td>\n",
       "      <td>(experience, NOUN)</td>\n",
       "      <td>(experience, NOUN)</td>\n",
       "    </tr>\n",
       "    <tr>\n",
       "      <td>7</td>\n",
       "      <td>(the, DET)</td>\n",
       "      <td>(the, DET)</td>\n",
       "    </tr>\n",
       "    <tr>\n",
       "      <td>8</td>\n",
       "      <td>(launch, NOUN)</td>\n",
       "      <td>(launch, NOUN)</td>\n",
       "    </tr>\n",
       "    <tr>\n",
       "      <td>9</td>\n",
       "      <td>(of, ADP)</td>\n",
       "      <td>(of, ADP)</td>\n",
       "    </tr>\n",
       "    <tr>\n",
       "      <td>10</td>\n",
       "      <td>(ICESAT-2, DET)</td>\n",
       "      <td>(ICESAT-2, NOUN)</td>\n",
       "    </tr>\n",
       "    <tr>\n",
       "      <td>11</td>\n",
       "      <td>(Satellite, DET)</td>\n",
       "      <td>(Satellite, NOUN)</td>\n",
       "    </tr>\n",
       "    <tr>\n",
       "      <td>12</td>\n",
       "      <td>(., .)</td>\n",
       "      <td>(., .)</td>\n",
       "    </tr>\n",
       "  </tbody>\n",
       "</table>\n",
       "</div>"
      ],
      "text/plain": [
       "   vanilla_viterbi_tags viterbi_trigram_tags_with_corrections\n",
       "0           (NASA, DET)                          (NASA, NOUN)\n",
       "1        (invited, DET)                       (invited, VERB)\n",
       "2         (social, ADJ)                         (social, ADJ)\n",
       "3         (media, NOUN)                         (media, NOUN)\n",
       "4         (users, NOUN)                         (users, NOUN)\n",
       "5             (to, PRT)                             (to, PRT)\n",
       "6    (experience, NOUN)                    (experience, NOUN)\n",
       "7            (the, DET)                            (the, DET)\n",
       "8        (launch, NOUN)                        (launch, NOUN)\n",
       "9             (of, ADP)                             (of, ADP)\n",
       "10      (ICESAT-2, DET)                      (ICESAT-2, NOUN)\n",
       "11     (Satellite, DET)                     (Satellite, NOUN)\n",
       "12               (., .)                                (., .)"
      ]
     },
     "execution_count": 73,
     "metadata": {},
     "output_type": "execute_result"
    }
   ],
   "source": [
    "cols = ['vanilla_viterbi_tags', 'viterbi_trigram_tags_with_corrections']\n",
    "tags_correction_df_11 = pd.DataFrame(columns = cols)\n",
    "tags_correction_df_11 = tags_correction_df_11.fillna(0)\n",
    "\n",
    "tags_correction_df_11.vanilla_viterbi_tags = [tup for tup in pos_tagged_sequence_with_vanilla_viterbi]\n",
    "tags_correction_df_11.viterbi_trigram_tags_with_corrections = [tup for tup in pos_tagged_sequence_with_viterbi_trigram]\n",
    "\n",
    "tags_correction_df_11"
   ]
  },
  {
   "cell_type": "markdown",
   "metadata": {},
   "source": [
    "#### Observation : The Incorrect tags that are correctly identified in the sentence 11 is as listed below:\n",
    "\n",
    "    1- (invited, NOUN)-->(invited, VERB)\n",
    "    2- (NASA, DET)-->(NASA, NOUN)\t\n",
    "    3- (ICESAT-2, DET)-->(ICESAT-2, NOUN)\t\n",
    "    4- (Satellite, DET)-->(Satellite, NOUN)"
   ]
  },
  {
   "cell_type": "markdown",
   "metadata": {},
   "source": [
    "### Checking the tags and corrections for all the sample test sentences with all the methods :\n",
    "\n",
    "    Method 1- Vanilla Viterbi\n",
    "    \n",
    "    Method 2 - Modified Viterbi Method I - We used only the transition probability for unknown words.\n",
    "    \n",
    "    Method 3 - Modified Viterbi Method II - We used the viterbi algorithm and backed it up with the trigram tagger which was inturn backed up by the rule based regex tagger."
   ]
  },
  {
   "cell_type": "code",
   "execution_count": 78,
   "metadata": {
    "scrolled": true
   },
   "outputs": [
    {
     "name": "stdout",
     "output_type": "stream",
     "text": [
      "Tagging sequence with Vanilla_Viterbi -\n",
      "\n",
      " [('Android', 'DET'), ('is', 'VERB'), ('a', 'DET'), ('mobile', 'ADJ'), ('operating', 'NOUN'), ('system', 'NOUN'), ('developed', 'VERB'), ('by', 'ADP'), ('Google', 'DET'), ('.', '.'), ('Android', 'DET'), ('has', 'VERB'), ('been', 'VERB'), ('the', 'DET'), ('best-selling', 'ADJ'), ('OS', 'DET'), ('worldwide', 'DET'), ('on', 'ADP'), ('smartphones', 'DET'), ('since', 'ADP'), ('2011', 'DET'), ('and', 'CONJ'), ('on', 'ADP'), ('tablets', 'NOUN'), ('since', 'ADP'), ('2013', 'DET'), ('.', '.'), ('Google', 'DET'), ('and', 'CONJ'), ('Twitter', 'DET'), ('made', 'VERB'), ('a', 'DET'), ('deal', 'NOUN'), ('in', 'ADP'), ('2015', 'DET'), ('that', 'ADP'), ('gave', 'VERB'), ('Google', 'DET'), ('access', 'NOUN'), ('to', 'PRT'), ('Twitter', 'DET'), (\"'s\", 'VERB'), ('firehose', 'DET'), ('.', '.'), ('Twitter', 'DET'), ('is', 'VERB'), ('an', 'DET'), ('online', 'DET'), ('news', 'NOUN'), ('and', 'CONJ'), ('social', 'ADJ'), ('networking', 'NOUN'), ('service', 'NOUN'), ('on', 'ADP'), ('which', 'DET'), ('users', 'NOUN'), ('post', 'NOUN'), ('and', 'CONJ'), ('interact', 'DET'), ('with', 'ADP'), ('messages', 'DET'), ('known', 'VERB'), ('as', 'ADP'), ('tweets', 'DET'), ('.', '.'), ('Before', 'ADP'), ('entering', 'VERB'), ('politics', 'NOUN'), (',', '.'), ('Donald', 'NOUN'), ('Trump', 'NOUN'), ('was', 'VERB'), ('a', 'DET'), ('domineering', 'DET'), ('businessman', 'NOUN'), ('and', 'CONJ'), ('a', 'DET'), ('television', 'NOUN'), ('personality', 'DET'), ('.', '.'), ('The', 'DET'), ('2018', 'DET'), ('FIFA', 'DET'), ('World', 'NOUN'), ('Cup', 'DET'), ('is', 'VERB'), ('the', 'DET'), ('21st', 'DET'), ('FIFA', 'DET'), ('World', 'NOUN'), ('Cup', 'DET'), (',', '.'), ('an', 'DET'), ('international', 'ADJ'), ('football', 'NOUN'), ('tournament', 'DET'), ('contested', 'DET'), ('once', 'ADV'), ('every', 'DET'), ('four', 'NUM'), ('years', 'NOUN'), ('.', '.'), ('This', 'DET'), ('is', 'VERB'), ('the', 'DET'), ('first', 'ADJ'), ('World', 'NOUN'), ('Cup', 'DET'), ('to', 'PRT'), ('be', 'VERB'), ('held', 'VERB'), ('in', 'ADP'), ('Eastern', 'NOUN'), ('Europe', 'NOUN'), ('and', 'CONJ'), ('the', 'DET'), ('11th', 'ADJ'), ('time', 'NOUN'), ('that', 'ADP'), ('it', 'PRON'), ('has', 'VERB'), ('been', 'VERB'), ('held', 'VERB'), ('in', 'ADP'), ('Europe', 'NOUN'), ('.', '.'), ('Show', 'NOUN'), ('me', 'PRON'), ('the', 'DET'), ('cheapest', 'ADJ'), ('round', 'NOUN'), ('trips', 'DET'), ('from', 'ADP'), ('Dallas', 'NOUN'), ('to', 'PRT'), ('Atlanta', 'NOUN'), ('I', 'PRON'), ('would', 'VERB'), ('like', 'ADP'), ('to', 'PRT'), ('see', 'VERB'), ('flights', 'NOUN'), ('from', 'ADP'), ('Denver', 'NOUN'), ('to', 'PRT'), ('Philadelphia', 'NOUN'), ('.', '.'), ('Show', 'NOUN'), ('me', 'PRON'), ('the', 'DET'), ('price', 'NOUN'), ('of', 'ADP'), ('the', 'DET'), ('flights', 'NOUN'), ('leaving', 'VERB'), ('Atlanta', 'NOUN'), ('at', 'ADP'), ('about', 'ADP'), ('3', 'NUM'), ('in', 'ADP'), ('the', 'DET'), ('afternoon', 'NOUN'), ('and', 'CONJ'), ('arriving', 'DET'), ('in', 'ADP'), ('San', 'NOUN'), ('Francisco', 'NOUN'), ('.', '.'), ('NASA', 'DET'), ('invited', 'DET'), ('social', 'ADJ'), ('media', 'NOUN'), ('users', 'NOUN'), ('to', 'PRT'), ('experience', 'NOUN'), ('the', 'DET'), ('launch', 'NOUN'), ('of', 'ADP'), ('ICESAT-2', 'DET'), ('Satellite', 'DET'), ('.', '.')]\n",
      "\n",
      "\n",
      "------------------------------------------------------------------------------------------------------------------------\n",
      "Tagging sequence with Modified Viterbi Method I using only the transition probability for unknown words. -\n",
      "\n",
      " [('Android', 'NOUN'), ('is', 'VERB'), ('a', 'DET'), ('mobile', 'ADJ'), ('operating', 'NOUN'), ('system', 'NOUN'), ('developed', 'VERB'), ('by', 'ADP'), ('Google', 'DET'), ('.', '.'), ('Android', 'NOUN'), ('has', 'VERB'), ('been', 'VERB'), ('the', 'DET'), ('best-selling', 'ADJ'), ('OS', 'NOUN'), ('worldwide', 'NOUN'), ('on', 'ADP'), ('smartphones', 'DET'), ('since', 'ADP'), ('2011', 'DET'), ('and', 'CONJ'), ('on', 'ADP'), ('tablets', 'NOUN'), ('since', 'ADP'), ('2013', 'DET'), ('.', '.'), ('Google', 'NOUN'), ('and', 'CONJ'), ('Twitter', 'NOUN'), ('made', 'VERB'), ('a', 'DET'), ('deal', 'NOUN'), ('in', 'ADP'), ('2015', 'DET'), ('that', 'ADP'), ('gave', 'VERB'), ('Google', 'X'), ('access', 'NOUN'), ('to', 'PRT'), ('Twitter', 'VERB'), (\"'s\", 'PRT'), ('firehose', 'VERB'), ('.', '.'), ('Twitter', 'NOUN'), ('is', 'VERB'), ('an', 'DET'), ('online', 'NOUN'), ('news', 'NOUN'), ('and', 'CONJ'), ('social', 'ADJ'), ('networking', 'NOUN'), ('service', 'NOUN'), ('on', 'ADP'), ('which', 'DET'), ('users', 'NOUN'), ('post', 'NOUN'), ('and', 'CONJ'), ('interact', 'NOUN'), ('with', 'ADP'), ('messages', 'DET'), ('known', 'VERB'), ('as', 'ADP'), ('tweets', 'DET'), ('.', '.'), ('Before', 'ADP'), ('entering', 'VERB'), ('politics', 'NOUN'), (',', '.'), ('Donald', 'NOUN'), ('Trump', 'NOUN'), ('was', 'VERB'), ('a', 'DET'), ('domineering', 'NOUN'), ('businessman', 'NOUN'), ('and', 'CONJ'), ('a', 'DET'), ('television', 'NOUN'), ('personality', 'NOUN'), ('.', '.'), ('The', 'DET'), ('2018', 'NOUN'), ('FIFA', 'NOUN'), ('World', 'NOUN'), ('Cup', 'NOUN'), ('is', 'VERB'), ('the', 'DET'), ('21st', 'NOUN'), ('FIFA', 'NOUN'), ('World', 'NOUN'), ('Cup', 'NOUN'), (',', '.'), ('an', 'DET'), ('international', 'ADJ'), ('football', 'NOUN'), ('tournament', 'NOUN'), ('contested', 'NOUN'), ('once', 'ADV'), ('every', 'DET'), ('four', 'NUM'), ('years', 'NOUN'), ('.', '.'), ('This', 'DET'), ('is', 'VERB'), ('the', 'DET'), ('first', 'ADJ'), ('World', 'NOUN'), ('Cup', 'NOUN'), ('to', 'PRT'), ('be', 'VERB'), ('held', 'VERB'), ('in', 'ADP'), ('Eastern', 'NOUN'), ('Europe', 'NOUN'), ('and', 'CONJ'), ('the', 'DET'), ('11th', 'ADJ'), ('time', 'NOUN'), ('that', 'ADP'), ('it', 'PRON'), ('has', 'VERB'), ('been', 'VERB'), ('held', 'VERB'), ('in', 'ADP'), ('Europe', 'NOUN'), ('.', '.'), ('Show', 'NOUN'), ('me', 'PRON'), ('the', 'DET'), ('cheapest', 'ADJ'), ('round', 'NOUN'), ('trips', 'NOUN'), ('from', 'ADP'), ('Dallas', 'NOUN'), ('to', 'PRT'), ('Atlanta', 'NOUN'), ('I', 'PRON'), ('would', 'VERB'), ('like', 'ADP'), ('to', 'PRT'), ('see', 'VERB'), ('flights', 'NOUN'), ('from', 'ADP'), ('Denver', 'NOUN'), ('to', 'PRT'), ('Philadelphia', 'NOUN'), ('.', '.'), ('Show', 'NOUN'), ('me', 'PRON'), ('the', 'DET'), ('price', 'NOUN'), ('of', 'ADP'), ('the', 'DET'), ('flights', 'NOUN'), ('leaving', 'VERB'), ('Atlanta', 'NOUN'), ('at', 'ADP'), ('about', 'ADP'), ('3', 'NUM'), ('in', 'ADP'), ('the', 'DET'), ('afternoon', 'NOUN'), ('and', 'CONJ'), ('arriving', 'NOUN'), ('in', 'ADP'), ('San', 'NOUN'), ('Francisco', 'NOUN'), ('.', '.'), ('NASA', 'NOUN'), ('invited', 'NOUN'), ('social', 'ADJ'), ('media', 'NOUN'), ('users', 'NOUN'), ('to', 'PRT'), ('experience', 'NOUN'), ('the', 'DET'), ('launch', 'NOUN'), ('of', 'ADP'), ('ICESAT-2', 'DET'), ('Satellite', 'NOUN'), ('.', '.')]\n",
      "\n",
      "\n",
      "----------------------------------------------------------------------------------------------------\n",
      "Tagging sequence with Modified Viterbi Method II which is viterbi_backedup_by_trigram_tagger -\n",
      "\n",
      " [('Android', 'NOUN'), ('is', 'VERB'), ('a', 'DET'), ('mobile', 'ADJ'), ('operating', 'NOUN'), ('system', 'NOUN'), ('developed', 'VERB'), ('by', 'ADP'), ('Google', 'NOUN'), ('.', '.'), ('Android', 'NOUN'), ('has', 'VERB'), ('been', 'VERB'), ('the', 'DET'), ('best-selling', 'ADJ'), ('OS', 'NOUN'), ('worldwide', 'NOUN'), ('on', 'ADP'), ('smartphones', 'VERB'), ('since', 'ADP'), ('2011', 'NUM'), ('and', 'CONJ'), ('on', 'ADP'), ('tablets', 'NOUN'), ('since', 'ADP'), ('2013', 'NUM'), ('.', '.'), ('Google', 'NOUN'), ('and', 'CONJ'), ('Twitter', 'NOUN'), ('made', 'VERB'), ('a', 'DET'), ('deal', 'NOUN'), ('in', 'ADP'), ('2015', 'NUM'), ('that', 'ADP'), ('gave', 'VERB'), ('Google', 'NOUN'), ('access', 'NOUN'), ('to', 'PRT'), ('Twitter', 'NOUN'), (\"'s\", 'PRT'), ('firehose', 'NOUN'), ('.', '.'), ('Twitter', 'NOUN'), ('is', 'VERB'), ('an', 'DET'), ('online', 'NOUN'), ('news', 'NOUN'), ('and', 'CONJ'), ('social', 'ADJ'), ('networking', 'NOUN'), ('service', 'NOUN'), ('on', 'ADP'), ('which', 'DET'), ('users', 'NOUN'), ('post', 'NOUN'), ('and', 'CONJ'), ('interact', 'NOUN'), ('with', 'ADP'), ('messages', 'VERB'), ('known', 'VERB'), ('as', 'ADP'), ('tweets', 'NOUN'), ('.', '.'), ('Before', 'ADP'), ('entering', 'VERB'), ('politics', 'NOUN'), (',', '.'), ('Donald', 'NOUN'), ('Trump', 'NOUN'), ('was', 'VERB'), ('a', 'DET'), ('domineering', 'VERB'), ('businessman', 'NOUN'), ('and', 'CONJ'), ('a', 'DET'), ('television', 'NOUN'), ('personality', 'NOUN'), ('.', '.'), ('The', 'DET'), ('2018', 'NUM'), ('FIFA', 'NOUN'), ('World', 'NOUN'), ('Cup', 'NOUN'), ('is', 'VERB'), ('the', 'DET'), ('21st', 'NUM'), ('FIFA', 'NOUN'), ('World', 'NOUN'), ('Cup', 'NOUN'), (',', '.'), ('an', 'DET'), ('international', 'ADJ'), ('football', 'NOUN'), ('tournament', 'NOUN'), ('contested', 'VERB'), ('once', 'ADV'), ('every', 'DET'), ('four', 'NUM'), ('years', 'NOUN'), ('.', '.'), ('This', 'DET'), ('is', 'VERB'), ('the', 'DET'), ('first', 'ADJ'), ('World', 'NOUN'), ('Cup', 'NOUN'), ('to', 'PRT'), ('be', 'VERB'), ('held', 'VERB'), ('in', 'ADP'), ('Eastern', 'NOUN'), ('Europe', 'NOUN'), ('and', 'CONJ'), ('the', 'DET'), ('11th', 'ADJ'), ('time', 'NOUN'), ('that', 'ADP'), ('it', 'PRON'), ('has', 'VERB'), ('been', 'VERB'), ('held', 'VERB'), ('in', 'ADP'), ('Europe', 'NOUN'), ('.', '.'), ('Show', 'NOUN'), ('me', 'PRON'), ('the', 'DET'), ('cheapest', 'ADJ'), ('round', 'NOUN'), ('trips', 'NOUN'), ('from', 'ADP'), ('Dallas', 'NOUN'), ('to', 'PRT'), ('Atlanta', 'NOUN'), ('I', 'PRON'), ('would', 'VERB'), ('like', 'ADP'), ('to', 'PRT'), ('see', 'VERB'), ('flights', 'NOUN'), ('from', 'ADP'), ('Denver', 'NOUN'), ('to', 'PRT'), ('Philadelphia', 'NOUN'), ('.', '.'), ('Show', 'NOUN'), ('me', 'PRON'), ('the', 'DET'), ('price', 'NOUN'), ('of', 'ADP'), ('the', 'DET'), ('flights', 'NOUN'), ('leaving', 'VERB'), ('Atlanta', 'NOUN'), ('at', 'ADP'), ('about', 'ADP'), ('3', 'NUM'), ('in', 'ADP'), ('the', 'DET'), ('afternoon', 'NOUN'), ('and', 'CONJ'), ('arriving', 'VERB'), ('in', 'ADP'), ('San', 'NOUN'), ('Francisco', 'NOUN'), ('.', '.'), ('NASA', 'NOUN'), ('invited', 'VERB'), ('social', 'ADJ'), ('media', 'NOUN'), ('users', 'NOUN'), ('to', 'PRT'), ('experience', 'NOUN'), ('the', 'DET'), ('launch', 'NOUN'), ('of', 'ADP'), ('ICESAT-2', 'NOUN'), ('Satellite', 'NOUN'), ('.', '.')]\n"
     ]
    }
   ],
   "source": [
    "# Method 1 - Default Vanilla Viterbi\n",
    "sample_test_tagged_sequence_with_vanilla_viterbi = Vanilla_Viterbi(sample_test_tagged_words)\n",
    "print(\"Tagging sequence with Vanilla_Viterbi -\\n\\n\", sample_test_tagged_sequence_with_vanilla_viterbi)\n",
    "\n",
    "print('\\n')\n",
    "print('-'*120)\n",
    "\n",
    "# Method 2 - pos tags with Vanilla_Viterbi_for_Unknown_Words\n",
    "sample_test_tagged_sequence_unknown_words = Vanilla_Viterbi_for_Unknown_Words(sample_test_tagged_words)\n",
    "print(\"Tagging sequence with Modified Viterbi Method I using only the transition probability for unknown words. -\\n\\n\", \n",
    "      sample_test_tagged_sequence_unknown_words)\n",
    "\n",
    "print('\\n')\n",
    "print('-'*100)\n",
    "\n",
    "# Method 3 - pos tags with viterbi_backedup_by_trigram_tagger\n",
    "sample_test_tagged_sequence_with_viterbi_trigram = viterbi_backedup_by_trigram_tagger(sample_test_tagged_words)\n",
    "print(\"Tagging sequence with Modified Viterbi Method II which is viterbi_backedup_by_trigram_tagger -\\n\\n\", sample_test_tagged_sequence_with_viterbi_trigram)"
   ]
  },
  {
   "cell_type": "markdown",
   "metadata": {},
   "source": [
    "### Dataframe Comparison of POS Tags by different methods with the actual tags\n",
    "\n",
    "  1. the actual tags using nltk.pos_tag_sent\n",
    "  2. words as tagged by vanilla viterbi\n",
    "  3. words as tagged by Vanilla_Viterbi_for_Unknown_Words - METHOD - 1\n",
    "  4. words as tagged by viterbi_backedup_by_trigram_tagger - METHOD - 2"
   ]
  },
  {
   "cell_type": "code",
   "execution_count": 79,
   "metadata": {
    "scrolled": false
   },
   "outputs": [
    {
     "data": {
      "text/html": [
       "<div>\n",
       "<style scoped>\n",
       "    .dataframe tbody tr th:only-of-type {\n",
       "        vertical-align: middle;\n",
       "    }\n",
       "\n",
       "    .dataframe tbody tr th {\n",
       "        vertical-align: top;\n",
       "    }\n",
       "\n",
       "    .dataframe thead th {\n",
       "        text-align: right;\n",
       "    }\n",
       "</style>\n",
       "<table border=\"1\" class=\"dataframe\">\n",
       "  <thead>\n",
       "    <tr style=\"text-align: right;\">\n",
       "      <th></th>\n",
       "      <th>actual_tags</th>\n",
       "      <th>as_tagged_by_vanilla_viterbi</th>\n",
       "      <th>as_tagged_by_Vanilla_Viterbi_for_Unknown_Words</th>\n",
       "      <th>as_tagged_by_Vanilla_Viterbi_backed_by_trigram_tagger</th>\n",
       "    </tr>\n",
       "  </thead>\n",
       "  <tbody>\n",
       "    <tr>\n",
       "      <td>0</td>\n",
       "      <td>(Android, NOUN)</td>\n",
       "      <td>(Android, DET)</td>\n",
       "      <td>(Android, NOUN)</td>\n",
       "      <td>(Android, NOUN)</td>\n",
       "    </tr>\n",
       "    <tr>\n",
       "      <td>8</td>\n",
       "      <td>(Google, NOUN)</td>\n",
       "      <td>(Google, DET)</td>\n",
       "      <td>(Google, DET)</td>\n",
       "      <td>(Google, NOUN)</td>\n",
       "    </tr>\n",
       "    <tr>\n",
       "      <td>10</td>\n",
       "      <td>(Android, NOUN)</td>\n",
       "      <td>(Android, DET)</td>\n",
       "      <td>(Android, NOUN)</td>\n",
       "      <td>(Android, NOUN)</td>\n",
       "    </tr>\n",
       "    <tr>\n",
       "      <td>15</td>\n",
       "      <td>(OS, NOUN)</td>\n",
       "      <td>(OS, DET)</td>\n",
       "      <td>(OS, NOUN)</td>\n",
       "      <td>(OS, NOUN)</td>\n",
       "    </tr>\n",
       "    <tr>\n",
       "      <td>16</td>\n",
       "      <td>(worldwide, NOUN)</td>\n",
       "      <td>(worldwide, DET)</td>\n",
       "      <td>(worldwide, NOUN)</td>\n",
       "      <td>(worldwide, NOUN)</td>\n",
       "    </tr>\n",
       "    <tr>\n",
       "      <td>18</td>\n",
       "      <td>(smartphones, NOUN)</td>\n",
       "      <td>(smartphones, DET)</td>\n",
       "      <td>(smartphones, DET)</td>\n",
       "      <td>(smartphones, VERB)</td>\n",
       "    </tr>\n",
       "    <tr>\n",
       "      <td>20</td>\n",
       "      <td>(2011, NUM)</td>\n",
       "      <td>(2011, DET)</td>\n",
       "      <td>(2011, DET)</td>\n",
       "      <td>(2011, NUM)</td>\n",
       "    </tr>\n",
       "    <tr>\n",
       "      <td>25</td>\n",
       "      <td>(2013, NUM)</td>\n",
       "      <td>(2013, DET)</td>\n",
       "      <td>(2013, DET)</td>\n",
       "      <td>(2013, NUM)</td>\n",
       "    </tr>\n",
       "    <tr>\n",
       "      <td>27</td>\n",
       "      <td>(Google, NOUN)</td>\n",
       "      <td>(Google, DET)</td>\n",
       "      <td>(Google, NOUN)</td>\n",
       "      <td>(Google, NOUN)</td>\n",
       "    </tr>\n",
       "    <tr>\n",
       "      <td>29</td>\n",
       "      <td>(Twitter, NOUN)</td>\n",
       "      <td>(Twitter, DET)</td>\n",
       "      <td>(Twitter, NOUN)</td>\n",
       "      <td>(Twitter, NOUN)</td>\n",
       "    </tr>\n",
       "    <tr>\n",
       "      <td>34</td>\n",
       "      <td>(2015, NUM)</td>\n",
       "      <td>(2015, DET)</td>\n",
       "      <td>(2015, DET)</td>\n",
       "      <td>(2015, NUM)</td>\n",
       "    </tr>\n",
       "    <tr>\n",
       "      <td>37</td>\n",
       "      <td>(Google, NOUN)</td>\n",
       "      <td>(Google, DET)</td>\n",
       "      <td>(Google, X)</td>\n",
       "      <td>(Google, NOUN)</td>\n",
       "    </tr>\n",
       "    <tr>\n",
       "      <td>40</td>\n",
       "      <td>(Twitter, NOUN)</td>\n",
       "      <td>(Twitter, DET)</td>\n",
       "      <td>(Twitter, VERB)</td>\n",
       "      <td>(Twitter, NOUN)</td>\n",
       "    </tr>\n",
       "    <tr>\n",
       "      <td>41</td>\n",
       "      <td>('s, PRT)</td>\n",
       "      <td>('s, VERB)</td>\n",
       "      <td>('s, PRT)</td>\n",
       "      <td>('s, PRT)</td>\n",
       "    </tr>\n",
       "    <tr>\n",
       "      <td>42</td>\n",
       "      <td>(firehose, NOUN)</td>\n",
       "      <td>(firehose, DET)</td>\n",
       "      <td>(firehose, VERB)</td>\n",
       "      <td>(firehose, NOUN)</td>\n",
       "    </tr>\n",
       "    <tr>\n",
       "      <td>44</td>\n",
       "      <td>(Twitter, NOUN)</td>\n",
       "      <td>(Twitter, DET)</td>\n",
       "      <td>(Twitter, NOUN)</td>\n",
       "      <td>(Twitter, NOUN)</td>\n",
       "    </tr>\n",
       "    <tr>\n",
       "      <td>47</td>\n",
       "      <td>(online, ADJ)</td>\n",
       "      <td>(online, DET)</td>\n",
       "      <td>(online, NOUN)</td>\n",
       "      <td>(online, NOUN)</td>\n",
       "    </tr>\n",
       "    <tr>\n",
       "      <td>58</td>\n",
       "      <td>(interact, NOUN)</td>\n",
       "      <td>(interact, DET)</td>\n",
       "      <td>(interact, NOUN)</td>\n",
       "      <td>(interact, NOUN)</td>\n",
       "    </tr>\n",
       "    <tr>\n",
       "      <td>60</td>\n",
       "      <td>(messages, NOUN)</td>\n",
       "      <td>(messages, DET)</td>\n",
       "      <td>(messages, DET)</td>\n",
       "      <td>(messages, VERB)</td>\n",
       "    </tr>\n",
       "    <tr>\n",
       "      <td>63</td>\n",
       "      <td>(tweets, NOUN)</td>\n",
       "      <td>(tweets, DET)</td>\n",
       "      <td>(tweets, DET)</td>\n",
       "      <td>(tweets, NOUN)</td>\n",
       "    </tr>\n",
       "    <tr>\n",
       "      <td>73</td>\n",
       "      <td>(domineering, ADJ)</td>\n",
       "      <td>(domineering, DET)</td>\n",
       "      <td>(domineering, NOUN)</td>\n",
       "      <td>(domineering, VERB)</td>\n",
       "    </tr>\n",
       "    <tr>\n",
       "      <td>78</td>\n",
       "      <td>(personality, NOUN)</td>\n",
       "      <td>(personality, DET)</td>\n",
       "      <td>(personality, NOUN)</td>\n",
       "      <td>(personality, NOUN)</td>\n",
       "    </tr>\n",
       "    <tr>\n",
       "      <td>81</td>\n",
       "      <td>(2018, NUM)</td>\n",
       "      <td>(2018, DET)</td>\n",
       "      <td>(2018, NOUN)</td>\n",
       "      <td>(2018, NUM)</td>\n",
       "    </tr>\n",
       "    <tr>\n",
       "      <td>82</td>\n",
       "      <td>(FIFA, NOUN)</td>\n",
       "      <td>(FIFA, DET)</td>\n",
       "      <td>(FIFA, NOUN)</td>\n",
       "      <td>(FIFA, NOUN)</td>\n",
       "    </tr>\n",
       "    <tr>\n",
       "      <td>84</td>\n",
       "      <td>(Cup, NOUN)</td>\n",
       "      <td>(Cup, DET)</td>\n",
       "      <td>(Cup, NOUN)</td>\n",
       "      <td>(Cup, NOUN)</td>\n",
       "    </tr>\n",
       "    <tr>\n",
       "      <td>87</td>\n",
       "      <td>(21st, NUM)</td>\n",
       "      <td>(21st, DET)</td>\n",
       "      <td>(21st, NOUN)</td>\n",
       "      <td>(21st, NUM)</td>\n",
       "    </tr>\n",
       "    <tr>\n",
       "      <td>88</td>\n",
       "      <td>(FIFA, NOUN)</td>\n",
       "      <td>(FIFA, DET)</td>\n",
       "      <td>(FIFA, NOUN)</td>\n",
       "      <td>(FIFA, NOUN)</td>\n",
       "    </tr>\n",
       "    <tr>\n",
       "      <td>90</td>\n",
       "      <td>(Cup, NOUN)</td>\n",
       "      <td>(Cup, DET)</td>\n",
       "      <td>(Cup, NOUN)</td>\n",
       "      <td>(Cup, NOUN)</td>\n",
       "    </tr>\n",
       "    <tr>\n",
       "      <td>95</td>\n",
       "      <td>(tournament, NOUN)</td>\n",
       "      <td>(tournament, DET)</td>\n",
       "      <td>(tournament, NOUN)</td>\n",
       "      <td>(tournament, NOUN)</td>\n",
       "    </tr>\n",
       "    <tr>\n",
       "      <td>96</td>\n",
       "      <td>(contested, VERB)</td>\n",
       "      <td>(contested, DET)</td>\n",
       "      <td>(contested, NOUN)</td>\n",
       "      <td>(contested, VERB)</td>\n",
       "    </tr>\n",
       "    <tr>\n",
       "      <td>107</td>\n",
       "      <td>(Cup, NOUN)</td>\n",
       "      <td>(Cup, DET)</td>\n",
       "      <td>(Cup, NOUN)</td>\n",
       "      <td>(Cup, NOUN)</td>\n",
       "    </tr>\n",
       "    <tr>\n",
       "      <td>131</td>\n",
       "      <td>(trips, NOUN)</td>\n",
       "      <td>(trips, DET)</td>\n",
       "      <td>(trips, NOUN)</td>\n",
       "      <td>(trips, NOUN)</td>\n",
       "    </tr>\n",
       "    <tr>\n",
       "      <td>163</td>\n",
       "      <td>(arriving, NOUN)</td>\n",
       "      <td>(arriving, DET)</td>\n",
       "      <td>(arriving, NOUN)</td>\n",
       "      <td>(arriving, VERB)</td>\n",
       "    </tr>\n",
       "    <tr>\n",
       "      <td>168</td>\n",
       "      <td>(NASA, NOUN)</td>\n",
       "      <td>(NASA, DET)</td>\n",
       "      <td>(NASA, NOUN)</td>\n",
       "      <td>(NASA, NOUN)</td>\n",
       "    </tr>\n",
       "    <tr>\n",
       "      <td>169</td>\n",
       "      <td>(invited, VERB)</td>\n",
       "      <td>(invited, DET)</td>\n",
       "      <td>(invited, NOUN)</td>\n",
       "      <td>(invited, VERB)</td>\n",
       "    </tr>\n",
       "    <tr>\n",
       "      <td>178</td>\n",
       "      <td>(ICESAT-2, NOUN)</td>\n",
       "      <td>(ICESAT-2, DET)</td>\n",
       "      <td>(ICESAT-2, DET)</td>\n",
       "      <td>(ICESAT-2, NOUN)</td>\n",
       "    </tr>\n",
       "    <tr>\n",
       "      <td>179</td>\n",
       "      <td>(Satellite, NOUN)</td>\n",
       "      <td>(Satellite, DET)</td>\n",
       "      <td>(Satellite, NOUN)</td>\n",
       "      <td>(Satellite, NOUN)</td>\n",
       "    </tr>\n",
       "  </tbody>\n",
       "</table>\n",
       "</div>"
      ],
      "text/plain": [
       "             actual_tags as_tagged_by_vanilla_viterbi  \\\n",
       "0        (Android, NOUN)               (Android, DET)   \n",
       "8         (Google, NOUN)                (Google, DET)   \n",
       "10       (Android, NOUN)               (Android, DET)   \n",
       "15            (OS, NOUN)                    (OS, DET)   \n",
       "16     (worldwide, NOUN)             (worldwide, DET)   \n",
       "18   (smartphones, NOUN)           (smartphones, DET)   \n",
       "20           (2011, NUM)                  (2011, DET)   \n",
       "25           (2013, NUM)                  (2013, DET)   \n",
       "27        (Google, NOUN)                (Google, DET)   \n",
       "29       (Twitter, NOUN)               (Twitter, DET)   \n",
       "34           (2015, NUM)                  (2015, DET)   \n",
       "37        (Google, NOUN)                (Google, DET)   \n",
       "40       (Twitter, NOUN)               (Twitter, DET)   \n",
       "41             ('s, PRT)                   ('s, VERB)   \n",
       "42      (firehose, NOUN)              (firehose, DET)   \n",
       "44       (Twitter, NOUN)               (Twitter, DET)   \n",
       "47         (online, ADJ)                (online, DET)   \n",
       "58      (interact, NOUN)              (interact, DET)   \n",
       "60      (messages, NOUN)              (messages, DET)   \n",
       "63        (tweets, NOUN)                (tweets, DET)   \n",
       "73    (domineering, ADJ)           (domineering, DET)   \n",
       "78   (personality, NOUN)           (personality, DET)   \n",
       "81           (2018, NUM)                  (2018, DET)   \n",
       "82          (FIFA, NOUN)                  (FIFA, DET)   \n",
       "84           (Cup, NOUN)                   (Cup, DET)   \n",
       "87           (21st, NUM)                  (21st, DET)   \n",
       "88          (FIFA, NOUN)                  (FIFA, DET)   \n",
       "90           (Cup, NOUN)                   (Cup, DET)   \n",
       "95    (tournament, NOUN)            (tournament, DET)   \n",
       "96     (contested, VERB)             (contested, DET)   \n",
       "107          (Cup, NOUN)                   (Cup, DET)   \n",
       "131        (trips, NOUN)                 (trips, DET)   \n",
       "163     (arriving, NOUN)              (arriving, DET)   \n",
       "168         (NASA, NOUN)                  (NASA, DET)   \n",
       "169      (invited, VERB)               (invited, DET)   \n",
       "178     (ICESAT-2, NOUN)              (ICESAT-2, DET)   \n",
       "179    (Satellite, NOUN)             (Satellite, DET)   \n",
       "\n",
       "    as_tagged_by_Vanilla_Viterbi_for_Unknown_Words  \\\n",
       "0                                  (Android, NOUN)   \n",
       "8                                    (Google, DET)   \n",
       "10                                 (Android, NOUN)   \n",
       "15                                      (OS, NOUN)   \n",
       "16                               (worldwide, NOUN)   \n",
       "18                              (smartphones, DET)   \n",
       "20                                     (2011, DET)   \n",
       "25                                     (2013, DET)   \n",
       "27                                  (Google, NOUN)   \n",
       "29                                 (Twitter, NOUN)   \n",
       "34                                     (2015, DET)   \n",
       "37                                     (Google, X)   \n",
       "40                                 (Twitter, VERB)   \n",
       "41                                       ('s, PRT)   \n",
       "42                                (firehose, VERB)   \n",
       "44                                 (Twitter, NOUN)   \n",
       "47                                  (online, NOUN)   \n",
       "58                                (interact, NOUN)   \n",
       "60                                 (messages, DET)   \n",
       "63                                   (tweets, DET)   \n",
       "73                             (domineering, NOUN)   \n",
       "78                             (personality, NOUN)   \n",
       "81                                    (2018, NOUN)   \n",
       "82                                    (FIFA, NOUN)   \n",
       "84                                     (Cup, NOUN)   \n",
       "87                                    (21st, NOUN)   \n",
       "88                                    (FIFA, NOUN)   \n",
       "90                                     (Cup, NOUN)   \n",
       "95                              (tournament, NOUN)   \n",
       "96                               (contested, NOUN)   \n",
       "107                                    (Cup, NOUN)   \n",
       "131                                  (trips, NOUN)   \n",
       "163                               (arriving, NOUN)   \n",
       "168                                   (NASA, NOUN)   \n",
       "169                                (invited, NOUN)   \n",
       "178                                (ICESAT-2, DET)   \n",
       "179                              (Satellite, NOUN)   \n",
       "\n",
       "    as_tagged_by_Vanilla_Viterbi_backed_by_trigram_tagger  \n",
       "0                                      (Android, NOUN)     \n",
       "8                                       (Google, NOUN)     \n",
       "10                                     (Android, NOUN)     \n",
       "15                                          (OS, NOUN)     \n",
       "16                                   (worldwide, NOUN)     \n",
       "18                                 (smartphones, VERB)     \n",
       "20                                         (2011, NUM)     \n",
       "25                                         (2013, NUM)     \n",
       "27                                      (Google, NOUN)     \n",
       "29                                     (Twitter, NOUN)     \n",
       "34                                         (2015, NUM)     \n",
       "37                                      (Google, NOUN)     \n",
       "40                                     (Twitter, NOUN)     \n",
       "41                                           ('s, PRT)     \n",
       "42                                    (firehose, NOUN)     \n",
       "44                                     (Twitter, NOUN)     \n",
       "47                                      (online, NOUN)     \n",
       "58                                    (interact, NOUN)     \n",
       "60                                    (messages, VERB)     \n",
       "63                                      (tweets, NOUN)     \n",
       "73                                 (domineering, VERB)     \n",
       "78                                 (personality, NOUN)     \n",
       "81                                         (2018, NUM)     \n",
       "82                                        (FIFA, NOUN)     \n",
       "84                                         (Cup, NOUN)     \n",
       "87                                         (21st, NUM)     \n",
       "88                                        (FIFA, NOUN)     \n",
       "90                                         (Cup, NOUN)     \n",
       "95                                  (tournament, NOUN)     \n",
       "96                                   (contested, VERB)     \n",
       "107                                        (Cup, NOUN)     \n",
       "131                                      (trips, NOUN)     \n",
       "163                                   (arriving, VERB)     \n",
       "168                                       (NASA, NOUN)     \n",
       "169                                    (invited, VERB)     \n",
       "178                                   (ICESAT-2, NOUN)     \n",
       "179                                  (Satellite, NOUN)     "
      ]
     },
     "execution_count": 79,
     "metadata": {},
     "output_type": "execute_result"
    }
   ],
   "source": [
    "cols1 = ['actual_tags', 'as_tagged_by_vanilla_viterbi', 'as_tagged_by_Vanilla_Viterbi_for_Unknown_Words',\n",
    "            'as_tagged_by_Vanilla_Viterbi_backed_by_trigram_tagger']\n",
    "\n",
    "tags_comparison_df = pd.DataFrame(columns = cols1)\n",
    "tags_comparison_df = tags_comparison_df.fillna(0)\n",
    "\n",
    "# Actual tags\n",
    "tags_comparison_df.actual_tags = [tup for tup in sample_test_test_run_base]\n",
    "\n",
    "# tags by vanilla viterbi\n",
    "tags_comparison_df.as_tagged_by_vanilla_viterbi = [tup for tup in sample_test_tagged_sequence_with_vanilla_viterbi]\n",
    "\n",
    "# tags by Vanilla_Viterbi_for_Unknown_Words - METHOD - 1\n",
    "tags_comparison_df.as_tagged_by_Vanilla_Viterbi_for_Unknown_Words = [tup for tup in sample_test_tagged_sequence_unknown_words]\n",
    "\n",
    "# tags by viterbi_backedup_by_trigram_tagger - METHOD - 2\n",
    "tags_comparison_df.as_tagged_by_Vanilla_Viterbi_backed_by_trigram_tagger = [tup for tup in \n",
    "                                                                            sample_test_tagged_sequence_with_viterbi_trigram]\n",
    "\n",
    "tags_comparison_df[tags_comparison_df.as_tagged_by_vanilla_viterbi != \n",
    "                   tags_comparison_df.as_tagged_by_Vanilla_Viterbi_backed_by_trigram_tagger]"
   ]
  },
  {
   "cell_type": "markdown",
   "metadata": {},
   "source": [
    "# Conclusion - \n",
    "\n",
    "#### We see that most of the words that were incorrectly tagged by the VANILLA VITERBI algorithm were corrected by the \"Viterbi Algorithm backed up by the Trigram Tagger\". \n",
    "\n",
    "\n",
    "#### Method 1: Vanilla Viterbi\n",
    "    - The vanilla viterbi gives us an accuracy of 89.6%, on the test data. Hence it predicts more incorrect tags.\n",
    "    - The testing accuracy on the provided sample data is seen to 75.2%. This proves that the vanilla viterbi performs poorly on sample data.\n",
    "\n",
    "**We have used 2 modification techniques of the Vanilla Viterbi method in order to imporove the accuracy -**\n",
    "\n",
    "#### Method 2.A : -  Modified Vanilla Viterbi - I (only the transition probability for unknown words is used)\n",
    "    - This method showed an increase in the accuracy (93.72%) but still had some incorrect classification.\n",
    "    - The accuracy could be increased further and so we turned two a second modification in method-2 below.\n",
    "    - Also the performance is observed to be quite improved over the vanilla viterbi in the provided sample data, since we get an accuracy of 86.2%.\n",
    "    \n",
    "#### Method 2.B : - Modified Vanilla Viterbi - II (The viterbi algorithm is backed it up with the trigram tagger which was backed up by the rule based regex tagger.)\n",
    "    - This method gave an accuracy of 96.14% on the test data which turns out to be the winner in our case.\n",
    "    - The testing accuracy of this model on the provided sample test data is seen as 92.82% which is the highest as compared to the other two methods.\n",
    "    "
   ]
  },
  {
   "cell_type": "markdown",
   "metadata": {},
   "source": [
    "**Accuracies of each method are as listed below**\n",
    "    \n",
    "    Vanilla Viterbi\t--> 89.582505\n",
    "    Vanilla Viterbi Modified\t-->\t93.717694\n",
    "    Unigram Tagger\t-->\t89.483101\n",
    "    Unigram + RegexpTagger\t-->\t93.777336\n",
    "    Bigram Tagger + Unigram_tagger\t-->\t94.155070\n",
    "    Trigram Tagger + Bigram_tagger\t-->\t93.956262\n",
    "    Viterbi + Trigram_tagger\t-->\t96.14314"
   ]
  },
  {
   "cell_type": "code",
   "execution_count": null,
   "metadata": {},
   "outputs": [],
   "source": []
  }
 ],
 "metadata": {
  "kernelspec": {
   "display_name": "Python 3",
   "language": "python",
   "name": "python3"
  },
  "language_info": {
   "codemirror_mode": {
    "name": "ipython",
    "version": 3
   },
   "file_extension": ".py",
   "mimetype": "text/x-python",
   "name": "python",
   "nbconvert_exporter": "python",
   "pygments_lexer": "ipython3",
   "version": "3.7.4"
  }
 },
 "nbformat": 4,
 "nbformat_minor": 2
}
